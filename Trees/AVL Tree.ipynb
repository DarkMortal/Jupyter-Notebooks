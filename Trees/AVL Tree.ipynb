{
 "cells": [
  {
   "cell_type": "markdown",
   "id": "bd27283e-3c8f-4ab9-8b92-d2ec4f178883",
   "metadata": {},
   "source": [
    "# AVL Trees\n",
    "<br/>\n",
    "\n",
    "AVL trees are self-balancing binary search trees that keep the height difference between left and right subtrees of any node at most 1. This guarantees $O(\\log n)$ time complexity for search, insertion, and deletion operations, ensuring efficient and predictable performance even after many updates. They automatically perform rotations after insertions or deletions to maintain balance, making them well-suited for applications requiring fast lookups and consistent operation times."
   ]
  },
  {
   "cell_type": "code",
   "execution_count": 1,
   "id": "aed4bb61-e661-40de-8c7c-b1c20f578ac2",
   "metadata": {},
   "outputs": [],
   "source": [
    "class Node:\n",
    "    def __init__(self, value_ = 0):\n",
    "        self.value = value_\n",
    "        self.left = None\n",
    "        self.right = None\n",
    "        self.height = 1\n",
    "\n",
    "    def __eq__(self, other: object):\n",
    "        if other is None:\n",
    "            return False\n",
    "        return self.value == other.value"
   ]
  },
  {
   "cell_type": "markdown",
   "id": "8af25304-9414-49ed-b2fe-81c4ecc2ad9d",
   "metadata": {},
   "source": [
    "## Function to insert a new node"
   ]
  },
  {
   "cell_type": "code",
   "execution_count": 2,
   "id": "d6d65237-3e72-49a3-8dc7-be9914956156",
   "metadata": {},
   "outputs": [],
   "source": [
    "def insert(self, value_: int):\n",
    "    if value_ < self.value:\n",
    "        if self.left is None:\n",
    "            self.left = Node(value_)\n",
    "        else:\n",
    "            self.left.insert(value_)\n",
    "    if value_ > self.value:\n",
    "        if self.right is None:\n",
    "            self.right = Node(value_)\n",
    "        else:\n",
    "            self.right.insert(value_)\n",
    "    leftHeight = (0 if self.left is None else self.left.height)\n",
    "    rightHeight = (0 if self.right is None else self.right.height)\n",
    "    self.height = max(leftHeight, rightHeight) + 1"
   ]
  },
  {
   "cell_type": "markdown",
   "id": "b911341e-2dd6-47a1-9977-cafdde7858b8",
   "metadata": {},
   "source": [
    "## Function to traverse a tree"
   ]
  },
  {
   "cell_type": "code",
   "execution_count": 3,
   "id": "673b8f8d-075d-4f11-9f7d-e06660582a3c",
   "metadata": {},
   "outputs": [],
   "source": [
    "def traverse(self, indicator_ = \"root\"):\n",
    "    print(f\"{indicator_}: {self.value} {self.height}h\")\n",
    "    \n",
    "    if not self.left is None:\n",
    "        self.left.traverse(\"left\")\n",
    "    if not self.right is None:\n",
    "        self.right.traverse(\"right\")"
   ]
  },
  {
   "cell_type": "markdown",
   "id": "b77fdae3-0122-4a0e-9e2b-d4a0a9d9cee5",
   "metadata": {},
   "source": [
    "## Binding the methods to the class"
   ]
  },
  {
   "cell_type": "code",
   "execution_count": 4,
   "id": "c489eb26-0771-4899-89c5-b39029fabf07",
   "metadata": {},
   "outputs": [],
   "source": [
    "Node.insert = insert\n",
    "Node.traverse = traverse"
   ]
  },
  {
   "cell_type": "markdown",
   "id": "1a0ae6e5-77cd-4d7b-9f6b-498a68d61a29",
   "metadata": {},
   "source": [
    "## Function to update the height of a node"
   ]
  },
  {
   "cell_type": "code",
   "execution_count": 5,
   "id": "a6b21b94-5aab-4b17-936d-7343a46d435c",
   "metadata": {},
   "outputs": [],
   "source": [
    "def updateHeight(node: Node):\n",
    "    leftHeight = (0 if node.left is None else node.left.height)\n",
    "    rightHeight = (0 if node.right is None else node.right.height)\n",
    "    node.height = max(leftHeight, rightHeight) + 1"
   ]
  },
  {
   "cell_type": "markdown",
   "id": "d3692694-9571-4939-bbf2-f502088086d8",
   "metadata": {},
   "source": [
    "## Function to visualize mermaid"
   ]
  },
  {
   "cell_type": "code",
   "execution_count": 6,
   "id": "777e6f8c-3aed-4eff-919d-2f25c1b2bef5",
   "metadata": {},
   "outputs": [],
   "source": [
    "import base64\n",
    "from IPython.display import Image, display\n",
    "\n",
    "def mm(graph):\n",
    "    graphbytes = graph.encode(\"utf8\")\n",
    "    base64_bytes = base64.urlsafe_b64encode(graphbytes)\n",
    "    base64_string = base64_bytes.decode(\"ascii\")\n",
    "    display(Image(url=\"https://mermaid.ink/img/\" + base64_string))"
   ]
  },
  {
   "attachments": {},
   "cell_type": "markdown",
   "id": "d0bffd58-ea94-4d97-ac47-43e107168fa9",
   "metadata": {},
   "source": [
    "## Rotations in AVL Tree"
   ]
  },
  {
   "cell_type": "code",
   "execution_count": 7,
   "id": "b3f10e82-e9d6-481e-b3c9-331c6658451a",
   "metadata": {},
   "outputs": [
    {
     "data": {
      "text/html": [
       "<img src=\"https://mermaid.ink/img/CmdyYXBoIFJMOwogICAgQTEoQSkKICAgIEEyKEEpCiAgICBCMShCKQogICAgQjIoQikKICAgIFgxKFgpCiAgICBYMihYKQogICAgWTEoWSkKICAgIFkyKFkpCiAgICBaMShaKQogICAgWjIoWikKICAgIAogICAgc3ViZ3JhcGggVHJlZTEKICAgICAgICBBMS0tPlgxOwogICAgICAgIEExLS0-QjE7CiAgICAgICAgQjEtLT5ZMTsKICAgICAgICBCMS0tPloxOwogICAgZW5kCgogICAgc3ViZ3JhcGggVHJlZTIKICAgICAgICBCMi0tPkEyOwogICAgICAgIEIyLS0-WjI7CiAgICAgICAgQTItLT5YMjsKICAgICAgICBBMi0tPlkyOwogICAgZW5kCiAgICBUcmVlMSAtLUxlZnQgcm90YXRpb24tLT4gVHJlZTIKICAgIFRyZWUyIC0tUmlnaHQgcm90YXRpb24tLT4gVHJlZTEK\"/>"
      ],
      "text/plain": [
       "<IPython.core.display.Image object>"
      ]
     },
     "metadata": {},
     "output_type": "display_data"
    }
   ],
   "source": [
    "mm(\"\"\"\n",
    "graph RL;\n",
    "    A1(A)\n",
    "    A2(A)\n",
    "    B1(B)\n",
    "    B2(B)\n",
    "    X1(X)\n",
    "    X2(X)\n",
    "    Y1(Y)\n",
    "    Y2(Y)\n",
    "    Z1(Z)\n",
    "    Z2(Z)\n",
    "    \n",
    "    subgraph Tree1\n",
    "        A1-->X1;\n",
    "        A1-->B1;\n",
    "        B1-->Y1;\n",
    "        B1-->Z1;\n",
    "    end\n",
    "\n",
    "    subgraph Tree2\n",
    "        B2-->A2;\n",
    "        B2-->Z2;\n",
    "        A2-->X2;\n",
    "        A2-->Y2;\n",
    "    end\n",
    "    Tree1 --Left rotation--> Tree2\n",
    "    Tree2 --Right rotation--> Tree1\n",
    "\"\"\")"
   ]
  },
  {
   "cell_type": "markdown",
   "id": "7b96f01b-7ecc-46e8-9591-a9ba3e94369e",
   "metadata": {},
   "source": [
    "## Function to left-rotate a node"
   ]
  },
  {
   "cell_type": "code",
   "execution_count": 8,
   "id": "34577c52-bbac-4952-bc12-a0e7460349c0",
   "metadata": {},
   "outputs": [],
   "source": [
    "def leftRotate(rootNode: Node) -> Node:\n",
    "    rightNode = rootNode.right\n",
    "    rightLeftNode = rightNode.left\n",
    "    rightNode.left = rootNode\n",
    "    rootNode.right = rightLeftNode\n",
    "\n",
    "    # updating the new heights\n",
    "    updateHeight(rootNode)\n",
    "    updateHeight(rightNode)\n",
    "\n",
    "    return rightNode"
   ]
  },
  {
   "cell_type": "markdown",
   "id": "f11aee42-54e7-48b4-8956-1d875618b190",
   "metadata": {},
   "source": [
    "## Function to right-rotate a node"
   ]
  },
  {
   "cell_type": "code",
   "execution_count": 9,
   "id": "bbf1b247-c876-49ba-896d-3f5191c45cda",
   "metadata": {},
   "outputs": [],
   "source": [
    "def rightRotate(rootNode: Node) -> Node:\n",
    "    leftNode = rootNode.left\n",
    "    leftRightNode = leftNode.left\n",
    "    leftNode.right = rootNode\n",
    "    rootNode.left = leftRightNode\n",
    "\n",
    "    # updating the new heights\n",
    "    updateHeight(rootNode)\n",
    "    updateHeight(leftNode)\n",
    "\n",
    "    return leftNode"
   ]
  },
  {
   "cell_type": "markdown",
   "id": "f115bc46-ab16-49f5-b7e0-738a6ae6be5e",
   "metadata": {},
   "source": [
    "**Note:** Both the left and right rotation functions run in $O(1)$ time complexity.\n",
    "## Algorithm\n",
    "1. **Base Case:**\n",
    "If the current node (`rootNode`) is `None`, return `None`.\n",
    "2. **Recursively Balance Left Subtree:**\n",
    "Call `balanceTree` on `rootNode.left` and update `rootNode.left` with the returned balanced subtree.\n",
    "3. **Recursively Balance Right Subtree:**\n",
    "Call `balanceTree` on `rootNode.right` and update `rootNode.right` with the returned balanced subtree.\n",
    "4. **Update the Height of the Current Node:**\n",
    "    - Calculate the height of the left child:\n",
    "`leftHeight = 0` if `rootNode.left` is `None` else `rootNode.left.height`\n",
    "    - Calculate the height of the right child:\n",
    "`rightHeight = 0` if `rootNode.right` is `None` else `rootNode.right.height`\n",
    "    - Update current node’s height:\n",
    "`rootNode.height = 1 + max(leftHeight, rightHeight)`\n",
    "5. **Calculate the Balance Factor of Current Node:**\n",
    "`balanceFactor = leftHeight - rightHeight`\n",
    "6. **Check if Current Node is Unbalanced:**\n",
    "    - If `abs(balanceFactor) < 2`, the node is balanced; **no rotations needed**. Return `rootNode`.\n",
    "    - Else the node is unbalanced. Determine whether the imbalance is left-heavy or right-heavy:\n",
    "        - **Left-heavy:** `balanceFactor > 1`\n",
    "        - **Right-heavy:** `balanceFactor < -1`\n",
    "7. **For Left-heavy Cases (balanceFactor > 1):**\n",
    "    - Compute left child’s balance factor:\n",
    "\n",
    "    ```\n",
    "    leftChildBalance = (height of left child's left subtree) - (height of left child's right subtree)\n",
    "    ```\n",
    "    - **If leftChildBalance >= 0** (Left-Left Case):\n",
    "        - Perform a **right rotation** on `rootNode`.\n",
    "        - Return the new subtree root after rotation.\n",
    "    - **Else (Left-Right Case):**\n",
    "        - Perform a **left rotation** on `rootNode.left`.\n",
    "        - Perform a **right rotation** on `rootNode`.\n",
    "        - Return the new subtree root after rotations.\n",
    "8. **For Right-heavy Cases (balanceFactor < -1):**\n",
    "    - Compute right child’s balance factor.\n",
    "    ```\n",
    "    rightChildBalance = (height of right child's left subtree) - (height of right child's right subtree)\n",
    "    ```\n",
    "    - **If rightChildBalance <= 0** (Right-Right Case):\n",
    "        - Perform a **left rotation** on `rootNode`.\n",
    "        - Return the new subtree root after rotation.\n",
    "    - **Else (Right-Left Case):**\n",
    "        - Perform a **right rotation** on `rootNode.right`.\n",
    "        - Perform a **left rotation** on `rootNode`.\n",
    "        - Return the new subtree root after rotations.\n",
    "***\n",
    "## Function to balance a BST"
   ]
  },
  {
   "cell_type": "code",
   "execution_count": 10,
   "id": "6eec5799-4784-4da3-b146-4f0359bb6be1",
   "metadata": {},
   "outputs": [],
   "source": [
    "def balanceTree(rootNode: Node) -> Node:\n",
    "    if rootNode is None:\n",
    "        return\n",
    "    rootNode.left = balanceTree(rootNode.left)\n",
    "    rootNode.right = balanceTree(rootNode.right)\n",
    "\n",
    "    # calculating the balance factor\n",
    "    leftHeight = (0 if rootNode.left is None else rootNode.left.height)\n",
    "    rightHeight = (0 if rootNode.right is None else rootNode.right.height)\n",
    "    balanceFactor = leftHeight - rightHeight\n",
    "    if abs(balanceFactor) >= 2:\n",
    "        # right skewed\n",
    "        if balanceFactor < 0:\n",
    "            # print(\"Right skewed\")\n",
    "            return leftRotate(rootNode)\n",
    "        # left skewed\n",
    "        elif balanceFactor > 0:\n",
    "            # print(\"Left skewed\")\n",
    "            return rightRotate(rootNode)\n",
    "    return rootNode"
   ]
  },
  {
   "cell_type": "markdown",
   "id": "e54d4a0a-0111-47cb-b359-475309ec59ef",
   "metadata": {},
   "source": [
    "## Drive code"
   ]
  },
  {
   "cell_type": "code",
   "execution_count": 11,
   "id": "5fe02557-7d00-4af2-a50c-25eae5194a8f",
   "metadata": {},
   "outputs": [
    {
     "name": "stdout",
     "output_type": "stream",
     "text": [
      "root: 50 4h\n",
      "left: 10 1h\n",
      "right: 70 3h\n",
      "left: 60 1h\n",
      "right: 80 2h\n",
      "left: 75 1h\n",
      "right: 90 1h\n"
     ]
    }
   ],
   "source": [
    "arr = [50, 10, 70, 60, 80, 75, 90]\n",
    "\n",
    "root = Node(arr[0])\n",
    "for i in range(1, len(arr)):\n",
    "    root.insert(arr[i])\n",
    "root.traverse()"
   ]
  },
  {
   "cell_type": "markdown",
   "id": "5419e7e4-586e-4b3a-91c9-1c748a86f7e8",
   "metadata": {},
   "source": [
    "## Visualizing the unbalanced BST"
   ]
  },
  {
   "cell_type": "code",
   "execution_count": 12,
   "id": "eaa33f88-9ce8-4567-a3c9-e0a47f2fe55d",
   "metadata": {},
   "outputs": [
    {
     "data": {
      "text/html": [
       "<img src=\"https://mermaid.ink/img/CmdyYXBoIFRECiAgICA1MCAtLT4gNzA7CiAgICA1MCAtLT4gMTA7CiAgICA3MCAtLT4gODA7CiAgICA3MCAtLT4gNjA7CiAgICA4MCAtLT4gOTA7CiAgICA4MCAtLT4gNzU7Cg==\"/>"
      ],
      "text/plain": [
       "<IPython.core.display.Image object>"
      ]
     },
     "metadata": {},
     "output_type": "display_data"
    }
   ],
   "source": [
    "mm(\"\"\"\n",
    "graph TD\n",
    "    50 --> 70;\n",
    "    50 --> 10;\n",
    "    70 --> 80;\n",
    "    70 --> 60;\n",
    "    80 --> 90;\n",
    "    80 --> 75;\n",
    "\"\"\");"
   ]
  },
  {
   "cell_type": "markdown",
   "id": "96cf5ffd-43fe-4309-8656-2fbd33c50473",
   "metadata": {},
   "source": [
    "***\n",
    "## Balancing the BST"
   ]
  },
  {
   "cell_type": "code",
   "execution_count": 13,
   "id": "e9b3ec6d-d849-4202-abe3-6d157f13d2bb",
   "metadata": {},
   "outputs": [
    {
     "name": "stdout",
     "output_type": "stream",
     "text": [
      "root: 70 3h\n",
      "left: 50 2h\n",
      "left: 10 1h\n",
      "right: 60 1h\n",
      "right: 80 2h\n",
      "left: 75 1h\n",
      "right: 90 1h\n"
     ]
    }
   ],
   "source": [
    "root = balanceTree(root)\n",
    "root.traverse()"
   ]
  },
  {
   "cell_type": "markdown",
   "id": "452fc24c-7674-40cf-8196-dceef68fd636",
   "metadata": {},
   "source": [
    "## Visualizing the balanced BST"
   ]
  },
  {
   "cell_type": "code",
   "execution_count": 14,
   "id": "4285d6b1-004c-4a87-a0f4-65c4fb597b24",
   "metadata": {},
   "outputs": [
    {
     "data": {
      "text/html": [
       "<img src=\"https://mermaid.ink/img/CmdyYXBoIFRECiAgICA3MCAtLT4gNTA7CiAgICA3MCAtLT4gODA7CiAgICA1MCAtLT4gMTA7CiAgICA1MCAtLT4gNjA7CiAgICA4MCAtLT4gNzU7CiAgICA4MCAtLT4gOTA7Cg==\"/>"
      ],
      "text/plain": [
       "<IPython.core.display.Image object>"
      ]
     },
     "metadata": {},
     "output_type": "display_data"
    }
   ],
   "source": [
    "mm(\"\"\"\n",
    "graph TD\n",
    "    70 --> 50;\n",
    "    70 --> 80;\n",
    "    50 --> 10;\n",
    "    50 --> 60;\n",
    "    80 --> 75;\n",
    "    80 --> 90;\n",
    "\"\"\")"
   ]
  },
  {
   "cell_type": "markdown",
   "id": "fcf89896-9fad-4192-9138-3994fd8c5c4b",
   "metadata": {},
   "source": [
    "***"
   ]
  }
 ],
 "metadata": {
  "kernelspec": {
   "display_name": "Python kernel developed by Saptarshi Dey",
   "language": "python",
   "name": "python3"
  },
  "language_info": {
   "codemirror_mode": {
    "name": "ipython",
    "version": 3
   },
   "file_extension": ".py",
   "mimetype": "text/x-python",
   "name": "python",
   "nbconvert_exporter": "python",
   "pygments_lexer": "ipython3",
   "version": "3.8.10"
  },
  "widgets": {
   "application/vnd.jupyter.widget-state+json": {
    "state": {},
    "version_major": 2,
    "version_minor": 0
   }
  }
 },
 "nbformat": 4,
 "nbformat_minor": 5
}
