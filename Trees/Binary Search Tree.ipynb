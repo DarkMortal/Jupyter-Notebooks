{
 "cells": [
  {
   "cell_type": "markdown",
   "id": "96a3ade6-05e0-4485-99c3-aa83c41b8e75",
   "metadata": {},
   "source": [
    "# Binary Search Tree\n",
    "<br/>\n",
    "A binary search tree is a binary tree where, for every node, all values in its left subtree are smaller and all values in its right subtree are larger."
   ]
  },
  {
   "cell_type": "code",
   "execution_count": 1,
   "id": "96f18f70-26b8-4de6-9d18-15de4fb2c2d5",
   "metadata": {},
   "outputs": [],
   "source": [
    "arr = [6, 3, 11, 5, 7, 18, 12, 2, 13]"
   ]
  },
  {
   "cell_type": "markdown",
   "id": "21aa94e9-fe6f-4483-9031-d9f470e6102e",
   "metadata": {},
   "source": [
    "## Definition of Node class"
   ]
  },
  {
   "cell_type": "code",
   "execution_count": 2,
   "id": "fb97a9d3-c5f4-4aa7-85f3-71a5cb7ff0aa",
   "metadata": {},
   "outputs": [],
   "source": [
    "from types import MethodType\n",
    "from typing import List, Optional, Tuple\n",
    "\n",
    "class Node:\n",
    "    def __init__(self, value_ = 0):\n",
    "        self.value = value_\n",
    "        self.left = None\n",
    "        self.right = None\n",
    "\n",
    "    def __eq__(self, other: object):\n",
    "        if other is None:\n",
    "            return False\n",
    "        return self.value == other.value"
   ]
  },
  {
   "cell_type": "markdown",
   "id": "4e49a040-9cc6-4bce-98b8-e030eda9790b",
   "metadata": {},
   "source": [
    "## Method to insert a new value in the tree"
   ]
  },
  {
   "cell_type": "code",
   "execution_count": 3,
   "id": "146ff77d-e223-4468-b146-b544309861f8",
   "metadata": {},
   "outputs": [],
   "source": [
    "def insert(self, value_: int):\n",
    "    if value_ < self.value:\n",
    "        if self.left is None:\n",
    "            self.left = Node(value_)\n",
    "        else:\n",
    "            self.left.insert(value_)\n",
    "    if value_ > self.value:\n",
    "        if self.right is None:\n",
    "            self.right = Node(value_)\n",
    "        else:\n",
    "            self.right.insert(value_)"
   ]
  },
  {
   "cell_type": "markdown",
   "id": "e788ad91-5265-4f6a-be6f-88d2f7bd2063",
   "metadata": {},
   "source": [
    "## Method to traverse the tree"
   ]
  },
  {
   "cell_type": "code",
   "execution_count": 4,
   "id": "4529bfa9-2791-42c7-9439-e8d0b8723229",
   "metadata": {},
   "outputs": [],
   "source": [
    "def traverse(self, indicator_ = \"root\"):\n",
    "    print(f\"{indicator_} = {self.value}\")\n",
    "    \n",
    "    if not self.left is None:\n",
    "        self.left.traverse(\"left\")\n",
    "    if not self.right is None:\n",
    "        self.right.traverse(\"right\")"
   ]
  },
  {
   "cell_type": "markdown",
   "id": "d1a86c18-ff37-4bbf-8a2d-5c82f285ed98",
   "metadata": {},
   "source": [
    "## Method to search for a key in the tree"
   ]
  },
  {
   "cell_type": "code",
   "execution_count": 5,
   "id": "a3f493db-8b3a-4438-ab4b-93e2e3e0eec5",
   "metadata": {},
   "outputs": [],
   "source": [
    "def search(self, value_: int) -> bool:\n",
    "    if self.value == value_:\n",
    "        return True\n",
    "    \n",
    "    if value_ < self.value:\n",
    "        if self.left is None:\n",
    "            return False\n",
    "        return self.left.search(value_)\n",
    "    \n",
    "    if value_ > self.value:\n",
    "        if self.right is None:\n",
    "            return False\n",
    "        return self.right.search(value_)"
   ]
  },
  {
   "cell_type": "markdown",
   "id": "b2bf3565-5b51-4ce2-8117-a65c985eade3",
   "metadata": {},
   "source": [
    "## Method to find the maximum and minumum nodes of the tree"
   ]
  },
  {
   "cell_type": "code",
   "execution_count": 6,
   "id": "3253debf-4533-4a67-90f2-4d25415ee193",
   "metadata": {},
   "outputs": [],
   "source": [
    "def __findMinMaxNode__(self, deleteNode = False, minQuery = True) -> object:\n",
    "    currentNode = self\n",
    "    prevNode = None\n",
    "\n",
    "    if minQuery:\n",
    "        while not currentNode.left is None:\n",
    "            if deleteNode:\n",
    "                prevNode = currentNode\n",
    "            currentNode = currentNode.left\n",
    "    else:\n",
    "        while not currentNode.right is None:\n",
    "            if deleteNode:\n",
    "                prevNode = currentNode\n",
    "            currentNode = currentNode.right\n",
    "\n",
    "    if deleteNode and not prevNode is None:\n",
    "        if minQuery:\n",
    "            prevNode.left = None\n",
    "        else:\n",
    "            prevNode.right = None\n",
    "    return currentNode\n",
    "\n",
    "def findMinMaxValue(self, minQuery = True) -> int:\n",
    "    return self.__findMinMaxNode__(False, minQuery).value"
   ]
  },
  {
   "cell_type": "markdown",
   "id": "667850bd-1ae4-46fa-bb30-050fd356e109",
   "metadata": {},
   "source": [
    "## Method to delete a node of the tree"
   ]
  },
  {
   "cell_type": "code",
   "execution_count": 7,
   "id": "d20a9396-77b0-4ac3-b46e-1bdf8d2e1bf6",
   "metadata": {},
   "outputs": [],
   "source": [
    "def deleteNode(self, value_: int, isRootNode = True) -> Tuple[bool, Optional[object]]:\n",
    "    if self.value == value_:  # base condition\n",
    "\n",
    "        if isRootNode:\n",
    "            # case 1: leaf node\n",
    "            if self.left is None and self.right is None:\n",
    "                self.value = 0\n",
    "                self.left, self.right = None, None\n",
    "                return None\n",
    "            \n",
    "            # case 2: if node has only 1 child\n",
    "            if self.left is None and not self.right is None:\n",
    "                self.value = self.right.value\n",
    "                self.left = self.right.left\n",
    "                self.right = self.right.right\n",
    "                return None\n",
    "            \n",
    "            if not self.left is None and self.right is None:\n",
    "                self.value = self.left.value\n",
    "                self.left = self.left.left\n",
    "                self.right = self.left.right\n",
    "                return None\n",
    "            \n",
    "            newNode = self.right.__findMinMaxNode__(deleteNode = True)\n",
    "            self.right.left = newNode.right          \n",
    "            self.value = newNode.value\n",
    "            return None\n",
    "        \n",
    "        # case 1: leaf node\n",
    "        if self.left is None and self.right is None:\n",
    "            return (True, None)\n",
    "        \n",
    "        # case 2: if node has only 1 child\n",
    "        if self.left is None and not self.right is None:\n",
    "            return (True, self.right)\n",
    "        if not self.left is None and self.right is None:\n",
    "            return (True, self.left)\n",
    "        \n",
    "        # case 3: has both children\n",
    "        # method-1: inorder successor (minimum of right sub-tree)\n",
    "        newNode = self.right.__findMinMaxNode__(deleteNode = True)\n",
    "        self.right.left = newNode.right\n",
    "\n",
    "        # method-2: inorder predecessor (maximum of left sub-tree)\n",
    "        # newNode  = self.left.__findMinMaxNode__(True, False)\n",
    "        # self.left.right = newNode.left\n",
    "\n",
    "        if not newNode == self.left:\n",
    "            newNode.left = self.left\n",
    "        if not newNode == self.right:\n",
    "            newNode.right = self.right\n",
    "\n",
    "        return (True, newNode)\n",
    "    \n",
    "    if value_ < self.value:\n",
    "        if self.left is None:\n",
    "            raise IndexError(\"Key not found\")\n",
    "        remove, node = self.left.deleteNode(value_, False)\n",
    "\n",
    "        if remove:\n",
    "            self.left = node\n",
    "    \n",
    "    if value_ > self.value:\n",
    "        if self.right is None:\n",
    "            raise IndexError(\"Key not found\")\n",
    "        remove, node = self.right.deleteNode(value_, False)\n",
    "\n",
    "        if remove:\n",
    "            self.right = node\n",
    "\n",
    "    return (False, None)"
   ]
  },
  {
   "cell_type": "markdown",
   "id": "058069b6-054b-4384-bba4-e825d08d5750",
   "metadata": {},
   "source": [
    "## Binding all the methods to the class"
   ]
  },
  {
   "cell_type": "code",
   "execution_count": 8,
   "id": "8d5d3ad1-3803-4caa-a546-c6b69555cb85",
   "metadata": {},
   "outputs": [],
   "source": [
    "Node.insert = insert\n",
    "Node.search = search\n",
    "Node.traverse = traverse\n",
    "Node.__findMinMaxNode__ = __findMinMaxNode__\n",
    "Node.findMinMaxValue = findMinMaxValue\n",
    "Node.deleteNode = deleteNode"
   ]
  },
  {
   "cell_type": "markdown",
   "id": "bbf7af03-65ed-4d8d-b057-470c3259b6e5",
   "metadata": {},
   "source": [
    "## Method to create a binary tree from an array"
   ]
  },
  {
   "cell_type": "code",
   "execution_count": 9,
   "id": "73b60012-c2e5-4d3f-b5f6-aa53e383236a",
   "metadata": {},
   "outputs": [],
   "source": [
    "def createBinarySearchTree(array: List[int], rootNode: Node):\n",
    "    rootNode.value = array[0]\n",
    "\n",
    "    for i in range(1, len(array)):\n",
    "        rootNode.insert(array[i])"
   ]
  },
  {
   "cell_type": "markdown",
   "id": "3a76dfee-4a25-4b01-b096-4f74b54ccb4f",
   "metadata": {},
   "source": [
    "## Driver code"
   ]
  },
  {
   "cell_type": "code",
   "execution_count": 10,
   "id": "cb90e909-96b4-4e30-8e81-602a9586892d",
   "metadata": {},
   "outputs": [
    {
     "name": "stdout",
     "output_type": "stream",
     "text": [
      "root = 6\n",
      "left = 3\n",
      "left = 2\n",
      "right = 5\n",
      "right = 11\n",
      "left = 7\n",
      "right = 18\n",
      "left = 12\n",
      "right = 13\n"
     ]
    }
   ],
   "source": [
    "root = Node()\n",
    "createBinarySearchTree(arr, root)\n",
    "root.traverse()"
   ]
  },
  {
   "cell_type": "markdown",
   "id": "f2548354-c6ba-43b4-8729-cd144d158a0a",
   "metadata": {},
   "source": [
    "## Function to visualize mermaid"
   ]
  },
  {
   "cell_type": "code",
   "execution_count": 11,
   "id": "bc07b28d-2fa3-409f-a080-d6f7f64870cf",
   "metadata": {},
   "outputs": [],
   "source": [
    "import base64\n",
    "from IPython.display import Image, display\n",
    "\n",
    "def mm(graph):\n",
    "    graphbytes = graph.encode(\"utf8\")\n",
    "    base64_bytes = base64.urlsafe_b64encode(graphbytes)\n",
    "    base64_string = base64_bytes.decode(\"ascii\")\n",
    "    display(Image(url=\"https://mermaid.ink/img/\" + base64_string))"
   ]
  },
  {
   "attachments": {},
   "cell_type": "markdown",
   "id": "67dfe503-4186-4939-8833-97e0a63a1cb3",
   "metadata": {},
   "source": [
    "## Current state of the tree"
   ]
  },
  {
   "cell_type": "code",
   "execution_count": 12,
   "id": "787b8a2d-6fe5-41f0-a98e-05f51775d67c",
   "metadata": {},
   "outputs": [
    {
     "data": {
      "text/html": [
       "<img src=\"https://mermaid.ink/img/CmdyYXBoIFRECiAgICA2IC0tPiAzCiAgICA2IC0tPiAxMQogICAgMyAtLT4gMgogICAgMyAtLT4gNQogICAgMTEgLS0-IDcKICAgIDExIC0tPiAxOAogICAgMTggLS0-IDEyCiAgICAxMiAtLT4gMTMK\"/>"
      ],
      "text/plain": [
       "<IPython.core.display.Image object>"
      ]
     },
     "metadata": {},
     "output_type": "display_data"
    }
   ],
   "source": [
    "mm(\"\"\"\n",
    "graph TD\n",
    "    6 --> 3\n",
    "    6 --> 11\n",
    "    3 --> 2\n",
    "    3 --> 5\n",
    "    11 --> 7\n",
    "    11 --> 18\n",
    "    18 --> 12\n",
    "    12 --> 13\n",
    "\"\"\");"
   ]
  },
  {
   "cell_type": "markdown",
   "id": "5a8cb6c3-4298-48da-acef-47c297b4f2dc",
   "metadata": {},
   "source": [
    "***\n",
    "## Search for a node"
   ]
  },
  {
   "cell_type": "code",
   "execution_count": 13,
   "id": "3fea8d52-f515-453d-944e-77b919d97b28",
   "metadata": {},
   "outputs": [
    {
     "name": "stdout",
     "output_type": "stream",
     "text": [
      "11 found\n",
      "2 found\n",
      "8 not found\n"
     ]
    }
   ],
   "source": [
    "nums = [11, 2, 8]\n",
    "\n",
    "for n in nums:\n",
    "    if root.search(n):\n",
    "        print(f\"{n} found\")\n",
    "    else:\n",
    "        print(f\"{n} not found\")"
   ]
  },
  {
   "cell_type": "code",
   "execution_count": 14,
   "id": "1379faa2-5127-4eef-9d8f-1e2b0956a72d",
   "metadata": {},
   "outputs": [
    {
     "name": "stdout",
     "output_type": "stream",
     "text": [
      "Minimum value = 2\n",
      "Maximum value = 18\n"
     ]
    }
   ],
   "source": [
    "print(f\"Minimum value = {root.findMinMaxValue(True)}\")\n",
    "print(f\"Maximum value = {root.findMinMaxValue(False)}\")"
   ]
  },
  {
   "cell_type": "markdown",
   "id": "76eb4c8c-8540-476d-9ea8-56bd1709872c",
   "metadata": {},
   "source": [
    "## Deleting a node"
   ]
  },
  {
   "cell_type": "code",
   "execution_count": 15,
   "id": "6b53bf7f-6034-419c-840a-b844bc45123c",
   "metadata": {},
   "outputs": [
    {
     "name": "stdout",
     "output_type": "stream",
     "text": [
      "root = 6\n",
      "left = 3\n",
      "left = 2\n",
      "right = 5\n",
      "right = 12\n",
      "left = 7\n",
      "right = 18\n",
      "left = 13\n"
     ]
    }
   ],
   "source": [
    "root.deleteNode(11)\n",
    "root.traverse()"
   ]
  },
  {
   "attachments": {},
   "cell_type": "markdown",
   "id": "4954a659-8665-4c3a-8625-0c117604071b",
   "metadata": {},
   "source": [
    "## Current state of the tree"
   ]
  },
  {
   "cell_type": "code",
   "execution_count": 16,
   "id": "a4435a3e-5738-47d6-ab8c-466e6301f1be",
   "metadata": {},
   "outputs": [
    {
     "data": {
      "text/html": [
       "<img src=\"https://mermaid.ink/img/CmdyYXBoIFRECiAgICA2IC0tPiAzCiAgICA2IC0tPiAxMgogICAgMyAtLT4gMgogICAgMyAtLT4gNQogICAgMTIgLS0-IDcKICAgIDEyIC0tPiAxOAogICAgMTggLS0-IDEzCg==\"/>"
      ],
      "text/plain": [
       "<IPython.core.display.Image object>"
      ]
     },
     "metadata": {},
     "output_type": "display_data"
    }
   ],
   "source": [
    "mm(\"\"\"\n",
    "graph TD\n",
    "    6 --> 3\n",
    "    6 --> 12\n",
    "    3 --> 2\n",
    "    3 --> 5\n",
    "    12 --> 7\n",
    "    12 --> 18\n",
    "    18 --> 13\n",
    "\"\"\");"
   ]
  },
  {
   "cell_type": "markdown",
   "id": "63f77878-13a1-443e-aa03-a68adc73e992",
   "metadata": {},
   "source": [
    "***\n",
    "## Deleting the root node"
   ]
  },
  {
   "cell_type": "code",
   "execution_count": 17,
   "id": "5b0dbd3b-243e-4646-bb5a-5d0cff793f0c",
   "metadata": {},
   "outputs": [
    {
     "name": "stdout",
     "output_type": "stream",
     "text": [
      "root = 7\n",
      "left = 3\n",
      "left = 2\n",
      "right = 5\n",
      "right = 12\n",
      "right = 18\n",
      "left = 13\n"
     ]
    }
   ],
   "source": [
    "root.deleteNode(6)\n",
    "root.traverse()"
   ]
  },
  {
   "attachments": {},
   "cell_type": "markdown",
   "id": "eb796f9c-fbaf-4547-9ba3-cd1f209f6bb9",
   "metadata": {},
   "source": [
    "## Final state of the tree"
   ]
  },
  {
   "cell_type": "code",
   "execution_count": 18,
   "id": "8661a59c-8b32-4b95-add7-04442db49c00",
   "metadata": {},
   "outputs": [
    {
     "data": {
      "text/html": [
       "<img src=\"https://mermaid.ink/img/CmdyYXBoIFRECiAgICA3IC0tPiAzCiAgICA3IC0tPiAxMgogICAgMyAtLT4gMgogICAgMyAtLT4gNQogICAgMTIgLS0-IDE4CiAgICAxOCAtLT4gMTMK\"/>"
      ],
      "text/plain": [
       "<IPython.core.display.Image object>"
      ]
     },
     "metadata": {},
     "output_type": "display_data"
    }
   ],
   "source": [
    "mm(\"\"\"\n",
    "graph TD\n",
    "    7 --> 3\n",
    "    7 --> 12\n",
    "    3 --> 2\n",
    "    3 --> 5\n",
    "    12 --> 18\n",
    "    18 --> 13\n",
    "\"\"\");"
   ]
  },
  {
   "cell_type": "markdown",
   "id": "639255ab-146d-4d7d-a66b-4df3949496e1",
   "metadata": {},
   "source": [
    "***"
   ]
  }
 ],
 "metadata": {
  "kernelspec": {
   "display_name": "Python kernel developed by Saptarshi Dey",
   "language": "python",
   "name": "python3"
  },
  "language_info": {
   "codemirror_mode": {
    "name": "ipython",
    "version": 3
   },
   "file_extension": ".py",
   "mimetype": "text/x-python",
   "name": "python",
   "nbconvert_exporter": "python",
   "pygments_lexer": "ipython3",
   "version": "3.8.10"
  },
  "widgets": {
   "application/vnd.jupyter.widget-state+json": {
    "state": {},
    "version_major": 2,
    "version_minor": 0
   }
  }
 },
 "nbformat": 4,
 "nbformat_minor": 5
}
