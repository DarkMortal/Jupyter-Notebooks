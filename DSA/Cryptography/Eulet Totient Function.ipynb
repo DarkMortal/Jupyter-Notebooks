{
 "cells": [
  {
   "cell_type": "markdown",
   "id": "9457dedf",
   "metadata": {},
   "source": [
    "## **Euler Totient Function** (denoted by $\\phi$) of a number $n$ is the number of numbers which are co-prime to and less than $n$"
   ]
  },
  {
   "cell_type": "code",
   "execution_count": 89,
   "id": "8adc5710",
   "metadata": {},
   "outputs": [],
   "source": [
    "def eulerTotient(n):\n",
    "    arr = [1]\n",
    "    # 2 consecutive numbers are always co-prime that's why check till n-2\n",
    "    for i in range(2,n-1):\n",
    "        isValid = (n % i) != 0\n",
    "        if isValid:\n",
    "            j = 2\n",
    "            k = i>>1\n",
    "            while j <= k:\n",
    "                isValid = (i % j) or (n % j)\n",
    "                if not isValid:\n",
    "                    break\n",
    "                j += 1\n",
    "            if isValid:\n",
    "                arr.append(i)\n",
    "    arr.append(n-1)\n",
    "    return arr"
   ]
  },
  {
   "cell_type": "markdown",
   "id": "74d9286c",
   "metadata": {},
   "source": [
    "## Driver Code"
   ]
  },
  {
   "cell_type": "code",
   "execution_count": 90,
   "id": "16c926e6",
   "metadata": {},
   "outputs": [
    {
     "name": "stdout",
     "output_type": "stream",
     "text": [
      "\n",
      "PHI(7) = 6\n",
      "1 2 3 4 5 6 \n",
      "\n",
      "PHI(8) = 4\n",
      "1 3 5 7 \n",
      "\n",
      "PHI(9) = 6\n",
      "1 2 4 5 7 8 \n",
      "\n",
      "PHI(10) = 4\n",
      "1 3 7 9 \n",
      "\n",
      "PHI(11) = 10\n",
      "1 2 3 4 5 6 7 8 9 10 \n"
     ]
    }
   ],
   "source": [
    "if __name__==\"__main__\":\n",
    "    num = [7,8,9,10,11]\n",
    "    for n in num:\n",
    "        arr = eulerTotient(n)\n",
    "        print(f'\\nPHI({n}) = {len(arr)}')\n",
    "        for i in arr:\n",
    "            print(i,end=' ')\n",
    "        print()"
   ]
  }
 ],
 "metadata": {
  "kernelspec": {
   "display_name": "Python 3 (ipykernel)",
   "language": "python",
   "name": "python3"
  },
  "language_info": {
   "codemirror_mode": {
    "name": "ipython",
    "version": 3
   },
   "file_extension": ".py",
   "mimetype": "text/x-python",
   "name": "python",
   "nbconvert_exporter": "python",
   "pygments_lexer": "ipython3",
   "version": "3.8.10"
  }
 },
 "nbformat": 4,
 "nbformat_minor": 5
}
