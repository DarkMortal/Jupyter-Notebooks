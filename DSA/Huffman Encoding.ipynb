{
 "cells": [
  {
   "cell_type": "markdown",
   "id": "86472595-be50-4f3b-b779-f10646bf2926",
   "metadata": {},
   "source": [
    "# Huffman encoding\n",
    "<br/>\n",
    "\n",
    "Huffman encoding is a classical lossless data compression algorithm designed to reduce the size of data without losing any information. Its fundamental idea is to represent each symbol (such as a character in a text file) with a unique variable-length binary code, where the *most frequent symbols* are assigned the **shortest codes** and the *least frequent symbols* get **longer codes**. This efficiently reduces the total number of bits needed to encode a message, especially in data where some symbols appear much more often than others.\n",
    "## Class to represent nodes of the huffman tree"
   ]
  },
  {
   "cell_type": "code",
   "execution_count": 1,
   "id": "ba718308-13bb-4eb3-9fb4-b47f70c7355c",
   "metadata": {},
   "outputs": [],
   "source": [
    "class Node:\n",
    "    def __init__(self, character_: str, frequency_: int):\n",
    "        self.left = None\n",
    "        self.right = None\n",
    "        self.char = character_\n",
    "        self.freq = frequency_\n",
    "\n",
    "\t# < operator overloading\n",
    "    def __lt__(self, other):\n",
    "        return self.freq < other.freq\n",
    "    \n",
    "    # > operator overloading\n",
    "    def __gt__(self, other):\n",
    "        return self.freq > other.freq\n",
    "\n",
    "    # equal operator overloading\n",
    "    def __eq__(self, other):\n",
    "        return self.freq == self.freq"
   ]
  },
  {
   "cell_type": "markdown",
   "id": "b1be8e8d-24aa-4515-badb-4d5d89c5d320",
   "metadata": {},
   "source": [
    "# Algorithm\n",
    "### 1. Create Node Classes for Huffman Tree\n",
    "- Each node has a character and its frequency.\n",
    "- The node may point to a left and right child node.\n",
    "- Operator overloading (__lt__, __gt__, __eq__) is used for maintaining node ordering in a heap (priority queue).\n",
    "### 2. Populate a Min-Heap of Leaf Nodes\n",
    "- For every unique character, create a node with its frequency.\n",
    "- Push all nodes into a min-heap, so nodes with the lowest frequency have the highest priority.\n",
    "### 3. Build the Huffman Tree\n",
    "- While there are more than one nodes in the heap:\n",
    "    - Extract the two nodes with the lowest frequency.\n",
    "    - Create a new internal node whose frequency is the sum of the two extracted nodes.\n",
    "    - Set the two extracted nodes as the left and right children of the new node.\n",
    "    - Insert the new node back into the min-heap.\n",
    "- After the loop, the heap contains only one node—the root of the Huffman Tree.\n",
    "### 4. Traverse the Huffman Tree to Assign Codewords\n",
    "- Start from the root node.\n",
    "- Traverse left by appending '0' to the codeword, and right by appending '1'.\n",
    "- When a leaf node is reached (character node), assign the accumulated binary codeword to that character.\n",
    "- This is commonly implemented as a recursive preorder traversal.\n",
    "### 5. Store and Return the Encodings\n",
    "- Store all character-to-codeword mappings in a dictionary (charMap).\n",
    "- Return this mapping as the result.\n",
    "***\n",
    "## Function to traverse tree in preorder"
   ]
  },
  {
   "cell_type": "code",
   "execution_count": 2,
   "id": "2679f4e5-2d93-48a4-ab26-fdde52cdfb97",
   "metadata": {},
   "outputs": [],
   "source": [
    "from typing import List, Dict\n",
    "\n",
    "def preOrder(root, charMap_: Dict, curr = \"\"):\n",
    "    if root is None:\n",
    "        return\n",
    "\n",
    "    # Leaf node represents a character.\n",
    "    if root.left is None and root.right is None:\n",
    "        charMap_[root.char] = curr\n",
    "        return\n",
    "\n",
    "    preOrder(root.left, charMap_, curr + '0')\n",
    "    preOrder(root.right, charMap_, curr + '1')"
   ]
  },
  {
   "cell_type": "code",
   "execution_count": 3,
   "id": "7679cd05-4953-43e2-8026-3961e544ea8e",
   "metadata": {},
   "outputs": [],
   "source": [
    "import heapq\n",
    "\n",
    "def huffmanCodes(s, freq: List[int], chars: List[str]) -> Dict[str, str]:\n",
    "    # Code here\n",
    "    n = len(s)\n",
    "\n",
    "    # Min heap for node class.\n",
    "    nodeHeap = []\n",
    "    for i in range(n):\n",
    "        heapq.heappush(nodeHeap, Node(chars[i], freq[i]))\n",
    "\n",
    "    # Construct the huffman tree.\n",
    "    while len(nodeHeap) >= 2:\n",
    "        # Left node \n",
    "        l = heapq.heappop(nodeHeap)\n",
    "\n",
    "        # Right node \n",
    "        r = heapq.heappop(nodeHeap)\n",
    "\n",
    "        newNode = Node(\"\", l.freq + r.freq)\n",
    "        newNode.left = l\n",
    "        newNode.right = r\n",
    "\n",
    "        heapq.heappush(nodeHeap, newNode)\n",
    "\n",
    "    root = heapq.heappop(nodeHeap)\n",
    "    charMap = {}\n",
    "    preOrder(root, charMap)\n",
    "    return charMap"
   ]
  },
  {
   "cell_type": "markdown",
   "id": "e7e6aaae-a4cd-40af-8473-37df9412b192",
   "metadata": {},
   "source": [
    "## Driver code"
   ]
  },
  {
   "cell_type": "code",
   "execution_count": 4,
   "id": "89bfd91a-d3f1-4222-93a8-5a5633c4cfe6",
   "metadata": {},
   "outputs": [
    {
     "name": "stdout",
     "output_type": "stream",
     "text": [
      "{'a': '0', 'b': '100', 'd': '1010', 'f': '10110', 'e': '10111', 'c': '11'}\n"
     ]
    }
   ],
   "source": [
    "if __name__ == \"__main__\":\n",
    "    s = \"abcdef\"\n",
    "    freq = [50, 10, 30, 5, 3, 2]\n",
    "    ans = huffmanCodes(s, freq, list(s))\n",
    "    print(ans)"
   ]
  },
  {
   "cell_type": "markdown",
   "id": "a35be99f-238f-4e10-b425-182a1340a9f5",
   "metadata": {},
   "source": [
    "***"
   ]
  }
 ],
 "metadata": {
  "kernelspec": {
   "display_name": "Python kernel developed by Saptarshi Dey",
   "language": "python",
   "name": "python3"
  },
  "language_info": {
   "codemirror_mode": {
    "name": "ipython",
    "version": 3
   },
   "file_extension": ".py",
   "mimetype": "text/x-python",
   "name": "python",
   "nbconvert_exporter": "python",
   "pygments_lexer": "ipython3",
   "version": "3.8.10"
  }
 },
 "nbformat": 4,
 "nbformat_minor": 5
}
