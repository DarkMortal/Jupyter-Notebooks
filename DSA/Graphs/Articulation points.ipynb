{
 "cells": [
  {
   "cell_type": "markdown",
   "id": "8c510712-3968-4c28-abb0-b78286dd92d8",
   "metadata": {},
   "source": [
    "# Definition\n",
    "<br/>\n",
    "\n",
    "An **articulation point** (also known as a **cut vertex**) in a graph is a vertex whose removal (along with all edges incident to it) increases the number of connected components of the graph. In other words, it is a node that, if removed, will disconnect the graph or make it less connected by splitting it into two or more separate sub-graphs.\n",
    "\n",
    "**Key points:**\n",
    "- Removing an articulation point increases the number of connected components in the graph.\n",
    "- Articulation points represent critical nodes whose failure would disrupt connectivity in networks.\n",
    "- If a graph has no articulation points, it is called *biconnected*.\n",
    "***"
   ]
  },
  {
   "cell_type": "code",
   "execution_count": 2,
   "id": "b3e6dbd1-e94f-4da4-86fe-c8bcf85edada",
   "metadata": {},
   "outputs": [
    {
     "data": {
      "text/plain": [
       "[[0, 1, 1, 1, 0, 0, 0],\n",
       " [1, 0, 0, 0, 0, 0, 0],\n",
       " [1, 0, 0, 1, 1, 1, 0],\n",
       " [1, 0, 1, 0, 0, 0, 0],\n",
       " [0, 0, 1, 0, 0, 0, 1],\n",
       " [0, 0, 1, 0, 0, 0, 1],\n",
       " [0, 0, 0, 0, 1, 1, 0]]"
      ]
     },
     "execution_count": 2,
     "metadata": {},
     "output_type": "execute_result"
    }
   ],
   "source": [
    "edges = [\n",
    "    (0, 1),\n",
    "    (0, 2),\n",
    "    (0, 3),\n",
    "    (2, 3),\n",
    "    (2, 4),\n",
    "    (2, 5),\n",
    "    (4, 6),\n",
    "    (5, 6),\n",
    "]\n",
    "\n",
    "incidence_matrix = [[0 for i in range(7)] for j in range(7)]\n",
    "\n",
    "for u, v in edges:\n",
    "    incidence_matrix[u][v] = 1\n",
    "    incidence_matrix[v][u] = 1\n",
    "\n",
    "incidence_matrix"
   ]
  },
  {
   "cell_type": "markdown",
   "id": "7da0c869-03d8-4765-b428-eec45ea52efa",
   "metadata": {},
   "source": [
    "## Visualizing the graph"
   ]
  },
  {
   "cell_type": "code",
   "execution_count": 3,
   "id": "94279c8f-28c6-4970-8032-f7be2abfdd64",
   "metadata": {},
   "outputs": [],
   "source": [
    "import networkx as nx \n",
    "import matplotlib.pyplot as plt \n",
    "\n",
    "# Defining a Class \n",
    "class GraphVisualization: \n",
    "\n",
    "    def __init__(self, weighted, edge_list = [], adjancency_matrix = [], isDirected = False): \n",
    "        self.weighted = weighted\n",
    "        self.G = (nx.DiGraph() if isDirected else nx.Graph())\n",
    "        \n",
    "        if len(edge_list) > 0:\n",
    "            for i in edge_list:\n",
    "                self.G.add_edge(i[0], i[1], weight = i[2])\n",
    "        \n",
    "        elif len(adjancency_matrix) > 0:\n",
    "            for i in range(len(adjancency_matrix)):\n",
    "                for j in range(len(adjancency_matrix[i])):\n",
    "                    if adjancency_matrix[i][j] <= 0: continue\n",
    "                    self.G.add_edge(i, j, weight = adjancency_matrix[i][j])\n",
    "        \n",
    "        elif len(edge_list) == 0 and len(adjancency_matrix) == 0:\n",
    "            raise Exception(\"I expect atleast an edge-list or an adjancency matrix\")\n",
    "    \n",
    "    # In visualize function G is an object of \n",
    "    # class Graph given by networkx G.add_edges_from(visual) \n",
    "    # creates a graph with a given list \n",
    "    # nx.draw_networkx(G) - plots the graph \n",
    "    # plt.show() - displays the graph \n",
    "    def visualize(self):\n",
    "        pos = nx.spring_layout(self.G, scale = 5000)\n",
    "\n",
    "        # Manually scale up the positions for more spacing\n",
    "        for key in pos:\n",
    "            pos[key] *= 10000\n",
    "        nx.draw_networkx(self.G, pos, node_size=700, node_color='#00ccff', font_size=10)\n",
    "\n",
    "        if self.weighted:\n",
    "            # Draw edge labels for weights\n",
    "            labels = nx.get_edge_attributes(self.G, 'weight')\n",
    "            nx.draw_networkx_edge_labels(self.G, pos, edge_labels=labels)\n",
    "        plt.show()"
   ]
  },
  {
   "cell_type": "code",
   "execution_count": 4,
   "id": "912b8ecb-b243-44c6-947e-01371ef5177d",
   "metadata": {},
   "outputs": [
    {
     "data": {
      "image/png": "[encoded data removed]",
      "text/plain": [
       "<Figure size 640x480 with 1 Axes>"
      ]
     },
     "metadata": {},
     "output_type": "display_data"
    }
   ],
   "source": [
    "G1 = GraphVisualization(weighted = False, adjancency_matrix = incidence_matrix, isDirected = False)\n",
    "G1.visualize()"
   ]
  },
  {
   "cell_type": "markdown",
   "id": "f53db79d-253f-4ab8-bc4e-c2e3c40cc630",
   "metadata": {},
   "source": [
    "## Algorithm\n",
    "- First, we need to create the adjacency list for the given graph from the edge information(If not already given). And we will declare a variable timer(either globally or we can carry it while calling DFS), that will keep track of the time of insertion for each node. The timer may be initialized to 0 or 1 accordingly.\n",
    "- Then we shall perform DFS for each component. For each component, the starting node will carry -1 as its parent.\n",
    "    - Inside DFS, we will first mark the node visited and then store the time of insertion and the lowest time of insertion properly. We will declare a child variable to implement the logic for starting node.\n",
    "    - Now, it’s time to visit the adjacent nodes. \n",
    "        - If the adjacent node is the parent itself, we will just continue to the next node.\n",
    "        - If the adjacent node is not visited, we will call DFS for the adjacent node with the current node as the parent.\n",
    "        - After the DFS gets completed, we will compare the lowest time of insertion of the current node and the adjacent node and take the minimum.<br/>Now, we will check if the lowest time of insertion of the adjacent node is greater or equal to the time of insertion of the current node and also ensure that the current node is not the starting node(checking parent not equal -1).<br/>If the condition matches, then we will mark the current node in our hash array as one of our answers as it is one of the articulation points of the graph.<br/>Then we will increment the child variable by 1.\n",
    "        - If the adjacent node is visited, we will just compare the lowest time of insertion of the current node and the time of insertion of the adjacent node and take the minimum.\n",
    "    - Finally, we shall check if the number of child nodes is greater than 1 and if the current node is the starting node. If it is then we will keep the starting node marked in our hash array as the starting node is also an articulation point in this case.\n",
    "- Finally, our answer array will store all the articulation points.\n",
    "***\n",
    "**Note:** Lowest time of insertion is also called low-link value."
   ]
  },
  {
   "cell_type": "code",
   "execution_count": 5,
   "id": "18b7cebe-d857-4dc4-8e13-062de14b227d",
   "metadata": {},
   "outputs": [],
   "source": [
    "from typing import List\n",
    "\n",
    "class graphTraversal:\n",
    "    def __init__(self, graph_: List[List[int]]):\n",
    "        self.searchTime = 0\n",
    "        self.articulationPoints = []\n",
    "        self.graph = graph_[:]\n",
    "        self.numVertices = len(self.graph)\n",
    "        self.lowLinkValues = [0 for i in range(self.numVertices)]\n",
    "        self.searchTimes = [0 for i in range(self.numVertices)]\n",
    "        self.visitedVertices = [False for i in range(self.numVertices)]\n",
    "\n",
    "    def reset(self):\n",
    "        self.numVertices = len(self.unvisitedVertices)\n",
    "        self.lowLinkValues = [0 for i in range(self.numVertices)]\n",
    "        self.searchTimes = [0 for i in range(self.numVertices)]\n",
    "\n",
    "    def dfs(self, vertex = 0, parent = 0, isRoot = False):\n",
    "        # if vertex already visited, return it's search-time\n",
    "        if self.visitedVertices[vertex]:\n",
    "            return self.searchTimes[vertex]\n",
    "\n",
    "        self.searchTime += 1\n",
    "\n",
    "        # if low link value of vertex is not set\n",
    "        self.searchTimes[vertex] = self.searchTime\n",
    "        self.lowLinkValues[vertex] = self.searchTime\n",
    "        \n",
    "        # add vertex to list of visited vertex\n",
    "        self.visitedVertices[vertex] = True\n",
    "\n",
    "        # checking if root of the graph is a articulation point\n",
    "        # if and only if it has more than 1 child node\n",
    "        if isRoot and self.graph[vertex].count(1) > 1:\n",
    "            self.articulationPoints.append(vertex)\n",
    "        \n",
    "        # traverse all edges\n",
    "        for edge in range(self.numVertices):\n",
    "            if self.graph[vertex][edge] == 1 and not edge == parent:\n",
    "                result = self.dfs(edge, vertex, False)\n",
    "                if result < self.lowLinkValues[vertex]:\n",
    "                    self.lowLinkValues[vertex] = result\n",
    "                elif result >= self.searchTimes[vertex] and not isRoot:\n",
    "                    if vertex not in self.articulationPoints:\n",
    "                        self.articulationPoints.append(vertex)\n",
    "        \n",
    "        # remove the current vertex from the visited array\n",
    "        self.visitedVertices[vertex] = False\n",
    "        return self.lowLinkValues[vertex]"
   ]
  },
  {
   "cell_type": "code",
   "execution_count": 6,
   "id": "157e8282-9650-4055-80e3-5a93b742544f",
   "metadata": {},
   "outputs": [
    {
     "data": {
      "text/plain": [
       "[0, 2]"
      ]
     },
     "execution_count": 6,
     "metadata": {},
     "output_type": "execute_result"
    }
   ],
   "source": [
    "graph = graphTraversal(incidence_matrix)\n",
    "graph.dfs(isRoot = True)\n",
    "graph.articulationPoints"
   ]
  },
  {
   "cell_type": "markdown",
   "id": "13f26c3c-695f-41a3-a10a-a41aa5cbdd7d",
   "metadata": {},
   "source": [
    "***"
   ]
  }
 ],
 "metadata": {
  "kernelspec": {
   "display_name": "Python kernel developed by Saptarshi Dey",
   "language": "python",
   "name": "python3"
  },
  "language_info": {
   "codemirror_mode": {
    "name": "ipython",
    "version": 3
   },
   "file_extension": ".py",
   "mimetype": "text/x-python",
   "name": "python",
   "nbconvert_exporter": "python",
   "pygments_lexer": "ipython3",
   "version": "3.8.10"
  }
 },
 "nbformat": 4,
 "nbformat_minor": 5
}
