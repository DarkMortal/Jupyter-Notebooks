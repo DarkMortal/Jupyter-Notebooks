{
 "cells": [
  {
   "cell_type": "markdown",
   "id": "19871c87-5388-4f5a-b6d9-f32390b66943",
   "metadata": {},
   "source": [
    "# Topological ordering using DFS\n",
    "<br/><span style=\"font-size: 1.3rem\">What is a topological order of a DAG (Directed Acyclic Graph)?</span>\n",
    "<br/><span style=\"font-size: 1.3rem\">It is a linear ordering of vertices such that if there is an edge between $u$ and $v$, then $u$ always appears before $v$ in that ordering.</span>\n",
    "\n",
    "***\n",
    "## Wrapper Class for Graph Visualization"
   ]
  },
  {
   "cell_type": "code",
   "execution_count": 1,
   "id": "2ed8c0a9-8b8a-489b-8e6b-174f4a229f18",
   "metadata": {},
   "outputs": [],
   "source": [
    "import networkx as nx \n",
    "import matplotlib.pyplot as plt \n",
    "\n",
    "# Defining a Class \n",
    "class GraphVisualization: \n",
    "\n",
    "    def __init__(self, weighted, edge_list = [], adjancency_matrix = [], isDirected = False): \n",
    "        self.weighted = weighted\n",
    "        self.G = (nx.DiGraph() if isDirected else nx.Graph())\n",
    "        \n",
    "        if len(edge_list) > 0:\n",
    "            for i in edge_list:\n",
    "                self.G.add_edge(i[0], i[1], weight = i[2])\n",
    "        \n",
    "        elif len(adjancency_matrix) > 0:\n",
    "            for i in range(len(adjancency_matrix)):\n",
    "                for j in range(len(adjancency_matrix[i])):\n",
    "                    if adjancency_matrix[i][j] <= 0: continue\n",
    "                    self.G.add_edge(i+1, j+1, weight = adjancency_matrix[i][j])\n",
    "        \n",
    "        elif len(edge_list) == 0 and len(adjancency_matrix) == 0:\n",
    "            raise Exception(\"I expect atleast an edge-list or an adjancency matrix\")\n",
    "    \n",
    "    # In visualize function G is an object of \n",
    "    # class Graph given by networkx G.add_edges_from(visual) \n",
    "    # creates a graph with a given list \n",
    "    # nx.draw_networkx(G) - plots the graph \n",
    "    # plt.show() - displays the graph \n",
    "    def visualize(self):\n",
    "        pos = nx.spring_layout(self.G, scale = 5000)\n",
    "\n",
    "        # Manually scale up the positions for more spacing\n",
    "        for key in pos:\n",
    "            pos[key] *= 10**5\n",
    "        nx.draw_networkx(self.G, pos, node_size=700, node_color='#00ccff', font_size=10)\n",
    "\n",
    "        if self.weighted:\n",
    "            # Draw edge labels for weights\n",
    "            labels = nx.get_edge_attributes(self.G, 'weight')\n",
    "            nx.draw_networkx_edge_labels(self.G, pos, edge_labels=labels)\n",
    "        plt.show()"
   ]
  },
  {
   "cell_type": "markdown",
   "id": "67ca9f53-9c67-4d08-a2c5-0758fa59f299",
   "metadata": {},
   "source": [
    "## Initializing the graph"
   ]
  },
  {
   "cell_type": "code",
   "execution_count": 5,
   "id": "669206f9-a3fb-433f-ad9d-8ddbb202475e",
   "metadata": {},
   "outputs": [
    {
     "data": {
      "image/png": "[encoded data removed]",
      "text/plain": [
       "<Figure size 640x480 with 1 Axes>"
      ]
     },
     "metadata": {},
     "output_type": "display_data"
    }
   ],
   "source": [
    "edgeList = [\n",
    "    ('B', 'A', 1),\n",
    "    ('B', 'D', 1),\n",
    "    ('A', 'D', 1),\n",
    "    ('D', 'C', 1),\n",
    "    ('D', 'E', 1),\n",
    "    ('G', 'D', 1),\n",
    "    ('G', 'F', 1),\n",
    "    ('H', 'F', 1),\n",
    "    ('F', 'E', 1)\n",
    "]\n",
    "G1 = GraphVisualization(weighted = False, edge_list = edgeList, isDirected = True)\n",
    "G1.visualize()"
   ]
  },
  {
   "cell_type": "markdown",
   "id": "a570f56c-c734-47b2-acc9-7ce674d20e8e",
   "metadata": {},
   "source": [
    "***\n",
    "## Function to convert from edge-list to adjancency-matrix"
   ]
  },
  {
   "cell_type": "code",
   "execution_count": 6,
   "id": "82c35c26-9e7a-4cc0-b3cc-981d315e64a3",
   "metadata": {},
   "outputs": [],
   "source": [
    "def edge_list_to_adjacency_matrix(edge_list, directed=False):\n",
    "    # get number of vertices\n",
    "    s = set()\n",
    "    for i in edge_list:\n",
    "        s.add(i[0]); s.add(i[1])\n",
    "    num_vertices = len(s)\n",
    "    s = list(s)\n",
    "    # Initialize an n x n matrix with all 0's\n",
    "    adj_matrix = [[0 for _ in range(num_vertices)] for _ in range(num_vertices)]\n",
    "    \n",
    "    # Iterate through each edge in the edge list\n",
    "    for edge in edge_list:\n",
    "        u, v = edge[:2]  # Get the vertices of the edge\n",
    "        adj_matrix[ord(u) - 65][ord(v) - 65] = edge[2]  # Mark edge u -> v with 1 (or edge weight if any)\n",
    "        \n",
    "        if not directed:\n",
    "            adj_matrix[ord(v) - 65][ord(u) - 65] = edge[2]  # For undirected graphs, also mark edge v -> u\n",
    "        else: adj_matrix[ord(v) - 65][ord(u) - 65] = -edge[2]\n",
    "    \n",
    "    return adj_matrix"
   ]
  },
  {
   "cell_type": "code",
   "execution_count": 7,
   "id": "12ab727b-478f-4333-bb6a-1ba0c8ee5544",
   "metadata": {},
   "outputs": [
    {
     "data": {
      "text/plain": [
       "[[0, -1, 0, 1, 0, 0, 0, 0],\n",
       " [1, 0, 0, 1, 0, 0, 0, 0],\n",
       " [0, 0, 0, -1, 0, 0, 0, 0],\n",
       " [-1, -1, 1, 0, 1, 0, -1, 0],\n",
       " [0, 0, 0, -1, 0, -1, 0, 0],\n",
       " [0, 0, 0, 0, 1, 0, -1, -1],\n",
       " [0, 0, 0, 1, 0, 1, 0, 0],\n",
       " [0, 0, 0, 0, 0, 1, 0, 0]]"
      ]
     },
     "execution_count": 7,
     "metadata": {},
     "output_type": "execute_result"
    }
   ],
   "source": [
    "adjacency_matrix = edge_list_to_adjacency_matrix(edgeList, directed = True)\n",
    "adjacency_matrix"
   ]
  },
  {
   "cell_type": "markdown",
   "id": "f6c31249-2dc8-4fe3-85ee-fa58d0b16128",
   "metadata": {},
   "source": [
    "***\n",
    "# Algorithm\n",
    "1. We must traverse all components of the graph.\n",
    "2. Make sure to carry a visited array(all elements are initialized to 0) and a stack data structure, where we are going to store the nodes after completing the DFS call.\n",
    "3. In the DFS call, first, the current node is marked as visited. Then DFS call is made for all its adjacent nodes.\n",
    "4. After visiting all its adjacent nodes, DFS will backtrack to the previous node and meanwhile, the current node is pushed into the stack.\n",
    "5. Remove the visited vertices from the list of total unvisited vertices.\n",
    "6. Repeat step 3 to 5 until the list of total unvisited vertices is empty.\n",
    "7. Finally, we will get the stack containing one of the topological sortings of the graph.\n",
    "## Solution class"
   ]
  },
  {
   "cell_type": "code",
   "execution_count": 8,
   "id": "aa6c14f6-b948-4448-9cdf-95ee33bc3489",
   "metadata": {},
   "outputs": [],
   "source": [
    "class Solution:\n",
    "    def __init__(self, adjacency_matrix):\n",
    "        self.stack = [] # visited nodes\n",
    "        self.a_matrix = adjacency_matrix\n",
    "        self.vertexList = [i for i in range(len(self.a_matrix))] #not visited nodes\n",
    "\n",
    "    def DFS(self, index = 0):\n",
    "        if index in self.stack or index >= len(self.a_matrix): return\n",
    "        for i in range(len(self.a_matrix[index])):\n",
    "            if self.a_matrix[index][i] > 0 and i not in self.stack: self.DFS(i)\n",
    "        if index not in self.stack: self.stack.append(index)\n",
    "\n",
    "    def __call__(self):\n",
    "        while len(self.vertexList) > 0:\n",
    "            self.DFS(self.vertexList[0])\n",
    "            self.vertexList = [i for i in self.vertexList if i not in self.stack]\n",
    "        self.stack.reverse()"
   ]
  },
  {
   "cell_type": "markdown",
   "id": "433f6322-55d6-4c17-b71d-9a8ca89f2564",
   "metadata": {},
   "source": [
    "## Driver code"
   ]
  },
  {
   "cell_type": "code",
   "execution_count": 9,
   "id": "8d8d23cc-f54d-4019-bbb5-92f63e98eb2d",
   "metadata": {},
   "outputs": [
    {
     "name": "stdout",
     "output_type": "stream",
     "text": [
      "H G F B A D E C "
     ]
    }
   ],
   "source": [
    "driver = Solution(adjacency_matrix); driver()\n",
    "\n",
    "for i in driver.stack:\n",
    "    print(chr(i + 65), end = \" \")"
   ]
  },
  {
   "cell_type": "markdown",
   "id": "86c9f1be-91cd-4758-b86f-c0292af2a3a5",
   "metadata": {},
   "source": [
    "**Note:**\n",
    "- Topological order is only valid for DAG (Directed Acyclic Graph).\n",
    "- Topological order of a DAG is not unique, i.e, a DAG can have more than 1 topological order.\n",
    "***"
   ]
  }
 ],
 "metadata": {
  "kernelspec": {
   "display_name": "Python kernel developed by Saptarshi Dey",
   "language": "python",
   "name": "python3"
  },
  "language_info": {
   "codemirror_mode": {
    "name": "ipython",
    "version": 3
   },
   "file_extension": ".py",
   "mimetype": "text/x-python",
   "name": "python",
   "nbconvert_exporter": "python",
   "pygments_lexer": "ipython3",
   "version": "3.8.10"
  }
 },
 "nbformat": 4,
 "nbformat_minor": 5
}
