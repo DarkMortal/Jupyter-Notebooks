{
 "cells": [
  {
   "cell_type": "markdown",
   "id": "e4f95a1a-2443-4740-b6f0-b095341b0649",
   "metadata": {},
   "source": [
    "# Topological ordering using BFS\n",
    "## Algorithm\n",
    "1. Maintain a list of indegree of verices.\n",
    "2. Choose the vertex or vertices which has/have 0 as their indegree.\n",
    "3. Add them to the queue.\n",
    "    1. For every vertex in the queue, check if any vertex has any incoming edge to it from the current vertex.\n",
    "    2. If such a vertex is found, decrement its indegree by 1.\n",
    "4. Repeat steps 2 to 3 until the indegree of all the edges becomes 0.\n",
    "5. The contents of the queue in reverse order gives a topological order of the graph.\n",
    "***\n",
    "## Wrapper Class for Graph Visualization"
   ]
  },
  {
   "cell_type": "code",
   "execution_count": 1,
   "id": "b038d2af-274c-4696-a147-d8aa084543b7",
   "metadata": {},
   "outputs": [],
   "source": [
    "import networkx as nx \n",
    "import matplotlib.pyplot as plt \n",
    "\n",
    "# Defining a Class \n",
    "class GraphVisualization: \n",
    "\n",
    "    def __init__(self, weighted, edge_list = [], adjancency_matrix = [], isDirected = False): \n",
    "        self.weighted = weighted\n",
    "        self.G = (nx.DiGraph() if isDirected else nx.Graph())\n",
    "        \n",
    "        if len(edge_list) > 0:\n",
    "            for i in edge_list:\n",
    "                self.G.add_edge(i[0], i[1], weight = i[2])\n",
    "        \n",
    "        elif len(adjancency_matrix) > 0:\n",
    "            for i in range(len(adjancency_matrix)):\n",
    "                for j in range(len(adjancency_matrix[i])):\n",
    "                    if adjancency_matrix[i][j] <= 0: continue\n",
    "                    self.G.add_edge(i+1, j+1, weight = adjancency_matrix[i][j])\n",
    "        \n",
    "        elif len(edge_list) == 0 and len(adjancency_matrix) == 0:\n",
    "            raise Exception(\"I expect atleast an edge-list or an adjancency matrix\")\n",
    "    \n",
    "    # In visualize function G is an object of \n",
    "    # class Graph given by networkx G.add_edges_from(visual) \n",
    "    # creates a graph with a given list \n",
    "    # nx.draw_networkx(G) - plots the graph \n",
    "    # plt.show() - displays the graph \n",
    "    def visualize(self):\n",
    "        pos = nx.spring_layout(self.G, scale = 5000)\n",
    "\n",
    "        # Manually scale up the positions for more spacing\n",
    "        for key in pos:\n",
    "            pos[key] *= 10**5\n",
    "        nx.draw_networkx(self.G, pos, node_size=700, node_color='#00ccff', font_size=10)\n",
    "\n",
    "        if self.weighted:\n",
    "            # Draw edge labels for weights\n",
    "            labels = nx.get_edge_attributes(self.G, 'weight')\n",
    "            nx.draw_networkx_edge_labels(self.G, pos, edge_labels=labels)\n",
    "        plt.show()"
   ]
  },
  {
   "cell_type": "markdown",
   "id": "41c68a67-e3b4-4a08-9ee4-46e564e1c6ea",
   "metadata": {},
   "source": [
    "## Initializing the graph"
   ]
  },
  {
   "cell_type": "code",
   "execution_count": 3,
   "id": "9a96e8fe-b942-4781-9638-eddc60ad3f9d",
   "metadata": {},
   "outputs": [
    {
     "data": {
      "image/png": "[encoded data removed]",
      "text/plain": [
       "<Figure size 640x480 with 1 Axes>"
      ]
     },
     "metadata": {},
     "output_type": "display_data"
    }
   ],
   "source": [
    "edgeList = [\n",
    "    ('B', 'A', 1),\n",
    "    ('B', 'D', 1),\n",
    "    ('A', 'D', 1),\n",
    "    ('D', 'C', 1),\n",
    "    ('D', 'E', 1),\n",
    "    ('G', 'D', 1),\n",
    "    ('G', 'F', 1),\n",
    "    ('F', 'E', 1)\n",
    "]\n",
    "G1 = GraphVisualization(weighted = False, edge_list = edgeList, isDirected = True)\n",
    "G1.visualize()"
   ]
  },
  {
   "cell_type": "markdown",
   "id": "136d2333-074c-4b97-b1fb-6e6d73e2279a",
   "metadata": {},
   "source": [
    "***\n",
    "## Function to convert from edge-list to adjancency-matrix"
   ]
  },
  {
   "cell_type": "code",
   "execution_count": 4,
   "id": "ae7ffad2-25ed-4d87-a8aa-4e167e55dd74",
   "metadata": {},
   "outputs": [],
   "source": [
    "def edge_list_to_adjacency_matrix(edge_list, directed=False):\n",
    "    # get number of vertices\n",
    "    s = set()\n",
    "    for i in edge_list:\n",
    "        s.add(i[0]); s.add(i[1])\n",
    "    num_vertices = len(s)\n",
    "    s = list(s)\n",
    "    # Initialize an n x n matrix with all 0's\n",
    "    adj_matrix = [[0 for _ in range(num_vertices)] for _ in range(num_vertices)]\n",
    "    \n",
    "    # Iterate through each edge in the edge list\n",
    "    for edge in edge_list:\n",
    "        u, v = edge[:2]  # Get the vertices of the edge\n",
    "        adj_matrix[ord(u) - 65][ord(v) - 65] = edge[2]  # Mark edge u -> v with 1 (or edge weight if any)\n",
    "        \n",
    "        if not directed:\n",
    "            adj_matrix[ord(v) - 65][ord(u) - 65] = edge[2]  # For undirected graphs, also mark edge v -> u\n",
    "        else: adj_matrix[ord(v) - 65][ord(u) - 65] = -edge[2]\n",
    "    \n",
    "    return adj_matrix"
   ]
  },
  {
   "cell_type": "code",
   "execution_count": 5,
   "id": "aeac9bbb-6770-46fd-8395-b58af17043f6",
   "metadata": {},
   "outputs": [
    {
     "data": {
      "text/plain": [
       "[[0, -1, 0, 1, 0, 0, 0],\n",
       " [1, 0, 0, 1, 0, 0, 0],\n",
       " [0, 0, 0, -1, 0, 0, 0],\n",
       " [-1, -1, 1, 0, 1, 0, -1],\n",
       " [0, 0, 0, -1, 0, -1, 0],\n",
       " [0, 0, 0, 0, 1, 0, -1],\n",
       " [0, 0, 0, 1, 0, 1, 0]]"
      ]
     },
     "execution_count": 5,
     "metadata": {},
     "output_type": "execute_result"
    }
   ],
   "source": [
    "adjacency_matrix = edge_list_to_adjacency_matrix(edgeList, directed = True)\n",
    "adjacency_matrix"
   ]
  },
  {
   "cell_type": "code",
   "execution_count": 15,
   "id": "cd74f978-6bde-4086-b01e-f98b0491b221",
   "metadata": {},
   "outputs": [
    {
     "data": {
      "text/plain": [
       "{0: 1, 1: 2, 2: 0, 3: 2, 4: 0, 5: 1, 6: 2}"
      ]
     },
     "execution_count": 15,
     "metadata": {},
     "output_type": "execute_result"
    }
   ],
   "source": [
    "incidence_list = {}\n",
    "for i in range(len(adjacency_matrix)):\n",
    "    s = 0\n",
    "    for j in adjacency_matrix[i]:\n",
    "        if j > 0: s += 1\n",
    "    incidence_list[i] = s\n",
    "incidence_list"
   ]
  },
  {
   "cell_type": "code",
   "execution_count": 52,
   "id": "e17f2ad5-e5e2-46df-9226-de2181cab527",
   "metadata": {},
   "outputs": [
    {
     "data": {
      "text/plain": [
       "{2: 0, 4: 0, 0: 1, 5: 1, 1: 2, 3: 2, 6: 2}"
      ]
     },
     "execution_count": 52,
     "metadata": {},
     "output_type": "execute_result"
    }
   ],
   "source": [
    "sorted_incidence_list = {k: v for k, v in sorted(incidence_list.items(), key=lambda item: item[1])}\n",
    "sorted_incidence_list"
   ]
  },
  {
   "cell_type": "markdown",
   "id": "e3801de1-9459-4b96-9c13-2bb2d622a890",
   "metadata": {},
   "source": [
    "## Driver code"
   ]
  },
  {
   "cell_type": "code",
   "execution_count": 53,
   "id": "bb2b3981-2e18-434a-bcc1-debde35c2100",
   "metadata": {},
   "outputs": [],
   "source": [
    "queue = [i for i in sorted_incidence_list.keys() if sorted_incidence_list[i] == 0]\n",
    "top_arr = []\n",
    "\n",
    "while len(sorted_incidence_list) > 0:\n",
    "    for i in queue:\n",
    "        if i not in top_arr: top_arr.append(i)\n",
    "    for i in queue:\n",
    "        # delete the edges\n",
    "        if i in sorted_incidence_list.keys(): del sorted_incidence_list[i]\n",
    "        \n",
    "        for j in range(len(adjacency_matrix)):\n",
    "            if j == i or j in queue: continue\n",
    "            if adjacency_matrix[j][i] > 0: sorted_incidence_list[j] = sorted_incidence_list[j] - 1\n",
    "    # update the queue\n",
    "    queue = [i for i in sorted_incidence_list.keys() if sorted_incidence_list[i] == 0]\n",
    "\n",
    "top_arr.reverse()"
   ]
  },
  {
   "cell_type": "code",
   "execution_count": 54,
   "id": "af011f5f-b8f3-43b0-8980-83b5e185e7f9",
   "metadata": {},
   "outputs": [
    {
     "name": "stdout",
     "output_type": "stream",
     "text": [
      "B G A D F E C "
     ]
    }
   ],
   "source": [
    "for i in top_arr:\n",
    "    print(chr(i + 65), end = \" \")"
   ]
  },
  {
   "cell_type": "markdown",
   "id": "daade482-494e-4ba1-97c6-487314728476",
   "metadata": {},
   "source": [
    "**Note:** Topological ordering of a DAG is not unique.\n",
    "***"
   ]
  }
 ],
 "metadata": {
  "kernelspec": {
   "display_name": "Python kernel developed by Saptarshi Dey",
   "language": "python",
   "name": "python3"
  },
  "language_info": {
   "codemirror_mode": {
    "name": "ipython",
    "version": 3
   },
   "file_extension": ".py",
   "mimetype": "text/x-python",
   "name": "python",
   "nbconvert_exporter": "python",
   "pygments_lexer": "ipython3",
   "version": "3.8.10"
  }
 },
 "nbformat": 4,
 "nbformat_minor": 5
}
