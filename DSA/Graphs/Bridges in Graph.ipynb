{
 "cells": [
  {
   "cell_type": "markdown",
   "id": "cd2b408f-249d-4cab-a103-e94ae403f9fe",
   "metadata": {},
   "source": [
    "# Definition\n",
    "## **Undirected Graphs**\n",
    "- **Definition:**\n",
    "An edge is a bridge if its removal increases the number of connected components (i.e., disconnects the graph).\n",
    "- **Algorithm:**\n",
    "Tarjan’s bridge-finding algorithm is classically designed for undirected graphs.\n",
    "    - When you find a back edge (neighbor `v` is visited and not the parent of `u`), you update `low[u] = min(low[u], disc[v])`.\n",
    "    - The bridge condition is:\n",
    "If `low[v] > disc[u]`, then edge `(u, v)` is a bridge.\n",
    "***\n",
    "## **Directed Graphs**\n",
    "- **Definition:**\n",
    "A bridge in a directed graph is an edge whose removal increases the number of strongly connected components.\n",
    "- **Algorithm:**\n",
    "The classical Tarjan’s bridge-finding algorithm **does not directly apply** to directed graphs.\n",
    "    - The concept of \"parent\" is less meaningful, and the bridge condition is more complex.\n",
    "    - You cannot simply use the same low-link and discovery time logic as in the undirected case.\n",
    "    - In practice, finding bridges in directed graphs typically involves running Tarjan’s SCC algorithm, removing each edge one at a time, and checking if the number of SCCs increases—a much less efficient process.\n",
    "***\n",
    "For simplicity, we shall only focus on the application of Tarjan's algorithm for finding bridges for **un-directed graphs only**.\n",
    "***\n",
    "## Defining the graph"
   ]
  },
  {
   "cell_type": "code",
   "execution_count": 1,
   "id": "f13616db-5abd-49a4-ad15-cbc3b9c5b2d9",
   "metadata": {},
   "outputs": [
    {
     "data": {
      "text/plain": [
       "[[0, 1, 0, 1, 0, 0, 0, 0, 0, 0, 0, 0],\n",
       " [1, 0, 1, 0, 0, 0, 0, 0, 0, 0, 0, 0],\n",
       " [0, 1, 0, 1, 0, 0, 0, 0, 0, 0, 0, 0],\n",
       " [1, 0, 1, 0, 1, 0, 0, 0, 0, 0, 0, 0],\n",
       " [0, 0, 0, 1, 0, 1, 0, 0, 0, 0, 0, 0],\n",
       " [0, 0, 0, 0, 1, 0, 1, 0, 1, 0, 0, 0],\n",
       " [0, 0, 0, 0, 0, 1, 0, 1, 0, 0, 0, 0],\n",
       " [0, 0, 0, 0, 0, 0, 1, 0, 1, 1, 0, 0],\n",
       " [0, 0, 0, 0, 0, 1, 0, 1, 0, 0, 0, 0],\n",
       " [0, 0, 0, 0, 0, 0, 0, 1, 0, 0, 1, 1],\n",
       " [0, 0, 0, 0, 0, 0, 0, 0, 0, 1, 0, 1],\n",
       " [0, 0, 0, 0, 0, 0, 0, 0, 0, 1, 1, 0]]"
      ]
     },
     "execution_count": 1,
     "metadata": {},
     "output_type": "execute_result"
    }
   ],
   "source": [
    "edges = [\n",
    "    (1, 2),\n",
    "    (1, 4),\n",
    "    (2, 3),\n",
    "    (3, 4),\n",
    "    (4, 5),\n",
    "    (5, 6),\n",
    "    (6, 7),\n",
    "    (7, 8),\n",
    "    (8, 9),\n",
    "    (6, 9),\n",
    "    (8, 10),\n",
    "    (10, 11),\n",
    "    (11, 12),\n",
    "    (10, 12)\n",
    "]\n",
    "\n",
    "incidence_matrix = [[0 for i in range(12)] for j in range(12)]\n",
    "\n",
    "for u, v in edges:\n",
    "    incidence_matrix[u - 1][v - 1] = 1\n",
    "    incidence_matrix[v - 1][u - 1] = 1\n",
    "\n",
    "incidence_matrix"
   ]
  },
  {
   "cell_type": "markdown",
   "id": "493c1b05-9c49-4b52-b0c5-9dc533bb5317",
   "metadata": {},
   "source": [
    "## Visualizing the graph"
   ]
  },
  {
   "cell_type": "code",
   "execution_count": 2,
   "id": "4114757b-f74d-4fff-96fb-53ad1e0fcc07",
   "metadata": {},
   "outputs": [],
   "source": [
    "import networkx as nx \n",
    "import matplotlib.pyplot as plt \n",
    "\n",
    "# Defining a Class \n",
    "class GraphVisualization: \n",
    "\n",
    "    def __init__(self, weighted, edge_list = [], adjancency_matrix = [], isDirected = False): \n",
    "        self.weighted = weighted\n",
    "        self.G = (nx.DiGraph() if isDirected else nx.Graph())\n",
    "        \n",
    "        if len(edge_list) > 0:\n",
    "            for i in edge_list:\n",
    "                self.G.add_edge(i[0], i[1], weight = i[2])\n",
    "        \n",
    "        elif len(adjancency_matrix) > 0:\n",
    "            for i in range(len(adjancency_matrix)):\n",
    "                for j in range(len(adjancency_matrix[i])):\n",
    "                    if adjancency_matrix[i][j] <= 0: continue\n",
    "                    self.G.add_edge(i + 1, j + 1, weight = adjancency_matrix[i][j])\n",
    "        \n",
    "        elif len(edge_list) == 0 and len(adjancency_matrix) == 0:\n",
    "            raise Exception(\"I expect atleast an edge-list or an adjancency matrix\")\n",
    "    \n",
    "    # In visualize function G is an object of \n",
    "    # class Graph given by networkx G.add_edges_from(visual) \n",
    "    # creates a graph with a given list \n",
    "    # nx.draw_networkx(G) - plots the graph \n",
    "    # plt.show() - displays the graph \n",
    "    def visualize(self):\n",
    "        pos = nx.spring_layout(self.G, scale = 5000)\n",
    "\n",
    "        # Manually scale up the positions for more spacing\n",
    "        for key in pos:\n",
    "            pos[key] *= 10000\n",
    "        nx.draw_networkx(self.G, pos, node_size=700, node_color='#00ccff', font_size=10)\n",
    "\n",
    "        if self.weighted:\n",
    "            # Draw edge labels for weights\n",
    "            labels = nx.get_edge_attributes(self.G, 'weight')\n",
    "            nx.draw_networkx_edge_labels(self.G, pos, edge_labels=labels)\n",
    "        plt.show()"
   ]
  },
  {
   "cell_type": "code",
   "execution_count": 3,
   "id": "d29c8217-c231-4dc9-82ee-e679ba390c04",
   "metadata": {},
   "outputs": [
    {
     "data": {
      "image/png": "[encoded data removed]",
      "text/plain": [
       "<Figure size 640x480 with 1 Axes>"
      ]
     },
     "metadata": {},
     "output_type": "display_data"
    }
   ],
   "source": [
    "G1 = GraphVisualization(weighted = False, adjancency_matrix = incidence_matrix, isDirected = False)\n",
    "G1.visualize()"
   ]
  },
  {
   "cell_type": "markdown",
   "id": "3b745141-8ff4-4227-bafa-ee90c49c5a0e",
   "metadata": {},
   "source": [
    "# Algorithm\n",
    "- First, we need to create the adjacency list for the given graph from the edge information(If not already given). And we will declare a variable timer(either globally or we can carry it while calling DFS), that will keep track of the time of insertion for each node.\n",
    "- Then we will start DFS from node 0(assuming the graph contains a single component otherwise, we will call DFS for every component) with parent -1.\n",
    "  - Inside DFS, we will first mark the node visited and then store the time of insertion and the lowest time of insertion properly. The timer may be initialized to 0 or 1.\n",
    "  - Now, it’s time to visit the adjacent nodes. \n",
    "    - If the adjacent node is the parent itself, we will just continue to the next node.\n",
    "    - If the adjacent node is not visited, we will call DFS for the adjacent node with the current node as the parent.<br/>After the DFS gets completed, we will compare the lowest time of insertion of the current node and the adjacent node and take the minimum one.<br/>Now, we will check if the lowest time of insertion of the adjacent node is greater than the time of insertion of the current node.\n",
    "If it is, then we will store the adjacent node and the current node in our answer array as they are representing the bridge.\n",
    "    - If the adjacent node is already visited, we will just compare the lowest time of insertion of the current node and the adjacent node and take the minimum one.\n",
    "- Finally, our answer array will store all the bridges.\n",
    "***"
   ]
  },
  {
   "cell_type": "code",
   "execution_count": 4,
   "id": "e97a05d2-be6f-4532-8c99-89d044d9d62e",
   "metadata": {},
   "outputs": [],
   "source": [
    "from typing import List\n",
    "\n",
    "class graphTraversal:\n",
    "    def __init__(self, graph_: List[List[int]]):\n",
    "        self.searchTime = 0\n",
    "        self.bridges = []\n",
    "        self.graph = graph_[:]\n",
    "        self.numVertices = len(self.graph)\n",
    "        self.lowLinkValues = [0 for i in range(self.numVertices)]\n",
    "        self.searchTimes = [0 for i in range(self.numVertices)]\n",
    "        self.visitedVertices = [False for i in range(self.numVertices)]\n",
    "\n",
    "    def reset(self):\n",
    "        self.numVertices = len(self.unvisitedVertices)\n",
    "        self.lowLinkValues = [0 for i in range(self.numVertices)]\n",
    "        self.searchTimes = [0 for i in range(self.numVertices)]\n",
    "\n",
    "    def dfs(self, vertex = 0, parent = 0):\n",
    "        # if vertex already visited, return it's low-link value\n",
    "        if self.visitedVertices[vertex]:\n",
    "            return self.lowLinkValues[vertex]\n",
    "\n",
    "        self.searchTime += 1\n",
    "\n",
    "        # if low link value of vertex is not set\n",
    "        self.searchTimes[vertex] = self.searchTime\n",
    "        self.lowLinkValues[vertex] = self.searchTime\n",
    "        \n",
    "        # add vertex to list of visited vertex\n",
    "        self.visitedVertices[vertex] = True\n",
    "        \n",
    "        # traverse all edges\n",
    "        for edge in range(self.numVertices):\n",
    "            if self.graph[vertex][edge] == 1 and not edge == parent:\n",
    "                result = self.dfs(edge, vertex)\n",
    "                if result < self.lowLinkValues[vertex]:\n",
    "                    self.lowLinkValues[vertex] = result\n",
    "                elif result > self.searchTimes[vertex]:  # see important interview question\n",
    "                    if (vertex + 1, edge + 1) not in self.bridges:\n",
    "                        self.bridges.append((vertex + 1, edge + 1))\n",
    "        \n",
    "        # remove the current vertex from the visited array\n",
    "        self.visitedVertices[vertex] = False\n",
    "        return self.lowLinkValues[vertex]"
   ]
  },
  {
   "cell_type": "code",
   "execution_count": 5,
   "id": "5b9a4183-2920-449a-b4f9-3cf236e05e56",
   "metadata": {},
   "outputs": [
    {
     "data": {
      "text/plain": [
       "[(8, 10), (5, 6), (4, 5)]"
      ]
     },
     "execution_count": 5,
     "metadata": {},
     "output_type": "execute_result"
    }
   ],
   "source": [
    "graph = graphTraversal(incidence_matrix)\n",
    "graph.dfs()\n",
    "graph.bridges"
   ]
  },
  {
   "cell_type": "markdown",
   "id": "0e75185a-27f4-4e7d-b66e-9b9007e4530d",
   "metadata": {},
   "source": [
    "## Interview question\n",
    "What's the problem if we use `lowLink[edge] > lowLink[vertex]`?\n",
    "### **Why is `lowLink[edge] > disc[vertex]` the correct condition?**\n",
    "\n",
    "- **`disc[vertex]`** is the time when the DFS first discovers `vertex`.\n",
    "- **`lowLink[edge]`** is the lowLinkest discovery time reachable from `edge` (including itself and its descendants, possibly via back edges).\n",
    "\n",
    "The correct bridge condition:\n",
    "> **If `lowLink[edge] > disc[vertex]`, then the edge `(vertex, edge)` is a bridge.**\n",
    "\n",
    "This means:\n",
    "After DFS from `vertex` to `edge`, if `edge` (and its descendants) cannot reach `vertex` or any of its ancestors via a back edge (i.e., `lowLink[edge]` is strictly greater than `disc[vertex]`), then removing `(vertex, edge)` would disconnect the graph.\n",
    "\n",
    "### **Why is `lowLink[edge] > lowLink[vertex]` incorrect?**\n",
    "\n",
    "- **`lowLink[vertex]`** may have been updated by other child subtrees or back edges, not just the current DFS path to `edge`.\n",
    "- Comparing `lowLink[edge]` to `lowLink[vertex]` does **not** tell you whether `edge`'s subtree can reach above `vertex` in the DFS tree.\n",
    "- This can result in:\n",
    "    - **Missing bridges:** If `lowLink[vertex]` has been lowLinkered by another subtree, but `edge`'s subtree is truly only connected via `(vertex, edge)`, you won't detect the bridge.\n",
    "    - **False bridges:** If `lowLink[vertex]` is higher due to lack of back edges elsewhere, you might incorrectly report a bridge.\n",
    "***"
   ]
  }
 ],
 "metadata": {
  "kernelspec": {
   "display_name": "Python kernel developed by Saptarshi Dey",
   "language": "python",
   "name": "python3"
  },
  "language_info": {
   "codemirror_mode": {
    "name": "ipython",
    "version": 3
   },
   "file_extension": ".py",
   "mimetype": "text/x-python",
   "name": "python",
   "nbconvert_exporter": "python",
   "pygments_lexer": "ipython3",
   "version": "3.8.10"
  }
 },
 "nbformat": 4,
 "nbformat_minor": 5
}
