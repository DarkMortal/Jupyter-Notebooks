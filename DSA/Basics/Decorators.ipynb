{
 "cells": [
  {
   "cell_type": "markdown",
   "id": "cde0928f",
   "metadata": {},
   "source": [
    "### Decorators are function that takes a function as an argument and outputs another function. They change the behaviour of the function without changing the function itself."
   ]
  },
  {
   "cell_type": "code",
   "execution_count": 1,
   "id": "e2b005d2",
   "metadata": {},
   "outputs": [],
   "source": [
    "def smart_pow(func):\n",
    "\n",
    "    def inner(*args, **kwargs):\n",
    "        if isinstance(args[1], float) or args[1] < 0.0:\n",
    "            return func(args[0]**args[1], 1)\n",
    "        else:\n",
    "            return func(*args, **kwargs)\n",
    "\n",
    "    return inner\n",
    "\n",
    "def smart_fact(func):\n",
    "\n",
    "    def inner(*args, **kwargs):\n",
    "        if args[0] < 0:\n",
    "            raise ArithmeticError(\"Argument can't be less than 0\")\n",
    "        if isinstance(args[0], float):\n",
    "            from math import gamma\n",
    "            return gamma(args[0]+1.0)\n",
    "        else:\n",
    "            return func(*args, **kwargs)\n",
    "\n",
    "    return inner"
   ]
  },
  {
   "cell_type": "markdown",
   "id": "13a38a4b",
   "metadata": {},
   "source": [
    "## smart_pow and smart_fact are decorators for functions pow and fact respectively"
   ]
  },
  {
   "cell_type": "code",
   "execution_count": 2,
   "id": "bb195a60",
   "metadata": {},
   "outputs": [],
   "source": [
    "@smart_pow\n",
    "def pow(x, y):\n",
    "    if y == 0:\n",
    "        return 1\n",
    "    return x * pow(x, y - 1)\n",
    "\n",
    "@smart_fact\n",
    "def fact(x):\n",
    "    if x == 0:\n",
    "        return 1\n",
    "    return x * fact(x - 1)"
   ]
  },
  {
   "cell_type": "markdown",
   "id": "11d1c033",
   "metadata": {},
   "source": [
    "## Driver Code"
   ]
  },
  {
   "cell_type": "code",
   "execution_count": 3,
   "id": "dcd76772",
   "metadata": {},
   "outputs": [
    {
     "name": "stdout",
     "output_type": "stream",
     "text": [
      "8\n",
      "11.313708498984761\n",
      "120\n",
      "287.8852778150444\n",
      "Exception: Argument can't be less than 0\n"
     ]
    }
   ],
   "source": [
    "if __name__ == \"__main__\":\n",
    "    try:\n",
    "        print(pow(2, 3))\n",
    "        print(pow(2, 3.5))\n",
    "\n",
    "        print(fact(5))\n",
    "        print(fact(5.5))\n",
    "        \n",
    "        print(fact(-2.0))\n",
    "    except Exception as exc:\n",
    "        print('Exception:', str(exc))"
   ]
  },
  {
   "cell_type": "markdown",
   "id": "d5d7e0b5-be72-491e-9ef8-d728dcabc7af",
   "metadata": {},
   "source": [
    "***"
   ]
  }
 ],
 "metadata": {
  "kernelspec": {
   "display_name": "Python 3 (ipykernel)",
   "language": "python",
   "name": "python3"
  },
  "language_info": {
   "codemirror_mode": {
    "name": "ipython",
    "version": 3
   },
   "file_extension": ".py",
   "mimetype": "text/x-python",
   "name": "python",
   "nbconvert_exporter": "python",
   "pygments_lexer": "ipython3",
   "version": "3.8.10"
  }
 },
 "nbformat": 4,
 "nbformat_minor": 5
}
