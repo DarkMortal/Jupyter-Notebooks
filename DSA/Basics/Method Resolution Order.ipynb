{
 "cells": [
  {
   "cell_type": "markdown",
   "id": "0161c452",
   "metadata": {},
   "source": [
    "## MRO stands for Method Resolution Order. It says that whenever there is multiple inheritance of 2 or more parent classes by one base class, unlike c++, in case of an overloading, the methods and constructors are called in order of left to right "
   ]
  },
  {
   "cell_type": "code",
   "execution_count": 8,
   "id": "1008384b",
   "metadata": {},
   "outputs": [],
   "source": [
    "class A:\n",
    "    #Python variant of function object of c++\n",
    "    def __call__(self, x):\n",
    "        return \"Value passed from class-A = \"+str(x)\n",
    "    def __init__(self):\n",
    "        print(\"Constructor of class A is called\")\n",
    "\n",
    "class B:\n",
    "    def __call__(self, x):\n",
    "        return \"Value passed from class-B = \"+str(x)\n",
    "    def __init__(self):\n",
    "        print(\"Constructor of class B is called\")"
   ]
  },
  {
   "cell_type": "markdown",
   "id": "de31a205",
   "metadata": {},
   "source": [
    "## Driver code-1"
   ]
  },
  {
   "cell_type": "code",
   "execution_count": 14,
   "id": "0ce30004",
   "metadata": {},
   "outputs": [
    {
     "name": "stdout",
     "output_type": "stream",
     "text": [
      "Constructor of class A is called\n",
      "Value passed from class-A = Hello\n"
     ]
    }
   ],
   "source": [
    "if __name__==\"__main__\":\n",
    "    class C(A,B):\n",
    "        pass\n",
    "    a = C()\n",
    "    print(a(\"Hello\"))"
   ]
  },
  {
   "cell_type": "markdown",
   "id": "bf9a7738",
   "metadata": {},
   "source": [
    "## Driver code-2"
   ]
  },
  {
   "cell_type": "code",
   "execution_count": 15,
   "id": "d389ea44",
   "metadata": {},
   "outputs": [
    {
     "name": "stdout",
     "output_type": "stream",
     "text": [
      "Constructor of class B is called\n",
      "Value passed from class-B = World\n"
     ]
    }
   ],
   "source": [
    "if __name__==\"__main__\":\n",
    "    class D(B,A):\n",
    "        pass\n",
    "    b = D()\n",
    "    print(b(\"World\"))"
   ]
  }
 ],
 "metadata": {
  "kernelspec": {
   "display_name": "Python 3 (ipykernel)",
   "language": "python",
   "name": "python3"
  },
  "language_info": {
   "codemirror_mode": {
    "name": "ipython",
    "version": 3
   },
   "file_extension": ".py",
   "mimetype": "text/x-python",
   "name": "python",
   "nbconvert_exporter": "python",
   "pygments_lexer": "ipython3",
   "version": "3.8.10"
  }
 },
 "nbformat": 4,
 "nbformat_minor": 5
}
