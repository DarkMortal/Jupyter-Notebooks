{
 "cells": [
  {
   "cell_type": "markdown",
   "id": "7fcb83a5",
   "metadata": {},
   "source": [
    "## Iterators are used when we need more control in the iteration process. Iterators can enable lazy evaluation, which means that the elements are generated or fetched only when needed, rather than loading the  entire sequence into memory upfront. This is particularly useful when dealing with large or infinite sequences. Loops, on the other hand, typically require the entire sequence to be available in memory or predefined before execution.\n",
    "\n",
    "## Below is an example of a predefined iterator in python"
   ]
  },
  {
   "cell_type": "code",
   "execution_count": 1,
   "id": "808d7cee",
   "metadata": {},
   "outputs": [
    {
     "name": "stdout",
     "output_type": "stream",
     "text": [
      "1 4 2 5 3 -2 -1 6 \n"
     ]
    }
   ],
   "source": [
    "arr = [1,4,2,5,3,-2,-1,6]\n",
    "\n",
    "my_iterator = iter(arr)\n",
    "\n",
    "# next(it1) and it1.__next__() does the same thing\n",
    "\n",
    "print(next(my_iterator),end = \" \")      # prints 1 \n",
    "print(my_iterator.__next__(),end = \" \") # prints 4\n",
    "\n",
    "# prints the rest of the numbers\n",
    "for i in my_iterator:\n",
    "    print(i,end = \" \")\n",
    "print()"
   ]
  },
  {
   "cell_type": "markdown",
   "id": "c762e78c",
   "metadata": {},
   "source": [
    "## Below is an example of a custom made iterator"
   ]
  },
  {
   "cell_type": "code",
   "execution_count": 2,
   "id": "324eaaf4",
   "metadata": {},
   "outputs": [
    {
     "name": "stdout",
     "output_type": "stream",
     "text": [
      "1 4 2 5 3 -2 -1 6 \n",
      "3 9 5 11 7 -3 -1 13 \n"
     ]
    }
   ],
   "source": [
    "# Creating a custom iterator for a list\n",
    "class myIterator:\n",
    "    def __init__(self, iterable, someFunction = lambda x:x):\n",
    "        self.iterable = iterable\n",
    "        self.index = 0\n",
    "        self.function = someFunction\n",
    "\n",
    "    def __iter__(self):\n",
    "        return self\n",
    "\n",
    "    def __next__(self):\n",
    "        if self.index >= len(self.iterable):\n",
    "            raise StopIteration\n",
    "        value = self.iterable[self.index]\n",
    "        self.index += 1\n",
    "        return self.function(value)\n",
    "\n",
    "# Using custom iterator\n",
    "my_iterator2 = myIterator(arr)\n",
    "my_iterator3 = myIterator(arr,lambda x:2*x+1)\n",
    "\n",
    "for item in my_iterator2:\n",
    "    print(item, end = \" \")\n",
    "print()\n",
    "\n",
    "for item in my_iterator3:\n",
    "    print(item, end = \" \")\n",
    "print()"
   ]
  },
  {
   "cell_type": "markdown",
   "id": "085f6fa6",
   "metadata": {},
   "source": [
    "## Generators in python are functions that return iterators. Example given below"
   ]
  },
  {
   "cell_type": "code",
   "execution_count": 3,
   "id": "cd8dcb0d",
   "metadata": {},
   "outputs": [],
   "source": [
    "def myGenerator(n, someFunc = lambda x:x):\n",
    "    x = 0\n",
    "    while x <= n:\n",
    "        x += 1\n",
    "        yield someFunc(x)"
   ]
  },
  {
   "cell_type": "markdown",
   "id": "73ef04a6",
   "metadata": {},
   "source": [
    "## Driver code"
   ]
  },
  {
   "cell_type": "code",
   "execution_count": 4,
   "id": "54f11602",
   "metadata": {},
   "outputs": [
    {
     "name": "stdout",
     "output_type": "stream",
     "text": [
      "1 2 3 4 5 6 \n",
      "1 4 9 16 25 36 \n"
     ]
    }
   ],
   "source": [
    "if __name__ == \"__main__\":\n",
    "    arr1 = myGenerator(5)\n",
    "    arr2 = myGenerator(5, lambda x:x*x)\n",
    "\n",
    "    for i in arr1:\n",
    "        print(i, end = \" \")\n",
    "    print()\n",
    "    \n",
    "    for i in arr2:\n",
    "        print(i, end = \" \")\n",
    "    print()"
   ]
  }
 ],
 "metadata": {
  "kernelspec": {
   "display_name": "Python 3 (ipykernel)",
   "language": "python",
   "name": "python3"
  },
  "language_info": {
   "codemirror_mode": {
    "name": "ipython",
    "version": 3
   },
   "file_extension": ".py",
   "mimetype": "text/x-python",
   "name": "python",
   "nbconvert_exporter": "python",
   "pygments_lexer": "ipython3",
   "version": "3.8.10"
  }
 },
 "nbformat": 4,
 "nbformat_minor": 5
}
