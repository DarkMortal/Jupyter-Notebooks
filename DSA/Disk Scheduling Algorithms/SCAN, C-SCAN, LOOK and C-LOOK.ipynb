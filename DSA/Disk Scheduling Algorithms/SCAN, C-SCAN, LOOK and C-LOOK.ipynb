{
 "cells": [
  {
   "cell_type": "markdown",
   "id": "53f590e3-489d-4499-8cb4-fe8fa4b9cf2c",
   "metadata": {},
   "source": [
    "# SCAN Disk Scheduling Algorithm\n",
    "- As the name suggests, this algorithm scans all the cylinders of the disk back and forth.\n",
    "- Head starts from one end of the disk and move towards the other end servicing all the requests in between.\n",
    "- After reaching the other end, head reverses its direction and move towards the starting end servicing all the requests in between.\n",
    "- The same process repeats.\n",
    "## Advantages\n",
    "- It is simple, easy to understand and implement.\n",
    "- It does not lead to starvation.\n",
    "- It provides low variance in response time and waiting time.\n",
    "## Disadvantages\n",
    "- It causes long waiting time for the cylinders just visited by the head.\n",
    "- It causes the head to move till the end of the disk even if there are no requests to be serviced.\n",
    "***"
   ]
  },
  {
   "cell_type": "code",
   "execution_count": 1,
   "id": "3145bbd6-caf3-4cf2-b3cb-bd73ab6b8d61",
   "metadata": {},
   "outputs": [],
   "source": [
    "def scan(arr: list, start: int, RANGE: tuple, upDirection = True, log = False) -> int:\n",
    "    if upDirection == True:\n",
    "        rotations = RANGE[1] - start\n",
    "        t = min(arr)\n",
    "        rotations += (RANGE[1] - t)\n",
    "        if log == True:\n",
    "            print(f'({RANGE[1]} - {start}) + ({RANGE[1]} - {t}) = {rotations}')\n",
    "        return rotations\n",
    "    else:\n",
    "        rotations = start - RANGE[0]\n",
    "        t = max(arr)\n",
    "        rotations += (t - RANGE[0])\n",
    "        if log == True:\n",
    "            print(f'({start} - {RANGE[0]}) + ({t} - {RANGE[0]}) = {rotations}')\n",
    "        return rotations"
   ]
  },
  {
   "cell_type": "markdown",
   "id": "e165cb5b-5ff7-4d7a-a1d1-e0e9a340ed43",
   "metadata": {},
   "source": [
    "# C-SCAN Disk Scheduling Algorithm\n",
    "- Circular-SCAN Algorithm is an improved version of the SCAN Algorithm.\n",
    "- Head starts from one end of the disk and move towards the other end servicing all the requests in between.\n",
    "- After reaching the other end, head reverses its direction.\n",
    "- It then returns to the starting end without servicing any request in between.\n",
    "- The same process repeats.\n",
    "## Advantages\n",
    "- The waiting time for the cylinders just visited by the head is reduced as compared to the SCAN Algorithm.\n",
    "- It provides uniform waiting time.\n",
    "- It provides better response time.\n",
    "## Disadvantages\n",
    "- It causes more seek movements as compared to SCAN Algorithm.\n",
    "- It causes the head to move till the end of the disk even if there are no requests to be serviced.\n",
    "***"
   ]
  },
  {
   "cell_type": "code",
   "execution_count": 2,
   "id": "0b87b337-ab78-49e6-bce1-66a6452e55bc",
   "metadata": {},
   "outputs": [],
   "source": [
    "def c_scan(arr: list, start: int, RANGE: tuple, upDirection = True, log = False) -> int:\n",
    "    t1 = max(arr)\n",
    "    t2 = min(arr)\n",
    "\n",
    "    # edge conditions first\n",
    "    if t1 < start:\n",
    "        if upDirection:\n",
    "            rotations = (start - RANGE[0]) + (t1 - RANGE[0])\n",
    "            if log == True:\n",
    "                print(f'({start} - {RANGE[0]}) + ({t1} - {RANGE[0]}) = {rotations}')\n",
    "            return rotations\n",
    "        \n",
    "        else:\n",
    "            rotations = start - RANGE[0]\n",
    "            if log == True:\n",
    "                print(f'{start} - {RANGE[0]} = {rotations}')\n",
    "            return rotations\n",
    "        \n",
    "    if start < t2:\n",
    "        if upDirection:\n",
    "            rotations = RANGE[1] - start\n",
    "            if log == True:\n",
    "                print(f'{RANGE[1]} - {start} = {rotations}')\n",
    "            return rotations\n",
    "        \n",
    "        else:\n",
    "            rotations = (start - RANGE[0]) + (t1 - RANGE[0])\n",
    "            if log == True:\n",
    "                print(f'({start} - {RANGE[0]}) + ({t1} - {RANGE[0]}) = {rotations}')\n",
    "            return rotations\n",
    "    \n",
    "    if upDirection == True:\n",
    "        rotations = abs(RANGE[1] - start)\n",
    "        firstMaxIndex = max([i for i in arr if i < start])\n",
    "        rotations += ((RANGE[1] - RANGE[0]) + (firstMaxIndex - RANGE[0]))\n",
    "\n",
    "        if log == True:\n",
    "            print(f'({RANGE[1]} - {start}) + ({RANGE[1]} - {RANGE[0]}) + ({firstMaxIndex} - {RANGE[0]}) = {rotations}')\n",
    "        return rotations\n",
    "    else:\n",
    "        rotations = abs(start - RANGE[0])\n",
    "        lastMaxIndex = min([i for i in arr if i > start])\n",
    "        rotations += ((RANGE[1] - RANGE[0]) + (RANGE[1] - lastMaxIndex))\n",
    "\n",
    "        if log == True:\n",
    "            print(f'({start} - {RANGE[0]}) + ({RANGE[1]} - {RANGE[0]}) + ({RANGE[1]} - {lastMaxIndex}) = {rotations}')\n",
    "        return rotations"
   ]
  },
  {
   "cell_type": "markdown",
   "id": "4b5b82a7-12b9-46ad-8b61-93173988622f",
   "metadata": {},
   "source": [
    "# LOOK Disk Scheduling Algorithm\n",
    "- LOOK Algorithm is an improved version of the SCAN Algorithm.\n",
    "- Head starts from the first request at one end of the disk and moves towards the last request at the other end servicing all the requests in between.\n",
    "- After reaching the last request at the other end, head reverses its direction.\n",
    "- It then returns to the first request at the starting end servicing all the requests in between.\n",
    "- The same process repeats.\n",
    "\n",
    "**NOTE**\n",
    "- The main difference between SCAN Algorithm and LOOK Algorithm is.\n",
    "- SCAN Algorithm scans all the cylinders of the disk starting from one end to the other end even if there are no requests at the ends.\n",
    "- LOOK Algorithm scans all the cylinders of the disk starting from the first request at one end to the last request at the other end.\n",
    " \n",
    "## Advantages\n",
    "- It does not cause the head to move till the ends of the disk when there are no requests to be serviced.\n",
    "- It provides better performance as compared to SCAN Algorithm.\n",
    "- It does not lead to starvation.\n",
    "- It provides low variance in response time and waiting time.\n",
    "\n",
    "## Disadvantages\n",
    "- There is an overhead of finding the end requests.\n",
    "- It causes long waiting time for the cylinders just visited by the head."
   ]
  },
  {
   "cell_type": "code",
   "execution_count": 3,
   "id": "1f6e55bf-81be-4515-b093-c10c26b1f5dd",
   "metadata": {},
   "outputs": [],
   "source": [
    "def look(arr: list, start: int, upDirection = True, log = False) -> int:\n",
    "    t1 = max(arr)\n",
    "    t2 = min(arr)\n",
    "\n",
    "    # edge conditions first\n",
    "    if t1 < start:\n",
    "        rotations = start - t2\n",
    "        if log == True:\n",
    "            print(f'{start} - {t2} = {rotations}')\n",
    "        return rotations\n",
    "        \n",
    "    if start < t2:\n",
    "        rotations = t1 - start\n",
    "        if log == True:\n",
    "            print(f'{t1} - {start} = {rotations}')\n",
    "        return rotations\n",
    "    \n",
    "    if upDirection == True:\n",
    "        rotations = t1 - start\n",
    "        rotations += (t1 - t2)\n",
    "        if log == True:\n",
    "            print(f'({t1} - {start}) + ({t1} - {t2}) = {rotations}')\n",
    "        return rotations\n",
    "\n",
    "    else:\n",
    "        rotations = start - t2\n",
    "        rotations += (t1 - t2)\n",
    "        if log == True:\n",
    "            print(f'({start} - {t2}) + ({t1} - {t2}) = {rotations}')\n",
    "        return rotations"
   ]
  },
  {
   "cell_type": "markdown",
   "id": "06a5a7d3-e0aa-49bb-9a0f-c8ecf53369a6",
   "metadata": {},
   "source": [
    "# C-LOOK Disk Scheduling Algorithm\n",
    "- Circular-LOOK Algorithm is an improved version of the LOOK Algorithm.\n",
    "- Head starts from the first request at one end of the disk and moves towards the last request at the other end servicing all the requests in between.\n",
    "- After reaching the last request at the other end, head reverses its direction.\n",
    "- It then returns to the first request at the starting end without servicing any request in between.\n",
    "- The same process repeats.\n",
    "## Advantages\n",
    "- It does not causes the head to move till the ends of the disk when there are no requests to be serviced.\n",
    "- It reduces the waiting time for the cylinders just visited by the head.\n",
    "- It provides better performance as compared to LOOK Algorithm.\n",
    "- It does not lead to starvation.\n",
    "- It provides low variance in response time and waiting time.\n",
    "## Disadvantages\n",
    "- There is an overhead of finding the end requests."
   ]
  },
  {
   "cell_type": "code",
   "execution_count": 4,
   "id": "38cd3bd1-93ed-4748-a516-e696327dec16",
   "metadata": {},
   "outputs": [],
   "source": [
    "def c_look(arr: list, start: int, upDirection = True, log = False) -> int:\n",
    "    t1 = max(arr)\n",
    "    t2 = min(arr)\n",
    "\n",
    "    # edge conditions first\n",
    "    if t1 < start:\n",
    "        if upDirection:\n",
    "            rotations = (start - t2) + (t1 - t2)\n",
    "            if log == True:\n",
    "                print(f'({start} - {t2}) + ({t1} - {t2}) = {rotations}')\n",
    "            return rotations\n",
    "        \n",
    "        else:\n",
    "            rotations = start - t2\n",
    "            if log == True:\n",
    "                print(f'{start} - {t2} = {rotations}')\n",
    "            return rotations\n",
    "        \n",
    "    if start < t2:\n",
    "        if upDirection:\n",
    "            rotations = t1 - start\n",
    "            if log == True:\n",
    "                print(f'{t1} - {start} = {rotations}')\n",
    "            return rotations\n",
    "        \n",
    "        else:\n",
    "            rotations = (start - t2) + (t1 - t2)\n",
    "            if log == True:\n",
    "                print(f'({start} - {t2}) + ({t1} - {t2}) = {rotations}')\n",
    "            return rotations\n",
    "    \n",
    "    if upDirection == True:\n",
    "        rotations = abs(t1 - start)\n",
    "        firstMaxIndex = max([i for i in arr if i < start])\n",
    "        rotations += ((t1 - t2) + (firstMaxIndex - t2))\n",
    "\n",
    "        if log == True:\n",
    "            print(f'({t1} - {start}) + ({t1} - {t2}) + ({firstMaxIndex} - {t2}) = {rotations}')\n",
    "        return rotations\n",
    "    else:\n",
    "        rotations = abs(start - t2)\n",
    "        lastMaxIndex = min([i for i in arr if i > start])\n",
    "        rotations += ((t1 - t2) + (t1 - lastMaxIndex))\n",
    "\n",
    "        if log == True:\n",
    "            print(f'({start} - {t2}) + ({t1} - {t2}) + ({t1} - {lastMaxIndex}) = {rotations}')\n",
    "        return rotations"
   ]
  },
  {
   "cell_type": "code",
   "execution_count": 5,
   "id": "5cee4546-f123-4adb-b87b-7b1170517620",
   "metadata": {},
   "outputs": [],
   "source": [
    "currentHead = 53\n",
    "trackRange = (0, 199)\n",
    "requestArray = [98, 183, 41, 122, 14, 124, 65, 67]"
   ]
  },
  {
   "cell_type": "markdown",
   "id": "dd3fb563-decb-46f1-8c81-809e76814f8a",
   "metadata": {},
   "source": [
    "# Questions\n",
    "Q1. Consider a disk queue with requests for I/O to blocks on cylinders $\\ 98, 183, 41, 122, 14, 124, 65, 67\\ $. The SCAN scheduling algorithm is used. The head is initially at cylinder number $53$ moving towards larger cylinder numbers on its servicing pass. The cylinders are numbered from $0$ to $199$. The total head movement (in number of cylinders) incurred while servicing these requests is _______"
   ]
  },
  {
   "cell_type": "code",
   "execution_count": 6,
   "id": "cb529690-fa6e-4bf2-a326-8fe634322785",
   "metadata": {},
   "outputs": [
    {
     "name": "stdout",
     "output_type": "stream",
     "text": [
      "(199 - 53) + (199 - 14) = 331\n",
      "Total number of head movements = 331\n"
     ]
    }
   ],
   "source": [
    "print(f'Total number of head movements = {scan(requestArray, currentHead, trackRange, upDirection = True, log = True)}')"
   ]
  },
  {
   "cell_type": "markdown",
   "id": "ec2dbe97-43e2-4f4a-a937-48f0e5cc0cf5",
   "metadata": {},
   "source": [
    "![](https://www.gatevidyalay.com/wp-content/uploads/2018/11/SCAN-Disk-Scheduling-Algorithm-Problem-01.png)\n",
    "***\n",
    "Q2. Consider a disk queue with requests for I/O to blocks on cylinders $\\ 98, 183, 41, 122, 14, 124, 65, 67\\ $. The C-SCAN scheduling algorithm is used. The head is initially at cylinder number $53$ moving towards larger cylinder numbers on its servicing pass. The cylinders are numbered from $0$ to $199$. The total head movement (in number of cylinders) incurred while servicing these requests is _______"
   ]
  },
  {
   "cell_type": "code",
   "execution_count": 7,
   "id": "be43d4a0-0b33-47ad-95a6-c038665903a5",
   "metadata": {},
   "outputs": [
    {
     "name": "stdout",
     "output_type": "stream",
     "text": [
      "(199 - 53) + (199 - 0) + (41 - 0) = 386\n",
      "Total number of head movements = 386\n"
     ]
    }
   ],
   "source": [
    "print(f'Total number of head movements = {c_scan(requestArray, currentHead, trackRange, upDirection = True, log = True)}')"
   ]
  },
  {
   "cell_type": "markdown",
   "id": "b102636f-d947-419e-bee6-ba6d25cd1a4b",
   "metadata": {},
   "source": [
    "![](https://www.gatevidyalay.com/wp-content/uploads/2018/11/C-SCAN-Disk-Scheduling-Algorithm-Problem-01.png)\n",
    "***\n",
    "Q3. Consider a disk queue with requests for I/O to blocks on cylinders $\\ 98, 183, 41, 122, 14, 124, 65, 67\\ $. The LOOK scheduling algorithm is used. The head is initially at cylinder number $53$ moving towards larger cylinder numbers on its servicing pass. The cylinders are numbered from $0$ to $199$. The total head movement (in number of cylinders) incurred while servicing these requests is _______"
   ]
  },
  {
   "cell_type": "code",
   "execution_count": 8,
   "id": "38eb50c5-3fde-4b64-b97e-3819b0941655",
   "metadata": {},
   "outputs": [
    {
     "name": "stdout",
     "output_type": "stream",
     "text": [
      "(183 - 53) + (183 - 14) = 299\n",
      "Total number of head movements = 299\n"
     ]
    }
   ],
   "source": [
    "print(f'Total number of head movements = {look(requestArray, currentHead, upDirection = True, log = True)}')"
   ]
  },
  {
   "cell_type": "markdown",
   "id": "b0bcdf2b-af44-40c5-bda4-6fc5574169d2",
   "metadata": {},
   "source": [
    "![](https://www.gatevidyalay.com/wp-content/uploads/2018/11/LOOK-Disk-Scheduling-Algorithm-Problem-01.png)\n",
    "***\n",
    "Q4. Consider a disk queue with requests for I/O to blocks on cylinders $\\ 98, 183, 41, 122, 14, 124, 65, 67\\ $. The C-LOOK scheduling algorithm is used. The head is initially at cylinder number $53$ moving towards larger cylinder numbers on its servicing pass. The cylinders are numbered from $0$ to $199$. The total head movement (in number of cylinders) incurred while servicing these requests is _______"
   ]
  },
  {
   "cell_type": "code",
   "execution_count": 9,
   "id": "34f12034-4d0c-4036-8670-ddedb3bc06c8",
   "metadata": {},
   "outputs": [
    {
     "name": "stdout",
     "output_type": "stream",
     "text": [
      "(183 - 53) + (183 - 14) + (41 - 14) = 326\n",
      "Total number of head movements = 326\n"
     ]
    }
   ],
   "source": [
    "print(f'Total number of head movements = {c_look(requestArray, currentHead, upDirection = True, log = True)}')"
   ]
  },
  {
   "cell_type": "markdown",
   "id": "b5e17323-6657-421e-a153-99f7818b0cfe",
   "metadata": {},
   "source": [
    "![](https://www.gatevidyalay.com/wp-content/uploads/2018/11/C-LOOK-Disk-Scheduling-Algorithm-Problem-01.png)\n",
    "***\n",
    "Q5. Consider a disk queue with requests for I/O to blocks on cylinders $\\ 47, 38, 121, 191, 87, 11, 92, 10\\ $. The C-LOOK scheduling algorithm is used. The head is initially at cylinder number $63$ moving towards larger cylinder numbers on its servicing pass. The cylinders are numbered from $0$ to $199$. The total head movement (in number of cylinders) incurred while servicing these requests is _______"
   ]
  },
  {
   "cell_type": "code",
   "execution_count": 10,
   "id": "64cf41c0-024b-456f-957c-40f63a4c2c23",
   "metadata": {},
   "outputs": [
    {
     "name": "stdout",
     "output_type": "stream",
     "text": [
      "(191 - 63) + (191 - 10) + (47 - 10) = 346\n",
      "Total number of head movements = 346\n"
     ]
    }
   ],
   "source": [
    "currentTrack = 63\n",
    "requestArray = [47, 38, 121, 191, 87, 11, 92, 10]\n",
    "\n",
    "print(f'Total number of head movements = {c_look(requestArray, currentTrack, upDirection = True, log = True)}')"
   ]
  },
  {
   "cell_type": "markdown",
   "id": "a8b1af3e-e5d8-492a-a27b-e42be0b0850e",
   "metadata": {},
   "source": [
    "![](https://www.gatevidyalay.com/wp-content/uploads/2018/11/C-LOOK-Disk-Scheduling-Algorithm-Problem-02.png)\n",
    "***"
   ]
  }
 ],
 "metadata": {
  "kernelspec": {
   "display_name": "Python 3 (ipykernel)",
   "language": "python",
   "name": "python3"
  },
  "language_info": {
   "codemirror_mode": {
    "name": "ipython",
    "version": 3
   },
   "file_extension": ".py",
   "mimetype": "text/x-python",
   "name": "python",
   "nbconvert_exporter": "python",
   "pygments_lexer": "ipython3",
   "version": "3.8.10"
  }
 },
 "nbformat": 4,
 "nbformat_minor": 5
}
