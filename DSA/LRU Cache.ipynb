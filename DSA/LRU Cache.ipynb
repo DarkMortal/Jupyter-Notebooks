{
 "cells": [
  {
   "cell_type": "markdown",
   "id": "b404691c-ead5-4362-8d4a-00245584f1ec",
   "metadata": {},
   "source": [
    "# LRU Cache\n",
    "- **LRU stands for \"Least Recently Used\"**, a cache eviction policy that removes the least recently accessed item when the cache reaches capacity.\n",
    "- **Core idea:** Ensures that the most recently used (MRU) elements remain in the cache, while the least recently used (LRU) elements get evicted first.\n",
    "- **Data structures used:** Typically implemented using a combination of a hash map (for O(1) key lookup) and a doubly linked list (for efficient reordering of usage).\n",
    "- **Operations supported:**\n",
    "    - **Get(key):** Retrieves the value if present and moves the accessed item to the front (MRU position).\n",
    "    - **Put(key, value):** Adds or updates an item and moves it to the front. If the cache is full, removes the item at the back (LRU position) before inserting.\n",
    "- **Use cases:** Frequently applied in memory management, CPU cache, web caching, and databases to optimize data retrieval and resource usage.\n",
    "- **Benefits:** Maintains fast access time (O(1) for both get and put operations) and automatic eviction of old, unused data, making it efficient for limited-size memory situations.\n",
    "***\n",
    "## Defining the Node class"
   ]
  },
  {
   "cell_type": "code",
   "execution_count": 1,
   "id": "a88b7c95-c44f-4ffb-9cec-7cc91e62e90c",
   "metadata": {},
   "outputs": [],
   "source": [
    "class Node:\n",
    "    def __init__(self, key, value):\n",
    "        # Each node stores a key-value pair\n",
    "        self.value = [key, value]\n",
    "        self.prev = None  # Pointer to the previous node\n",
    "        self.next = None  # Pointer to the next node\n",
    "\n",
    "    def __str__(self):\n",
    "        return f\"({self.value[0]}, {self.value[1]})\""
   ]
  },
  {
   "cell_type": "code",
   "execution_count": 2,
   "id": "c875aeae-d753-4b6b-b0b1-77705f59aa0a",
   "metadata": {},
   "outputs": [],
   "source": [
    "class LRUCache:\n",
    "    def __init__(self, capacity):\n",
    "        # Initialize the cache with a given capacity\n",
    "        self.capacity = capacity\n",
    "        self.number_of_elements = 0\n",
    "        self.cache_head = None  # Most recently used\n",
    "        self.cache_tail = None  # Least recently used\n",
    "        self.cache_map = {}     # Dictionary to store key -> Node mapping\n",
    "\n",
    "    # Utility function to print the current state of the cache for debugging purposes\n",
    "    def print_cache(self):\n",
    "        temp_node = self.cache_head\n",
    "        while temp_node is not None:\n",
    "            print(temp_node, end=\" \")\n",
    "            temp_node = temp_node.next\n",
    "        print()"
   ]
  },
  {
   "cell_type": "markdown",
   "id": "8e89c4c3-d9f7-491a-b248-59564afeadf2",
   "metadata": {},
   "source": [
    "## Algorithm for get method\n",
    "1. **Check if key exists:**\n",
    "    - If the key does **not** exist in the map/dictionary return `-1` (indicating a cache miss).\n",
    "2. **Access the node:**\n",
    "    - Retrieve the node corresponding to the key from the map.\n",
    "3. **Move node to front (most recently used):**\n",
    "    - If the node is not already at the front, remove it from its current position and insert it at the head of the doubly linked list.\n",
    "        - Update the previous and next pointers as needed.\n",
    "        - Update head and tail references if necessary.\n",
    "4. **Return value:**\n",
    "    - Return the value associated with the node.\n",
    "***"
   ]
  },
  {
   "cell_type": "code",
   "execution_count": 3,
   "id": "34cae765-e99e-4167-90f2-97cfb2e06e10",
   "metadata": {},
   "outputs": [],
   "source": [
    "def get(self, key: int) -> int:\n",
    "    # Return the value of the key if present, else -1\n",
    "    if key not in self.cache_map:\n",
    "        return -1\n",
    "\n",
    "    node = self.cache_map[key]\n",
    "\n",
    "    # If node is already at the head, it's the most recently used\n",
    "    if node.prev is None:\n",
    "        return node.value[1]\n",
    "\n",
    "    # If node is at the tail, update tail and move node to head\n",
    "    if node.next is None:\n",
    "        self.cache_tail = self.cache_tail.prev\n",
    "        self.cache_tail.next = None\n",
    "    else:\n",
    "        # Remove node from its current position\n",
    "        node.prev.next = node.next\n",
    "        node.next.prev = node.prev\n",
    "\n",
    "    # Move node to the head\n",
    "    node.next = self.cache_head\n",
    "    self.cache_head.prev = node\n",
    "    node.prev = None\n",
    "    self.cache_head = node\n",
    "\n",
    "    return node.value[1]"
   ]
  },
  {
   "cell_type": "markdown",
   "id": "11261b5b-f2a3-4ea0-b1b6-b574ae4c8741",
   "metadata": {},
   "source": [
    "## Algorithm for put method\n",
    "1. **Check for Key Existence:**\n",
    "    - If the key is already present in the cache:\n",
    "        - Update its value.\n",
    "        - Move the corresponding node to the front (most recently used position).\n",
    "2. **If Key Not Present:**\n",
    "    - If the cache is at full capacity:\n",
    "        - Remove the least recently used item (the tail of the linked list or the first item in an insertion-order map).\n",
    "        - Remove its entry from both the linked list and the key-node mapping (hashmap).\n",
    "    - Create a new node for the `key` and `value`.\n",
    "3. **Insert at Front:**\n",
    "    - Insert the new or updated node at the front of the linked list (marks it most recently used).\n",
    "    - Update the key-node mapping in the hashmap to point to the front node.\n",
    "4. **Time Complexity:** Each of these sub-operations (checking, adding, removing, updating) takes O(1) time using a combination of hashmap and doubly linked list.\n",
    "***"
   ]
  },
  {
   "cell_type": "code",
   "execution_count": 4,
   "id": "b8f73afe-8431-432f-8694-28a8a74ba572",
   "metadata": {},
   "outputs": [],
   "source": [
    "def put(self, key: int, value: int):\n",
    "    # modular code to update existing node and move it to the head\n",
    "    def updateNode():\n",
    "        node = self.cache_map[key]\n",
    "        if node.prev is None:\n",
    "            node.value[1] = value\n",
    "            return\n",
    "        if node.next is None:\n",
    "            self.cache_tail = self.cache_tail.prev\n",
    "            self.cache_tail.next = None\n",
    "            node.next = self.cache_head\n",
    "            self.cache_head.prev = node\n",
    "            node.prev = None\n",
    "            self.cache_head = node\n",
    "            node.value = [key, value]\n",
    "            return\n",
    "        node.value[1] = value\n",
    "        node.prev.next = node.next\n",
    "        node.next.prev = node.prev\n",
    "        node.prev = None\n",
    "        node.next = self.cache_head\n",
    "        self.cache_head.prev = node\n",
    "        self.cache_head = node\n",
    "    \n",
    "    # Insert or update the value of the key\n",
    "    if self.capacity == 0:\n",
    "        # Special handling when capacity is 0\n",
    "        if self.number_of_elements == 1:\n",
    "            self.cache_map.pop(self.cache_tail.value[0])\n",
    "            self.cache_head.value = [key, value]\n",
    "            self.cache_map[key] = self.cache_head\n",
    "            return\n",
    "\n",
    "        if key in self.cache_map:\n",
    "            updateNode(); return\n",
    "        else:\n",
    "            self.cache_map.pop(self.cache_tail.value[0])\n",
    "            self.cache_tail = self.cache_tail.prev\n",
    "            self.cache_tail.next = None\n",
    "            node = Node(key, value)\n",
    "            self.cache_head.prev = node\n",
    "            node.next = self.cache_head\n",
    "            self.cache_head = node\n",
    "            self.cache_map[key] = self.cache_head\n",
    "        return\n",
    "\n",
    "    if key in self.cache_map:\n",
    "        updateNode(); return\n",
    "\n",
    "    # Insert new node\n",
    "    if self.number_of_elements == 0:\n",
    "        self.cache_tail = Node(key, value)\n",
    "        self.cache_head = self.cache_tail\n",
    "        self.capacity -= 1\n",
    "        self.number_of_elements = 1\n",
    "    elif self.number_of_elements == 1:\n",
    "        self.cache_head = Node(key, value)\n",
    "        self.cache_head.next = self.cache_tail\n",
    "        self.cache_tail.prev = self.cache_head\n",
    "        self.capacity -= 1\n",
    "        self.number_of_elements += 1\n",
    "    else:\n",
    "        node = Node(key, value)\n",
    "        node.next = self.cache_head\n",
    "        self.cache_head.prev = node\n",
    "        self.cache_head = node\n",
    "        self.capacity -= 1\n",
    "        self.number_of_elements += 1\n",
    "\n",
    "    self.cache_map[key] = self.cache_head"
   ]
  },
  {
   "cell_type": "markdown",
   "id": "10fba113-6216-40d7-8916-222580459e35",
   "metadata": {},
   "source": [
    "## Binding the methods to the class"
   ]
  },
  {
   "cell_type": "code",
   "execution_count": 5,
   "id": "782f52e3-622c-4357-b9af-0f02dc45ea58",
   "metadata": {},
   "outputs": [],
   "source": [
    "LRUCache.get = get\n",
    "LRUCache.put = put"
   ]
  },
  {
   "cell_type": "markdown",
   "id": "32353c34-8b10-4bbf-ae83-9ee8c5d08bfc",
   "metadata": {},
   "source": [
    "## Testcase(s)"
   ]
  },
  {
   "cell_type": "code",
   "execution_count": 6,
   "id": "a6e6021d-2cf1-40ab-a87d-0ad88851bed3",
   "metadata": {},
   "outputs": [],
   "source": [
    "test = ([\"LRUCache\", \"put\", \"put\", \"get\", \"put\", \"get\", \"put\", \"get\", \"get\", \"get\"],\n",
    "         [[2], [1, 1], [2, 2], [1], [3, 3], [2], [4, 4], [1], [3], [4]])\n",
    "expected_result = [None, None, None, 1, None, -1, None, -1, 3, 4]"
   ]
  },
  {
   "cell_type": "markdown",
   "id": "c91df27e-2c04-4e58-89be-ea2104927dfb",
   "metadata": {},
   "source": [
    "## Driver code"
   ]
  },
  {
   "cell_type": "code",
   "execution_count": 7,
   "id": "cb49363d-2140-4934-abda-8f8a90e7f2e1",
   "metadata": {},
   "outputs": [
    {
     "name": "stdout",
     "output_type": "stream",
     "text": [
      "Result matches expected result\n",
      "[None, None, None, 1, None, -1, None, -1, 3, 4]\n"
     ]
    }
   ],
   "source": [
    "result = []\n",
    "cacheObj = None\n",
    "for i in range(len(test[0])):\n",
    "    if test[0][i] == \"LRUCache\":\n",
    "        result.append(None)\n",
    "        cacheObj = LRUCache(test[1][i][0])\n",
    "    if test[0][i] == \"put\":\n",
    "        result.append(None)\n",
    "        key, value = test[1][i]\n",
    "        cacheObj.put(key, value)\n",
    "    if test[0][i] == \"get\":\n",
    "        value = cacheObj.get(test[1][i][0])\n",
    "        result.append(value)\n",
    "\n",
    "if result == expected_result:\n",
    "    print(f\"Result matches expected result\\n{result}\")"
   ]
  },
  {
   "cell_type": "markdown",
   "id": "9c8025a4-6718-4b34-8408-35f3931891d4",
   "metadata": {},
   "source": [
    "***"
   ]
  }
 ],
 "metadata": {
  "kernelspec": {
   "display_name": "Python kernel developed by Saptarshi Dey",
   "language": "python",
   "name": "python3"
  },
  "language_info": {
   "codemirror_mode": {
    "name": "ipython",
    "version": 3
   },
   "file_extension": ".py",
   "mimetype": "text/x-python",
   "name": "python",
   "nbconvert_exporter": "python",
   "pygments_lexer": "ipython3",
   "version": "3.8.10"
  }
 },
 "nbformat": 4,
 "nbformat_minor": 5
}
