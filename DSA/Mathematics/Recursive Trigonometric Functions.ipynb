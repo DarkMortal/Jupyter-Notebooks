{
 "cells": [
  {
   "cell_type": "markdown",
   "id": "821297f6",
   "metadata": {},
   "source": [
    "## In this notebook we shall see how we can compute the sine and cosine functions using recursion\n",
    "\n",
    "### The <kbd>root</kbd> function computes the square root of a floating point number using binary search"
   ]
  },
  {
   "cell_type": "code",
   "execution_count": 1,
   "id": "65238d6a",
   "metadata": {},
   "outputs": [],
   "source": [
    "PI = 3.14159265359\n",
    "full_angle = PI * 2\n",
    "half_angle = PI / 2\n",
    "\n",
    "# function to find x-th root of n\n",
    "def root(n:float, x:int) -> float:\n",
    "    \n",
    "    # Max and min are used to take into account numbers less than 1\n",
    "    lo = min(1, n)\n",
    "    hi = max(1, n)\n",
    "    mid = 0.0\n",
    "\n",
    "    # Update the bounds to be off the target by a factor of 10\n",
    "    while(100 * lo * lo < n):\n",
    "        lo *= 10\n",
    "    while(0.01 * hi * hi > n):\n",
    "        hi *= 0.1\n",
    "\n",
    "    for i in range(100):\n",
    "        mid = (lo + hi)/2\n",
    "        val = mid ** x\n",
    "        if(val == n): return mid\n",
    "        if(val > n): hi = mid\n",
    "        else: lo = mid\n",
    "    return mid"
   ]
  },
  {
   "cell_type": "markdown",
   "id": "9561d9cd",
   "metadata": {},
   "source": [
    "### The <kbd>range_check</kbd> decorator normalises the input to fit between $-6.28$ and $6.28$"
   ]
  },
  {
   "cell_type": "code",
   "execution_count": 2,
   "id": "6cea5b31",
   "metadata": {},
   "outputs": [],
   "source": [
    "to_radians = lambda deg: ((deg % 360)/180.0) * PI\n",
    "abs = lambda x: (x if x >= 0 else -x)\n",
    "\n",
    "def range_check(func):\n",
    "\n",
    "    def inner(*args):\n",
    "        angle = (args[0] % full_angle) * (-1 if args[0] < 0 else 1)        \n",
    "        return func(angle)\n",
    "    \n",
    "    return inner"
   ]
  },
  {
   "cell_type": "markdown",
   "id": "61b8d3c3",
   "metadata": {},
   "source": [
    "### The <kbd>sine</kbd> and <kbd>cosine</kbd> function approximates the sine and cosine of a given angle<br/><br/>Modify the value of <kbd>DELTA</kbd> to adjust the accuracy.\n",
    "### Formulas used:\n",
    "- ### $\\sin(2x) = 2\\sin(x)\\cos(x)$\n",
    "- ### $\\cos(2x) = 2\\cos^2(x) - 1$\n",
    "\n",
    "### Note:\n",
    "- ### Since we're finding then square root for computing <kbd>sine</kbd>, whether we take the positive or negative value depends on the quadrant of the input.\n",
    "- ### We don't need to check the quadrant for every recursion call."
   ]
  },
  {
   "cell_type": "code",
   "execution_count": 3,
   "id": "a6566374",
   "metadata": {},
   "outputs": [],
   "source": [
    "DELTA = 0.001\n",
    "\n",
    "@range_check\n",
    "def cosine(x:float) -> float:\n",
    "    if x == 0.0:\n",
    "        return 1.0\n",
    "    if abs(x) < DELTA:\n",
    "        return x\n",
    "    else:\n",
    "        v = cosine(x / 2.0)\n",
    "        return 2.0 * v * v - 1\n",
    "\n",
    "@range_check\n",
    "def rec_sine(x:float) -> float:\n",
    "    if abs(x) < DELTA:\n",
    "        return x\n",
    "    else:\n",
    "        v = rec_sine(x / 2.0)\n",
    "        return 2.0 * v * root(1 - v * v, 2)\n",
    "\n",
    "sine = lambda x: rec_sine(x) * (-1 if x <= full_angle and x >= PI else 1)"
   ]
  },
  {
   "cell_type": "markdown",
   "id": "71d76197",
   "metadata": {},
   "source": [
    "### Driver code"
   ]
  },
  {
   "cell_type": "code",
   "execution_count": 4,
   "id": "a4e694b4",
   "metadata": {},
   "outputs": [
    {
     "name": "stdout",
     "output_type": "stream",
     "text": [
      "sin(0) = 0.0\n",
      "cos(0) = 1.0\n",
      "\n",
      "sin(30) = 0.5\n",
      "cos(30) = 0.866\n",
      "\n",
      "sin(45) = 0.707\n",
      "cos(45) = 0.707\n",
      "\n",
      "sin(60) = 0.866\n",
      "cos(60) = 0.5\n",
      "\n",
      "sin(90) = 1.0\n",
      "cos(90) = -0.0\n",
      "\n",
      "sin(120) = 0.866\n",
      "cos(120) = -0.5\n",
      "\n",
      "sin(270) = -1.0\n",
      "cos(270) = 0.0\n",
      "\n"
     ]
    }
   ],
   "source": [
    "if __name__ == \"__main__\":\n",
    "    args = [0, 30, 45, 60, 90, 120, 270]\n",
    "    for i in args:\n",
    "        print(f\"sin({i}) = {round(sine(to_radians(i)), 3)}\")\n",
    "        print(f\"cos({i}) = {round(cosine(to_radians(i)), 3)}\\n\")"
   ]
  },
  {
   "cell_type": "markdown",
   "id": "b39a2ac1-a2fb-4d51-a005-06861aaa7b5e",
   "metadata": {},
   "source": [
    "***"
   ]
  }
 ],
 "metadata": {
  "kernelspec": {
   "display_name": "Python 3 (ipykernel)",
   "language": "python",
   "name": "python3"
  },
  "language_info": {
   "codemirror_mode": {
    "name": "ipython",
    "version": 3
   },
   "file_extension": ".py",
   "mimetype": "text/x-python",
   "name": "python",
   "nbconvert_exporter": "python",
   "pygments_lexer": "ipython3",
   "version": "3.8.10"
  }
 },
 "nbformat": 4,
 "nbformat_minor": 5
}
