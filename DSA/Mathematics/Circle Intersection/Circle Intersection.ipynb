{
 "cells": [
  {
   "cell_type": "markdown",
   "id": "dc7e38a7",
   "metadata": {},
   "source": [
    "# Area of intersection of two Circles\n",
    "### We shall denote distance between the centre of the circles by $d$ and their radii will be denoted as $R_1$ and $R_2$\n",
    "## Case 1\n",
    "![](./images/Case_1.png)\n",
    "\n",
    "$d \\geq (R_1+R_2)$<br/>Common area $=0$ sq units\n",
    "## Case 2\n",
    "![](./images/Case_2.png)\n",
    "\n",
    "$d \\leq |R_1 - R_2|$<br/>Common area $=$ area of the smaller cricle\n",
    "## Case 3\n",
    "![](./images/Case_3.png)\n",
    "\n",
    "$\\alpha$ and $\\beta$ can be calculated using the cosine law of triangles.<br/>\n",
    "$\\displaystyle (R_2)^2 = (R_1)^2 + d^2 - 2R_1\\times d\\times\\cos(\\alpha)$<br/>\n",
    "$\\displaystyle (R_1)^2 = (R_2)^2 + d^2 - 2R_2\\times d\\times\\cos(\\beta)$\n",
    "\n",
    "$\\\\g = 2R_1\\sin(\\alpha)$<br/>\n",
    "$AD = R_1\\cos(\\alpha)$<br/>\n",
    "$CD = R_2\\cos(\\beta)$\n",
    "\n",
    "Area of triangle $\\displaystyle EAF = \\frac{1}{2}\\times g\\times AD$<br/>\n",
    "Area of triangle $\\displaystyle ECF = \\frac{1}{2}\\times g\\times CD$<br/>\n",
    "\n",
    "$\\displaystyle A_1 = \\frac{\\alpha}{\\pi}\\times($Area of $C_1)-$ Area of triangle $EAF$<br/>\n",
    "$\\displaystyle A_2 = \\frac{\\beta}{\\pi}\\times($Area of $C_2)-$ Area of triangle $ECF$<br/>\n",
    "Common Area $=A_1+A_2$"
   ]
  },
  {
   "cell_type": "code",
   "execution_count": 1,
   "id": "bef5729c",
   "metadata": {},
   "outputs": [],
   "source": [
    "from math import sqrt, acos, pi\n",
    "\n",
    "class Point:\n",
    "    def __init__(self, x: int, y: int):\n",
    "        self.X = x\n",
    "        self.Y = y\n",
    "    def __add__(self, p):\n",
    "        return Point(self.X + p.X, self.Y + p.Y)\n",
    "    def __sub__(self, p):\n",
    "        return Point(self.X - p.X, self.Y - p.Y)\n",
    "    def distance(self) -> float:\n",
    "        return sqrt(self.X ** 2 + self.Y ** 2)\n",
    "\n",
    "class Circle:\n",
    "    def __init__(self, p: Point, r: int):\n",
    "        self.center = p\n",
    "        self.radius = r\n",
    "    def area(self) -> float:\n",
    "        return pi * (self.radius ** 2)"
   ]
  },
  {
   "cell_type": "code",
   "execution_count": 2,
   "id": "d91fe4ba",
   "metadata": {},
   "outputs": [],
   "source": [
    "def intersection(c1: Circle, c2: Circle) -> float:\n",
    "    d = (c1.center - c2.center).distance()\n",
    "\n",
    "    if d >= (c1.radius + c2.radius): return 0\n",
    "    if d <= abs(c1.radius - c2.radius):\n",
    "        if c1.radius < c2.radius: return c1.area()\n",
    "        return c2.area()\n",
    "    \n",
    "    cos_alpha = ((c1.radius ** 2) + (d * d) - (c2.radius ** 2)) / (2 * c1.radius * d)\n",
    "    cos_beta = ((c2.radius ** 2) + (d * d) - (c1.radius ** 2)) / (2 * c2.radius * d)\n",
    "    sin_alpha = sqrt(1 - cos_alpha ** 2)\n",
    "    \n",
    "    alpha = acos(cos_alpha)\n",
    "    beta = acos(cos_beta)\n",
    "\n",
    "    g = 2 * sin_alpha * c1.radius\n",
    "    h1 = cos_alpha * c1.radius\n",
    "    h2 = cos_beta * c2.radius\n",
    "\n",
    "    a1 = (alpha / pi) * c1.area() - (0.5 * g * h1)\n",
    "    a2 = (beta / pi) * c2.area() - (0.5 * g * h2)\n",
    "\n",
    "    return a1 + a2"
   ]
  },
  {
   "cell_type": "code",
   "execution_count": 3,
   "id": "9b8a9b21",
   "metadata": {},
   "outputs": [
    {
     "name": "stdout",
     "output_type": "stream",
     "text": [
      "Area of intersection = 7.252988063641757 sq units\n"
     ]
    }
   ],
   "source": [
    "if __name__ == \"__main__\":\n",
    "    c1 = Circle(Point(0, 0), 4)\n",
    "    c2 = Circle(Point(6, 0), 4)\n",
    "\n",
    "    area = intersection(c1, c2)\n",
    "    print(f\"Area of intersection = {area} sq units\")"
   ]
  },
  {
   "cell_type": "markdown",
   "id": "d7567309",
   "metadata": {},
   "source": [
    "## Proof\n",
    "![](./images/Proof.png)<br/>\n",
    "$C_1: x^2+y^2=16$<br/>\n",
    "$C_2: (x-6)^2+y^2=16$<br/>\n",
    "\n",
    "Solving these 2 equations we get<br/>\n",
    "$x=3,y=\\pm\\sqrt{7}$<br/>\n",
    "$\\displaystyle\\int_{-\\sqrt{7}}^{\\sqrt{7}}\\sqrt{16-y^2}-\\left(-\\sqrt{16-y^2}+6\\right)\\ dy=\\int_{-\\sqrt{7}}^{\\sqrt{7}} 2\\sqrt{16-y^2}-6\\ dy$\n",
    "\n",
    "$\\displaystyle=\\left[y\\sqrt{16-y^2}+16\\arcsin\\left(\\dfrac{y}{4}\\right)-6y\\right]_{-\\sqrt{7}}^{\\sqrt{7}}=\\boxed{7.252988063641756}$"
   ]
  }
 ],
 "metadata": {
  "kernelspec": {
   "display_name": "Python 3 (ipykernel)",
   "language": "python",
   "name": "python3"
  },
  "language_info": {
   "codemirror_mode": {
    "name": "ipython",
    "version": 3
   },
   "file_extension": ".py",
   "mimetype": "text/x-python",
   "name": "python",
   "nbconvert_exporter": "python",
   "pygments_lexer": "ipython3",
   "version": "3.8.10"
  }
 },
 "nbformat": 4,
 "nbformat_minor": 5
}
