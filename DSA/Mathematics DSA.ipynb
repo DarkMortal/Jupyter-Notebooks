{
 "cells": [
  {
   "cell_type": "markdown",
   "id": "70a384d8",
   "metadata": {},
   "source": [
    "# 1. [Army Game](www.hackerrank.com/challenges/game-with-cells/problem)\n",
    "Luke is daydreaming in Math class. He has a sheet of graph paper with rows and columns, and he imagines that there is an army base in each cell for a total of bases. He wants to drop supplies at strategic points on the sheet, marking each drop point with a red dot. If a base contains at least one package inside or on top of its border fence, then it's considered to be supplied. For example:\n",
    "\n",
    "![image](https://s3.amazonaws.com/hr-challenge-images/0/1479944215-79f12638a7-example-army-game.png)\n",
    "\n",
    "Given $n$ and $m$, what's the minimum number of packages that Luke must drop to supply all of his bases?\n",
    "\n",
    "**Example:**\n",
    "<br/> $n = 2$\n",
    "<br/> $m = 3$\n",
    "<br/> Packages can be dropped at the corner between cells (0, 0), (0, 1), (1, 0) and (1, 1) to supply bases. Another package can be dropped at a border between (0, 2) and (1, 2). This supplies all bases using $2$ packages.\n",
    "\n",
    "**Function Description**\n",
    "Complete the ***gameWithCells*** function in the editor below.\n",
    "\n",
    "***gameWithCells*** has the following parameters:\n",
    "\n",
    "    int n: the number of rows in the game\n",
    "    int m: the number of columns in the game\n",
    "\n",
    "**Returns**\n",
    "\n",
    "    int: the minimum number of packages required\n",
    "\n",
    "**Input Format**\n",
    "Two space-separated integers describing the respective values of $n$ and $m$.\n",
    "\n",
    "Constraints: $0<n,m\\leq100$"
   ]
  },
  {
   "cell_type": "code",
   "execution_count": 19,
   "id": "f258277c",
   "metadata": {},
   "outputs": [],
   "source": [
    "def gameWithCells(n, m):\n",
    "    # for cells with only 1 column or row\n",
    "    if n == 1:\n",
    "        return (m>>1)+(m&1)\n",
    "    if m == 1:\n",
    "        return (n>>1)+(n&1)\n",
    "    \n",
    "    # first we find out how many 4x4 grids can the nxm grid be divided into\n",
    "    s = (n>>1)*(m>>1)\n",
    "    \n",
    "    # now for the remaining ones, we check the conditions as:\n",
    "    '''\n",
    "       if n is even and m is odd then r = 1\n",
    "       if n is odd and m is even then r = 2\n",
    "       if n is odd and m is odd then r = 3\n",
    "    '''\n",
    "    r = 2*(n&1)+(m&1)\n",
    "    if r == 1:\n",
    "        s += (n>>1)\n",
    "    if r == 2:\n",
    "        s += (m>>1)\n",
    "    if r == 3:\n",
    "        s += ((m>>1)+(n>>1)+(n&1)+(m&1))\n",
    "        s -= 1\n",
    "    return s"
   ]
  },
  {
   "cell_type": "markdown",
   "id": "05d4470c",
   "metadata": {},
   "source": [
    "### Driver code"
   ]
  },
  {
   "cell_type": "code",
   "execution_count": 20,
   "id": "6ae3aa77",
   "metadata": {},
   "outputs": [
    {
     "name": "stdout",
     "output_type": "stream",
     "text": [
      "For 2x2 grid we need 1 supplies\n",
      "For 5x5 grid we need 9 supplies\n",
      "For 12x18 grid we need 54 supplies\n",
      "For 30x50 grid we need 375 supplies\n",
      "For 70x123 grid we need 2170 supplies\n"
     ]
    }
   ],
   "source": [
    "grids = [(2,2),(5,5),(12,18),(30,50),(70,123)]\n",
    "\n",
    "if __name__ == \"__main__\":\n",
    "    for x in grids:\n",
    "        print(f\"For {x[0]}x{x[1]} grid we need {gameWithCells(x[0],x[1])} supplies\")"
   ]
  },
  {
   "cell_type": "markdown",
   "id": "32879b1a",
   "metadata": {},
   "source": [
    "<hr style=\"height:2px;border-width:0;color:gray;background-color:gray\">\n",
    "\n",
    "# 2. [Leonardo's Prime Factors](www.hackerrank.com/challenges/leonardo-and-prime/problem)\n",
    "Leonardo loves primes and created $q$ queries where each query takes the form of an integer $n$. For each $n$, count the maximum number of distinct prime factors of any number in the inclusive range $[1,n]$. <br/>\n",
    "Note: Recall that a prime number is only divisible by $1$ and itself, $1$ and is not a prime number. \n",
    "\n",
    "**Example:** <br/>\n",
    "$n = 100$ <br/>\n",
    "The maximum number of distinct prime factors for values less than or equal to is . One value with distinct prime factors is $30$. Another is $42$.\n",
    "\n",
    "**Function Description**\n",
    "Complete the ***primeCount*** function in the editor below.\n",
    "***primeCount*** has the following parameters:\n",
    "\n",
    "    int n: the inclusive limit of the range to check\n",
    "**Returns**\n",
    "\n",
    "    int: the maximum number of distinct prime factors of any number in the inclusive range \n",
    "**Input Format**\n",
    "\n",
    "The first line contains an integer $q$, the number of queries.\n",
    "Each of the next $q$ lines contains a single integer $n$.\n",
    "\n",
    "**Constraints**\n",
    "- $1\\leq q \\leq 10^5$\n",
    "- $1\\leq n \\leq 10^{18}$"
   ]
  },
  {
   "cell_type": "code",
   "execution_count": 21,
   "id": "d9639996",
   "metadata": {},
   "outputs": [],
   "source": [
    "# Approach 1 (Using Sieve of Eratosthenes)\n",
    "\n",
    "def primeCount1(n):\n",
    "    if n == 1: return 0\n",
    "    if n <= 5: return 1\n",
    "    arr = [0 for i in range(2,n+1)]\n",
    "    for i in range(2,n-1):\n",
    "        if arr[i] == 0:\n",
    "            for j in range(i+1,n-1):\n",
    "                arr[j] += (1 if j%i == 0 else 0)\n",
    "    \n",
    "    # optional\n",
    "    for i in range(2,n-1):\n",
    "        if arr[i] != 0:\n",
    "            print(f\"Number of distinct prime factors of {i} is {arr[i]}\")\n",
    "    return max(arr)"
   ]
  },
  {
   "cell_type": "markdown",
   "id": "a00da1d0",
   "metadata": {},
   "source": [
    "### Driver code"
   ]
  },
  {
   "cell_type": "code",
   "execution_count": 22,
   "id": "0203f95b",
   "metadata": {},
   "outputs": [
    {
     "name": "stdout",
     "output_type": "stream",
     "text": [
      "Enter N = 20\n",
      "Number of distinct prime factors of 4 is 1\n",
      "Number of distinct prime factors of 6 is 2\n",
      "Number of distinct prime factors of 8 is 1\n",
      "Number of distinct prime factors of 9 is 1\n",
      "Number of distinct prime factors of 10 is 2\n",
      "Number of distinct prime factors of 12 is 2\n",
      "Number of distinct prime factors of 14 is 2\n",
      "Number of distinct prime factors of 15 is 2\n",
      "Number of distinct prime factors of 16 is 1\n",
      "Number of distinct prime factors of 18 is 2\n",
      "Max number of distinct prime factors a number can have between 1 and 20 is 2\n"
     ]
    }
   ],
   "source": [
    "N = int(input(\"Enter N = \"))\n",
    "print(f\"Max number of distinct prime factors a number can have between 1 and {N} is {primeCount1(N)}\")"
   ]
  },
  {
   "cell_type": "markdown",
   "id": "4c4b45a2",
   "metadata": {},
   "source": [
    "### But this approach has a problem. For large value of $n$ space complexity of this algorithm will be very high. So in order to avoid that we will take the first 16 (arbitrarily taken) prime numbers and keep multiplying them until it is greater than or equal to $n$"
   ]
  },
  {
   "cell_type": "code",
   "execution_count": 23,
   "id": "c3f4a236",
   "metadata": {},
   "outputs": [],
   "source": [
    "primeArr = [2, 3, 5, 7, 11, 13, 17, 19, 23, 29, 31, 37, 41, 43, 47, 53]"
   ]
  },
  {
   "cell_type": "code",
   "execution_count": 24,
   "id": "011706f6",
   "metadata": {},
   "outputs": [],
   "source": [
    "def primeCount2(n):\n",
    "    x = 1\n",
    "    i = 0\n",
    "    while x <= n and i < len(primeArr):\n",
    "        x *= primeArr[i]\n",
    "        i += 1\n",
    "    return i-1"
   ]
  },
  {
   "cell_type": "markdown",
   "id": "01d8f11d",
   "metadata": {},
   "source": [
    "### Driver code"
   ]
  },
  {
   "cell_type": "code",
   "execution_count": 25,
   "id": "ce05c80a",
   "metadata": {},
   "outputs": [
    {
     "name": "stdout",
     "output_type": "stream",
     "text": [
      "Enter N = 20\n",
      "Max number of distinct prime factors a number can have between 1 and 20 is 2\n",
      "Enter N = 100000000\n",
      "Max number of distinct prime factors a number can have between 1 and 100000000 is 8\n"
     ]
    }
   ],
   "source": [
    "for i in range(2):\n",
    "    N = int(input(\"Enter N = \"))\n",
    "    print(f\"Max number of distinct prime factors a number can have between 1 and {N} is {primeCount2(N)}\")"
   ]
  },
  {
   "cell_type": "markdown",
   "id": "146b0059",
   "metadata": {},
   "source": [
    "<hr style=\"height:2px;border-width:0;color:gray;background-color:gray\">\n",
    "\n",
    "# 3. [Reverse Game](www.hackerrank.com/challenges/reverse-game/problem)\n",
    "\n",
    "Akash and Akhil are playing a game. They have $N$ balls numbered from $0$ to $N-1$. Akhil asks Akash to reverse the position of the balls, i.e., to change the order from say, 0,1,2,3 to 3,2,1,0. He further asks Akash to reverse the position of the balls $N$ times, each time starting from one position further to the right, till he reaches the last ball. So, Akash has to reverse the positions of the ball starting from $0^{th}$ position, then from $1^{st}$ position, then from $2^{nd}$ position and so on. At the end of the game, Akhil will ask Akash the final position of any ball numbered $K$. Akash will win the game, if he can answer. Help Akash.\n",
    "\n",
    "**Input Format** <br/>\n",
    "The first line contains an integer $T$, i.e., the number of the test cases.\n",
    "The next $T$ lines will contain two integers $N$ and $K$.\n",
    "\n",
    "**Output Format** <br/>\n",
    "Print the final index of ball $K$ in the array.\n",
    "\n",
    "**Constraints** <br/>\n",
    "$1\\leq T\\leq 50$ <br/>\n",
    "$1\\leq N\\leq 10^5$ <br/>\n",
    "$0\\leq K\\leq N$ <br/>\n",
    "\n",
    "**Sample Input** <br/>\n",
    "\n",
    "    2\n",
    "    3 1\n",
    "    5 2\n",
    "**Sample Output** <br/>\n",
    "\n",
    "    2\n",
    "    4\n",
    "**Explanation** <br/>\n",
    "For first test case, The rotation will be like this: <br/>\n",
    "0 1 2 -> 2 1 0 -> 2 0 1 -> 2 0 1<br/>\n",
    "So, Index of 1 will be 2."
   ]
  },
  {
   "cell_type": "code",
   "execution_count": 5,
   "id": "114bbe9e",
   "metadata": {},
   "outputs": [
    {
     "name": "stdout",
     "output_type": "stream",
     "text": [
      "3\n",
      "11 1\n",
      "3\n",
      "3 1\n",
      "2\n",
      "9 0\n",
      "1\n"
     ]
    }
   ],
   "source": [
    "pos = lambda n,k: (2*k+1 if k < n//2 else (n-k-1)*2)\n",
    "\n",
    "if __name__ == '__main__':\n",
    "    t = int(input().strip())\n",
    "    for i in range(t):\n",
    "        first_multiple_input = input().rstrip().split()\n",
    "        n = int(first_multiple_input[0])\n",
    "        k = int(first_multiple_input[1])\n",
    "        print(pos(n,k))"
   ]
  }
 ],
 "metadata": {
  "kernelspec": {
   "display_name": "Python 3 (ipykernel)",
   "language": "python",
   "name": "python3"
  },
  "language_info": {
   "codemirror_mode": {
    "name": "ipython",
    "version": 3
   },
   "file_extension": ".py",
   "mimetype": "text/x-python",
   "name": "python",
   "nbconvert_exporter": "python",
   "pygments_lexer": "ipython3",
   "version": "3.8.10"
  }
 },
 "nbformat": 4,
 "nbformat_minor": 5
}
