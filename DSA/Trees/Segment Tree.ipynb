{
 "cells": [
  {
   "cell_type": "markdown",
   "id": "92e543fa-fef1-4e42-864b-e4176d6f490d",
   "metadata": {},
   "source": [
    "# Segment Tree\n",
    "## Building the Segment Tree\n",
    "Segment trees are used to answer range queries like find minimum, maximum between a range of indexes of an array.\n",
    "<br/>Let's consider the array $[-1, 3, 4, 0, 2, 3, 1, -3]$.<br/>The segment tree of this array looks something like this (considering max query).<br/>\n",
    "![incomplete tree](./media/inc.png)\n",
    "- As we can see the segment tree consists of $2n-1$ nodes where $n$ is the size of the original array.\n",
    "- The first node contains the result of the index range $(0$ to $7)$.\n",
    "    - Taking &nbsp; `mid = (0+7) // 2`.\n",
    "    - The left child contains the result of the index range $(0$ to mid$)$\n",
    "    - The left child contains the result of the index range $($mid$+1$ to $7)$\n",
    "- The position of the left and right child in the segment tree array is $(2n+1)$ and $(2n+2)$ respectively, where $n$ is the position of the parent.\n",
    "## Querying the Segment Tree\n",
    "There are 3 conditions:\n",
    "1. **Complete overlap:** The range for which we need to find the answer completely overlaps the range of the current node. In this case we return the value of the node.\n",
    "2. **Partial overlap:** The given range partially overlaps the current node. In this case we check both the left and right child of the current node until we find a node whose range is completely overlapped by the given range. \n",
    "3. **No overlap:** In this case we return a very large number (if min query) or a very small number (if max query).\n",
    "***"
   ]
  },
  {
   "cell_type": "code",
   "execution_count": 1,
   "id": "cf1b5dde-de53-4529-b315-0a4054f58698",
   "metadata": {},
   "outputs": [],
   "source": [
    "from typing import List\n",
    "\n",
    "class SegmentTree:\n",
    "    def __init__(self, data_: List[int], key_: str):\n",
    "        self.key = key_\n",
    "        self.data = data_\n",
    "        self.tree = [0] * ((len(data_) << 1) - 1)\n",
    "\n",
    "        self.func = None\n",
    "        if key_ == 'max': self.func = max\n",
    "        elif key == 'min': self.func = min\n",
    "        else: raise ValueError(\"Invalid key function. Use 'max' or 'min'\")\n",
    "\n",
    "\n",
    "    def __builder(self, index_: int, start_: int, end_: int):\n",
    "        if start_ == end_:\n",
    "            self.tree[index_] = self.data[start_]; return\n",
    "\n",
    "        mid, index = (start_ + end_) >> 1, (index_ << 1) + 1\n",
    "\n",
    "        self.__builder(index, start_, mid)\n",
    "        self.__builder(index + 1, mid + 1, end_)\n",
    "\n",
    "        self.tree[index_] = self.func(\n",
    "            self.tree[index], self.tree[index + 1])\n",
    "\n",
    "    def build(self):\n",
    "        self.__builder(0, 0, len(self.data) - 1)\n",
    "\n",
    "    def __get_range_value(self, start_: int, end_: int, left_: int, right_: int, index_: int) -> int:\n",
    "\n",
    "        # total overlap\n",
    "        if start_ <= left_ and end_ >= right_:\n",
    "            return self.tree[index_]\n",
    "\n",
    "        # partial overlap\n",
    "        elif (start_ <= right_ and start_ >= left_) or (end_ <= right_ and end_ >= left_):\n",
    "            mid, index = (left_ + right_) >> 1, (index_ << 1) + 1\n",
    "            left_child = self.__get_range_value(start_, end_, left_, mid, index)\n",
    "            right_child = self.__get_range_value(start_, end_, mid + 1, right_, index + 1)\n",
    "            return self.func(left_child, right_child)\n",
    "\n",
    "        # no overlap\n",
    "        else: return -10 ** 6 if self.key == 'max' else 10 ** 6\n",
    "\n",
    "    def get_value_from_range(self, start_: int, end_: int) -> int:\n",
    "        if start_ < 0 or end_ >= len(self.data) or start_ > end_:\n",
    "            raise ValueError(\"Invalid range\")\n",
    "        return self.__get_range_value(start_, end_, 0, len(self.data) - 1, 0)"
   ]
  },
  {
   "cell_type": "code",
   "execution_count": 2,
   "id": "cd2bd3e7-f12e-47f4-b4a2-a4a1b4d16552",
   "metadata": {},
   "outputs": [],
   "source": [
    "data = [-1, 3, 4, 0, 2, 3, 1, -3]\n",
    "segment_tree = SegmentTree(data, 'max')\n",
    "segment_tree.build()"
   ]
  },
  {
   "cell_type": "code",
   "execution_count": 3,
   "id": "63c943fe-6a28-4152-88d4-a1db73b598a1",
   "metadata": {},
   "outputs": [
    {
     "name": "stdout",
     "output_type": "stream",
     "text": [
      "Initial Segment Tree:\n",
      "[4, 4, 3, 3, 4, 3, 1, -1, 3, 4, 0, 2, 3, 1, -3]\n"
     ]
    }
   ],
   "source": [
    "print(\"Initial Segment Tree:\"); print(segment_tree.tree)"
   ]
  },
  {
   "cell_type": "code",
   "execution_count": 4,
   "id": "741350c0-f6c7-4275-9ed6-c541b06277a0",
   "metadata": {},
   "outputs": [
    {
     "name": "stdout",
     "output_type": "stream",
     "text": [
      "Max of range (0, 0): -1\n",
      "Max of range (1, 3): 4\n",
      "Max of range (4, 7): 3\n"
     ]
    }
   ],
   "source": [
    "queries = [(0, 0), (1, 3), (4, 7)]\n",
    "\n",
    "for query in queries:\n",
    "    l, r = query\n",
    "    print(f\"Max of range ({l}, {r}): {segment_tree.get_value_from_range(l, r)}\")"
   ]
  },
  {
   "cell_type": "markdown",
   "id": "491b23ba-8894-4597-8cda-45c71a6e9fbb",
   "metadata": {},
   "source": [
    "***"
   ]
  }
 ],
 "metadata": {
  "kernelspec": {
   "display_name": "Python kernel developed by Saptarshi Dey",
   "language": "python",
   "name": "python3"
  },
  "language_info": {
   "codemirror_mode": {
    "name": "ipython",
    "version": 3
   },
   "file_extension": ".py",
   "mimetype": "text/x-python",
   "name": "python",
   "nbconvert_exporter": "python",
   "pygments_lexer": "ipython3",
   "version": "3.8.10"
  }
 },
 "nbformat": 4,
 "nbformat_minor": 5
}
