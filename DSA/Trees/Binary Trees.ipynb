{
 "cells": [
  {
   "cell_type": "markdown",
   "id": "2451b18e-6ec3-4448-9af9-7e92f1deeec7",
   "metadata": {},
   "source": [
    "# Binary Trees\n",
    "## Node class"
   ]
  },
  {
   "cell_type": "code",
   "execution_count": 1,
   "id": "3430aee8-2ddf-48f7-be10-f7a09fdafe83",
   "metadata": {},
   "outputs": [],
   "source": [
    "function Node(n, _left, _right) {\n",
    "  this.value = n;\n",
    "  this.left = _left ? _left : null;\n",
    "  this.right = _right ? _right : null;\n",
    "}"
   ]
  },
  {
   "cell_type": "markdown",
   "id": "0cec40b4-23d6-43c5-bdb9-910648c27202",
   "metadata": {},
   "source": [
    "## Function to create Binary Tree from Array"
   ]
  },
  {
   "cell_type": "code",
   "execution_count": 2,
   "id": "d0fc362c-04a1-4c7f-86e3-064fdb83db01",
   "metadata": {},
   "outputs": [],
   "source": [
    "function Binary_Tree_From_Array(array, root, index = 0) {\n",
    "  let lastIndex = (array.length >> 1) - 1;\n",
    "  if (index > lastIndex) return;\n",
    "  let left = (index << 1) + 1;\n",
    "  let right = (index << 1) + 2;\n",
    "  if (left < array.length) root.left = new Node(array[left]);\n",
    "  if (right < array.length) root.right = new Node(array[right]);\n",
    "  Binary_Tree_From_Array(array, root.left, 2 * index + 1);\n",
    "  Binary_Tree_From_Array(array, root.right, 2 * index + 2);\n",
    "}"
   ]
  },
  {
   "cell_type": "markdown",
   "id": "5b7999a0-ef4c-4229-b853-b20ba194b064",
   "metadata": {},
   "source": [
    "## Function to traverse Binary Tree"
   ]
  },
  {
   "cell_type": "code",
   "execution_count": 3,
   "id": "af0759a8-06c0-4638-bfbb-cae9d9e5798e",
   "metadata": {},
   "outputs": [],
   "source": [
    "function Traverse(tree) {\n",
    "  if (!tree) return;\n",
    "  if (tree.left || tree.right) console.log(\"\\nRoot: \", tree.value);\n",
    "  else console.log(\"\\nLeaf: \", tree.value);\n",
    "  if (tree.left) console.log(\"Left: \", tree.left.value);\n",
    "  if (tree.right) console.log(\"Right: \", tree.right.value);\n",
    "  Traverse(tree.left);\n",
    "  Traverse(tree.right);\n",
    "}"
   ]
  },
  {
   "cell_type": "markdown",
   "id": "69bb5d90-a3b2-4558-8c63-510359c04e53",
   "metadata": {},
   "source": [
    "## Function to Heapify Binary Tree"
   ]
  },
  {
   "cell_type": "code",
   "execution_count": 4,
   "id": "88656fc9-557e-4a66-add6-f4b95bebf8d2",
   "metadata": {},
   "outputs": [],
   "source": [
    "function Heapify_Tree(tree) {\n",
    "  if (!tree) return;\n",
    "  Heapify_Tree(tree.left);\n",
    "  Heapify_Tree(tree.right);\n",
    "\n",
    "  // there are 3 possible cases:\n",
    "  // tree is a leaf\n",
    "  // tree has only one child (left)\n",
    "  // tree has two children (left and right)\n",
    "  if (tree.left && tree.left.value > tree.value) {\n",
    "    let temp = tree.value;\n",
    "    tree.value = tree.left.value;\n",
    "    tree.left.value = temp;\n",
    "    //console.log(`Swapped ${tree.value} with ${tree.left.value}`);\n",
    "    Heapify_Tree(tree.left);\n",
    "  }\n",
    "  if (tree.right && tree.right.value < tree.value) {\n",
    "    let temp = tree.value;\n",
    "    tree.value = tree.right.value;\n",
    "    tree.right.value = temp;\n",
    "    //console.log(`Swapped ${tree.value} with ${tree.right.value}`);\n",
    "    Heapify_Tree(tree.right);\n",
    "  }\n",
    "}"
   ]
  },
  {
   "cell_type": "markdown",
   "id": "80f224a1-79c7-48e9-b30e-a9ea1658df15",
   "metadata": {},
   "source": [
    "## Functions for Pre-order Post-order and In-order Traversal"
   ]
  },
  {
   "cell_type": "code",
   "execution_count": 5,
   "id": "2aa6c285-7b7c-48b1-ac53-6c138d3752a7",
   "metadata": {},
   "outputs": [],
   "source": [
    "function PreOrder(tree, array) {\n",
    "  if (!tree) return;\n",
    "\n",
    "  if (!array.includes(tree.value)) array.push(tree.value);\n",
    "\n",
    "  PreOrder(tree.left, array);\n",
    "  PreOrder(tree.right, array);\n",
    "}\n",
    "\n",
    "function PostOrder(tree, array) {\n",
    "  if (!tree) return;\n",
    "\n",
    "  PostOrder(tree.left, array);\n",
    "  PostOrder(tree.right, array);\n",
    "  if (!array.includes(tree.value)) array.push(tree.value);\n",
    "}\n",
    "\n",
    "function InOrder(tree, array) {\n",
    "  if (!tree) return;\n",
    "\n",
    "  InOrder(tree.left, array);\n",
    "  if (!array.includes(tree.value)) array.push(tree.value);\n",
    "  InOrder(tree.right, array);\n",
    "}"
   ]
  },
  {
   "cell_type": "markdown",
   "id": "53517366-1b17-4761-8a8d-8c3892a941bf",
   "metadata": {},
   "source": [
    "## Example to heapify binary tree"
   ]
  },
  {
   "cell_type": "code",
   "execution_count": 6,
   "id": "9abc38f5-8666-4421-bfe2-53839ff2ad73",
   "metadata": {},
   "outputs": [
    {
     "name": "stdout",
     "output_type": "stream",
     "text": [
      "Before Heapify\n",
      "\n",
      "Root:  \u001b[33m5\u001b[39m\n",
      "Left:  \u001b[33m12\u001b[39m\n",
      "Right:  \u001b[33m64\u001b[39m\n",
      "\n",
      "Root:  \u001b[33m12\u001b[39m\n",
      "Left:  \u001b[33m1\u001b[39m\n",
      "Right:  \u001b[33m37\u001b[39m\n",
      "\n",
      "Root:  \u001b[33m1\u001b[39m\n",
      "Left:  \u001b[33m97\u001b[39m\n",
      "\n",
      "Leaf:  \u001b[33m97\u001b[39m\n",
      "\n",
      "Leaf:  \u001b[33m37\u001b[39m\n",
      "\n",
      "Root:  \u001b[33m64\u001b[39m\n",
      "Left:  \u001b[33m90\u001b[39m\n",
      "Right:  \u001b[33m91\u001b[39m\n",
      "\n",
      "Leaf:  \u001b[33m90\u001b[39m\n",
      "\n",
      "Leaf:  \u001b[33m91\u001b[39m\n",
      "\n",
      "After Heapify\n",
      "\n",
      "Root:  \u001b[33m37\u001b[39m\n",
      "Left:  \u001b[33m12\u001b[39m\n",
      "Right:  \u001b[33m90\u001b[39m\n",
      "\n",
      "Root:  \u001b[33m12\u001b[39m\n",
      "Left:  \u001b[33m5\u001b[39m\n",
      "Right:  \u001b[33m97\u001b[39m\n",
      "\n",
      "Root:  \u001b[33m5\u001b[39m\n",
      "Left:  \u001b[33m1\u001b[39m\n",
      "\n",
      "Leaf:  \u001b[33m1\u001b[39m\n",
      "\n",
      "Leaf:  \u001b[33m97\u001b[39m\n",
      "\n",
      "Root:  \u001b[33m90\u001b[39m\n",
      "Left:  \u001b[33m64\u001b[39m\n",
      "Right:  \u001b[33m91\u001b[39m\n",
      "\n",
      "Leaf:  \u001b[33m64\u001b[39m\n",
      "\n",
      "Leaf:  \u001b[33m91\u001b[39m\n"
     ]
    }
   ],
   "source": [
    "let arr = [5, 12, 64, 1, 37, 90, 91, 97];\n",
    "\n",
    "let root = new Node(arr[0]);\n",
    "Binary_Tree_From_Array(arr, root);\n",
    "\n",
    "console.log(\"Before Heapify\");\n",
    "Traverse(root);\n",
    "\n",
    "Heapify_Tree(root);\n",
    "console.log(\"\\nAfter Heapify\");\n",
    "Traverse(root);"
   ]
  },
  {
   "cell_type": "markdown",
   "id": "86591bed-a32f-4461-8902-2aef2da471b6",
   "metadata": {},
   "source": [
    "***\n",
    "## Example of Tree Traversal"
   ]
  },
  {
   "cell_type": "code",
   "execution_count": 7,
   "id": "96b3da0c-5e6b-4026-9225-404517595cd9",
   "metadata": {},
   "outputs": [
    {
     "name": "stdout",
     "output_type": "stream",
     "text": [
      "\n",
      "Root:  A\n",
      "Left:  B\n",
      "Right:  C\n",
      "\n",
      "Root:  B\n",
      "Left:  D\n",
      "Right:  E\n",
      "\n",
      "Leaf:  D\n",
      "\n",
      "Leaf:  E\n",
      "\n",
      "Leaf:  C\n",
      "\n",
      "PreOrder:  [ \u001b[32m\"A\"\u001b[39m, \u001b[32m\"B\"\u001b[39m, \u001b[32m\"D\"\u001b[39m, \u001b[32m\"E\"\u001b[39m, \u001b[32m\"C\"\u001b[39m ]\n",
      "PostOrder:  [ \u001b[32m\"D\"\u001b[39m, \u001b[32m\"E\"\u001b[39m, \u001b[32m\"B\"\u001b[39m, \u001b[32m\"C\"\u001b[39m, \u001b[32m\"A\"\u001b[39m ]\n",
      "InOrder:  [ \u001b[32m\"D\"\u001b[39m, \u001b[32m\"B\"\u001b[39m, \u001b[32m\"E\"\u001b[39m, \u001b[32m\"A\"\u001b[39m, \u001b[32m\"C\"\u001b[39m ]\n"
     ]
    }
   ],
   "source": [
    "let arr2 = [\"A\", \"B\", \"C\", \"D\", \"E\"];\n",
    "\n",
    "let root2 = new Node(arr2[0]);\n",
    "Binary_Tree_From_Array(arr2, root2);\n",
    "Traverse(root2);\n",
    "\n",
    "let arr3 = [], arr4 = [], arr5 = [];\n",
    "PreOrder(root2, arr3);\n",
    "PostOrder(root2, arr4);\n",
    "InOrder(root2, arr5);\n",
    "\n",
    "console.log(\"\\nPreOrder: \", arr3);\n",
    "console.log(\"PostOrder: \", arr4);\n",
    "console.log(\"InOrder: \", arr5);"
   ]
  },
  {
   "cell_type": "markdown",
   "id": "51482c2c-afcb-43fb-bbe8-29eb18f3d3a3",
   "metadata": {},
   "source": [
    "***"
   ]
  }
 ],
 "metadata": {
  "kernelspec": {
   "display_name": "TypeScript Kernel developed by Saptarshi Dey",
   "language": "typescript",
   "name": "deno"
  },
  "language_info": {
   "codemirror_mode": "typescript",
   "file_extension": ".ts",
   "mimetype": "text/x.typescript",
   "name": "typescript",
   "nbconvert_exporter": "script",
   "pygments_lexer": "typescript",
   "version": "5.5.2"
  }
 },
 "nbformat": 4,
 "nbformat_minor": 5
}
