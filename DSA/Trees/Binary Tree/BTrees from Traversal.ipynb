{
 "cells": [
  {
   "cell_type": "markdown",
   "id": "f7cc857f-81fb-4bdc-a316-15e77a02903d",
   "metadata": {},
   "source": [
    "# Defining the Node class"
   ]
  },
  {
   "cell_type": "code",
   "execution_count": 1,
   "id": "4badfa71-aecd-456b-a9e6-20dc5b635ea7",
   "metadata": {},
   "outputs": [],
   "source": [
    "from typing import List\n",
    "\n",
    "class Node:\n",
    "    def __init__(self, value_ = 0, left_ = None, right_ = None):\n",
    "        self.value = value_\n",
    "        self.left = left_\n",
    "        self.right = right_"
   ]
  },
  {
   "cell_type": "markdown",
   "id": "153c46d8-389b-4c4f-853a-ec3699636c04",
   "metadata": {},
   "source": [
    "# Constructing Binary tree from in-order and pre-order traversal\n",
    "## Algorithm\n",
    "1. **Base Case – Empty Tree Check:**\n",
    "   - If both `inOrder` and `preOrder` are empty, return `None`.\n",
    "\n",
    "2. **Base Case – Single Node Tree:**\n",
    "   - If both lists have only one element:\n",
    "     - Check if the elements are the same.\n",
    "     - If yes, return a new `Node` with that value.\n",
    "     - Else, raise an exception — traversals don’t match.\n",
    "\n",
    "3. **Identify Root:**\n",
    "   - The **first element** of the `preOrder` list is the **root** of the current (sub)tree.\n",
    "\n",
    "4. **Find Root in Inorder Traversal:**\n",
    "   - Locate the index of the root in `inOrder`.\n",
    "   - All elements **before** this index belong to the **left subtree**.\n",
    "   - All elements **after** this index belong to the **right subtree**.\n",
    "\n",
    "5. **Divide Traversals for Subtrees:**\n",
    "   - Slice `inOrder`:\n",
    "     - `leftTree_In = inOrder[0:rootIndex]`\n",
    "     - `rightTree_In = inOrder[rootIndex+1:]`\n",
    "   - Use the size of the left subtree (`len(leftTree_In)`) to divide `preOrder`:\n",
    "     - `leftTree_Pre = preOrder[1:n]`, where `n = len(leftTree_In) + 1`\n",
    "     - `rightTree_Pre = preOrder[n:]`\n",
    "\n",
    "6. **Recursive Construction:**\n",
    "   - Create a new `Node` with the root value.\n",
    "   - Recursively construct the **left** subtree using `leftTree_In` and `leftTree_Pre`.\n",
    "   - Recursively construct the **right** subtree using `rightTree_In` and `rightTree_Pre`.\n",
    "   - Assign these to `rootNode.left` and `rootNode.right`.\n",
    "\n",
    "7. **Return Root:**\n",
    "   - Return the `rootNode` containing the entire subtree rooted at this node.\n",
    "\n",
    "---"
   ]
  },
  {
   "cell_type": "code",
   "execution_count": 2,
   "id": "badd011c-affd-40a2-aa9c-188ef3c6b582",
   "metadata": {},
   "outputs": [],
   "source": [
    "class InPreOrder():\n",
    "    def createBinaryTree(self, inOrder: List[int], preOrder: List[int]) -> Node:\n",
    "        if len(inOrder) == 0 and len(preOrder) == 0:\n",
    "            return None\n",
    "        \n",
    "        # print(\"Preorder\", end = ''); print(preOrder)\n",
    "        # print(\"Inorder\", end = ''); print(inOrder); print()\n",
    "        \n",
    "        if len(preOrder) == 1 and len(inOrder) == 1:\n",
    "            if preOrder[0] == inOrder[0]:\n",
    "                return Node(preOrder[0])\n",
    "            raise Exception(\"There was some error\")\n",
    "        \n",
    "        root = preOrder[0]\n",
    "        rootIndex = inOrder.index(root)\n",
    "        leftTree_In = inOrder[0: rootIndex]\n",
    "        rightTree_In = inOrder[rootIndex + 1: len(inOrder)]\n",
    "    \n",
    "        n = len(leftTree_In) + 1\n",
    "        leftTree_Pre = preOrder[1: n]\n",
    "        rightTree_Pre = preOrder[n: len(preOrder)]\n",
    "    \n",
    "        # print(rightTree_In); print(rightTree_Pre)\n",
    "    \n",
    "        rootNode = Node(root)\n",
    "        rootNode.left = self.createBinaryTree(leftTree_In, leftTree_Pre)\n",
    "        rootNode.right = self.createBinaryTree(rightTree_In, rightTree_Pre)\n",
    "    \n",
    "        return rootNode"
   ]
  },
  {
   "cell_type": "markdown",
   "id": "3a90b1fb-188c-40d5-8123-506a3d0c34a1",
   "metadata": {},
   "source": [
    "# Constructing Binary tree from in-order and post-order traversal\n",
    "## Algorithm\n",
    "1. **Base Case – Empty Tree Check:**\n",
    "   - If both `inOrder` and `postOrder` are empty, return `None`.\n",
    "\n",
    "2. **Base Case – Single Node Tree:**\n",
    "   - If both lists have only one element:\n",
    "     - Check if the elements are the same.\n",
    "     - If yes, return a new `Node` with that value.\n",
    "     - Else, raise an exception — traversals don’t match.\n",
    "\n",
    "3. **Identify Root:**\n",
    "   - The **last element** of the `postOrder` list is the **root** of the current (sub)tree.\n",
    "\n",
    "4. **Find Root in Inorder Traversal:**\n",
    "   - Locate the index of the root in `inOrder`.\n",
    "   - All elements **before** this index belong to the **left subtree**.\n",
    "   - All elements **after** this index belong to the **right subtree**.\n",
    "\n",
    "5. **Divide Traversals for Subtrees:**\n",
    "   - Slice `inOrder`:\n",
    "     - `leftTree_In = inOrder[0:rootIndex]`\n",
    "     - `rightTree_In = inOrder[rootIndex+1:]`\n",
    "   - Use the size of the left subtree (`n = len(leftTree_In)`) to divide `postOrder`:\n",
    "     - `leftTree_Pre = postOrder[0:n]`\n",
    "     - `rightTree_Pre = postOrder[n:len(postOrder)-1]` (excluding last element which is root)\n",
    "\n",
    "6. **Recursive Construction:**\n",
    "   - Create a new `Node` with the root value.\n",
    "   - Recursively construct the **left** subtree using `leftTree_In` and `leftTree_Pre`.\n",
    "   - Recursively construct the **right** subtree using `rightTree_In` and `rightTree_Pre`.\n",
    "   - Assign these to `rootNode.left` and `rootNode.right`.\n",
    "\n",
    "7. **Return Root:**\n",
    "   - Return the `rootNode` containing the entire subtree rooted at this node.\n",
    "\n",
    "---"
   ]
  },
  {
   "cell_type": "code",
   "execution_count": 3,
   "id": "a53860f7-ebfc-462a-b798-21e911a7ec6d",
   "metadata": {},
   "outputs": [],
   "source": [
    "class InPostOrder:\n",
    "    def createBinaryTree(self, inOrder: List[int], postOrder: List[int]) -> Node:\n",
    "        if len(inOrder) == 0 and len(postOrder) == 0:\n",
    "            return None\n",
    "        \n",
    "        # print(\"Preorder\", end = ''); print(postOrder)\n",
    "        # print(\"Inorder\", end = ''); print(inOrder); print()\n",
    "        \n",
    "        if len(postOrder) == 1 and len(inOrder) == 1:\n",
    "            if postOrder[0] == inOrder[0]:\n",
    "                return Node(postOrder[0])\n",
    "            raise Exception(\"There was some error\")\n",
    "        \n",
    "        root = postOrder[-1]\n",
    "        rootIndex = inOrder.index(root)\n",
    "        leftTree_In = inOrder[0: rootIndex]\n",
    "        rightTree_In = inOrder[rootIndex + 1: len(inOrder)]\n",
    "    \n",
    "        n = len(leftTree_In)\n",
    "        leftTree_Pre = postOrder[0: n]\n",
    "        rightTree_Pre = postOrder[n: len(postOrder) - 1]\n",
    "    \n",
    "        rootNode = Node(root)\n",
    "        rootNode.left = self.createBinaryTree(leftTree_In, leftTree_Pre)\n",
    "        rootNode.right = self.createBinaryTree(rightTree_In, rightTree_Pre)\n",
    "    \n",
    "        return rootNode"
   ]
  },
  {
   "cell_type": "markdown",
   "id": "4800a790-1d05-49f8-8e4e-d0178fa55a2b",
   "metadata": {},
   "source": [
    "## Function to traverse a binary tree"
   ]
  },
  {
   "cell_type": "code",
   "execution_count": 4,
   "id": "f7c70e1e-dd3c-47c7-acd6-b0f4a8bb7b3a",
   "metadata": {},
   "outputs": [],
   "source": [
    "def traverse(tree):\n",
    "    if not tree:\n",
    "        return\n",
    "    if tree.left or tree.right:\n",
    "        print(\"\\nRoot:\", tree.value)\n",
    "    else:\n",
    "        print(\"\\nLeaf:\", tree.value)\n",
    "    if tree.left:\n",
    "        print(\"Left:\", tree.left.value)\n",
    "    if tree.right:\n",
    "        print(\"Right:\", tree.right.value)\n",
    "    traverse(tree.left)\n",
    "    traverse(tree.right)"
   ]
  },
  {
   "cell_type": "markdown",
   "id": "1720585c-7b69-442e-b3e2-fdb439b6bc44",
   "metadata": {},
   "source": [
    "## Traversals"
   ]
  },
  {
   "cell_type": "code",
   "execution_count": 5,
   "id": "b67ec5c5-3431-4d79-9fdf-57385e51abce",
   "metadata": {},
   "outputs": [],
   "source": [
    "pre_order = [10, 20, 40, 50, 30, 60]\n",
    "in_order = [40, 20, 50, 10, 60, 30]\n",
    "post_order = [40, 50, 20, 60, 30, 10]"
   ]
  },
  {
   "cell_type": "markdown",
   "id": "2cac8757-e339-4fd8-baac-5cfda4670d7a",
   "metadata": {},
   "source": [
    "## Driver code"
   ]
  },
  {
   "cell_type": "code",
   "execution_count": 6,
   "id": "6e8e50d7-5dc2-4f5c-831e-63c1380dc036",
   "metadata": {},
   "outputs": [
    {
     "name": "stdout",
     "output_type": "stream",
     "text": [
      "\n",
      "Root: 10\n",
      "Left: 20\n",
      "Right: 30\n",
      "\n",
      "Root: 20\n",
      "Left: 40\n",
      "Right: 50\n",
      "\n",
      "Leaf: 40\n",
      "\n",
      "Leaf: 50\n",
      "\n",
      "Root: 30\n",
      "Left: 60\n",
      "\n",
      "Leaf: 60\n"
     ]
    }
   ],
   "source": [
    "tree1 = InPreOrder().createBinaryTree(in_order, pre_order)\n",
    "traverse(tree1)"
   ]
  },
  {
   "cell_type": "code",
   "execution_count": 7,
   "id": "3bfb1905-15e5-4c02-91b0-9cf9fd9f0204",
   "metadata": {},
   "outputs": [
    {
     "name": "stdout",
     "output_type": "stream",
     "text": [
      "\n",
      "Root: 10\n",
      "Left: 20\n",
      "Right: 30\n",
      "\n",
      "Root: 20\n",
      "Left: 40\n",
      "Right: 50\n",
      "\n",
      "Leaf: 40\n",
      "\n",
      "Leaf: 50\n",
      "\n",
      "Root: 30\n",
      "Left: 60\n",
      "\n",
      "Leaf: 60\n"
     ]
    }
   ],
   "source": [
    "tree2 = InPostOrder().createBinaryTree(in_order, post_order)\n",
    "traverse(tree2)"
   ]
  },
  {
   "cell_type": "markdown",
   "id": "d222645e-bbfb-4669-a8a8-904ee10eb356",
   "metadata": {},
   "source": [
    "As we can see, both these trees are the same. This shows that our algorithm works.\n",
    "***"
   ]
  }
 ],
 "metadata": {
  "kernelspec": {
   "display_name": "Python kernel developed by Saptarshi Dey",
   "language": "python",
   "name": "python3"
  },
  "language_info": {
   "codemirror_mode": {
    "name": "ipython",
    "version": 3
   },
   "file_extension": ".py",
   "mimetype": "text/x-python",
   "name": "python",
   "nbconvert_exporter": "python",
   "pygments_lexer": "ipython3",
   "version": "3.8.10"
  }
 },
 "nbformat": 4,
 "nbformat_minor": 5
}
