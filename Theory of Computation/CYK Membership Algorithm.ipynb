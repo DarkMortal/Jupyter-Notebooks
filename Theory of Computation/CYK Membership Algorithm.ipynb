{
 "cells": [
  {
   "cell_type": "markdown",
   "id": "5404bb26-ab48-4748-8264-0d03c6b04308",
   "metadata": {},
   "source": [
    "# CYK Algorithm\n",
    "- This is a membership algorithm, i.e, it helps us to check if a given string belong to a particular grammar.\n",
    "- It is a dynamic programming approach.\n",
    "- Limitation of this algorithm is that it only works on CNF (Chomsky Normal Form).\n",
    "- If we're given a string $w$ of length $|w|$ then then we create a half-table of $|w|\\times |w|$ dimensions.\n",
    "- When we're filling the cell $(u,v)$ of the parse table, we put in the value that derives the string $w[u:v]$.\n",
    "- If the first cell of this parse table contains the starting symbol (say $S$) then the string $w$ belongs to the grammar.\n",
    "## Steps to calculate the values of a cell\n",
    "- Determine all the possible partitions (if any) of the index $(u,v)$. Example:\n",
    "  - $(1,3)$ can be divided into $(1,1).(2,3)$ and $(1,2).(3,3)$\n",
    "  - $(1,4)$ can be divided into $(1,1).(2,4)$, $(1,2).(3,4)$ and $(1,3).(4,4)$\n",
    "  \n",
    "  **Note:** $.$ symbol indicates concatenation.\n",
    "- The value of the cell $(u,v)$ is the set of all the non-terminal symbols that derives any of the values resulting from the concatenation.\n",
    "***\n",
    "## Function do display the parse table"
   ]
  },
  {
   "cell_type": "code",
   "execution_count": 1,
   "id": "7ec2e340-387a-4a48-8e85-b41855684190",
   "metadata": {},
   "outputs": [],
   "source": [
    "from typing import List\n",
    "from IPython.display import display, HTML\n",
    "\n",
    "def displayTable(arr: List[List[int]]):\n",
    "    n = len(arr[0])\n",
    "    headers = f'''<thead><tr><td>&nbsp;</td>{''.join([f\"<td>{n - i}</td>\" for i in range(n)])}</tr></thead>'''\n",
    "    htmlData = \"<tbody>\"\n",
    "    for i in range(n):\n",
    "        data = f\"<tr><td>{i + 1}</td>\"\n",
    "        for cell in arr[i]:\n",
    "            t = cell\n",
    "            if cell == 0:\n",
    "                t = \"&nbsp;\"\n",
    "            if cell == '':\n",
    "                t = \"$\\phi$\"\n",
    "            data += f\"<td>{t}</td>\"\n",
    "        data += \"</tr>\"\n",
    "        htmlData += data\n",
    "    htmlData += \"</tbody>\"\n",
    "    display(HTML(\n",
    "        f\"<table>{headers}{htmlData}</table><hr/>\"\n",
    "    ))"
   ]
  },
  {
   "cell_type": "markdown",
   "id": "dac23924-6950-4c82-8b0e-f3cc29def1a5",
   "metadata": {},
   "source": [
    "## Initializing the solution class and implementing the algorithm"
   ]
  },
  {
   "cell_type": "code",
   "execution_count": 2,
   "id": "929522da-5537-498b-81d3-15fc4a162c51",
   "metadata": {},
   "outputs": [],
   "source": [
    "from typing import List, Tuple, Set\n",
    "\n",
    "class Parser:\n",
    "    def __init__(self, string_: str):\n",
    "        self.string = string_\n",
    "        self.parse_table = []\n",
    "        self.table_size = len(string_)\n",
    "\n",
    "        # initialize the parse-table\n",
    "        k = self.table_size\n",
    "        for i in range(self.table_size):\n",
    "            arr = []\n",
    "            for j in range(k):\n",
    "                arr.append(0)\n",
    "            k -= 1\n",
    "            self.parse_table.append(arr[:])\n",
    "\n",
    "        # function to map index to table\n",
    "        self.map_index = lambda x, y: (x - 1, self.table_size - y)\n",
    "\n",
    "    # setter function\n",
    "    def setValue(self, x_: int, y_: int, val_: str):\n",
    "        x, y = self.map_index(x_, y_)\n",
    "        self.parse_table[x][y] = val_\n",
    "\n",
    "    # getter function\n",
    "    def getValue(self, x_: int, y_: int) -> str:\n",
    "        x, y = self.map_index(x_, y_)\n",
    "        return self.parse_table[x][y]\n",
    "\n",
    "    # function to split an interval\n",
    "    def split_interval(self, i: int, j: int, verbose: bool) -> List[Tuple[int]]:\n",
    "        if verbose:\n",
    "            print(f\"\\nSplitting ({i}, {j})\")\n",
    "        splits = []\n",
    "        for k in range(i, j):\n",
    "            split = ((i, k), (k + 1, j))\n",
    "            if verbose:\n",
    "                print(f\"{split[0]} - {split[1]}\")\n",
    "            splits.append(split)\n",
    "        return splits\n",
    "\n",
    "    def all_concatenations(self, set1: str, set2: str, verbose: bool) -> Set[str]:\n",
    "        symbol_set1 = set1.split(\", \")\n",
    "        symbol_set2 = set2.split(\", \")\n",
    "        result = set()\n",
    "        for x in symbol_set1:\n",
    "            for y in symbol_set2:\n",
    "                result.add(x + y)\n",
    "        if verbose:\n",
    "            print(f\"Concatenating :{set1} and {set2} = {result}\")\n",
    "        return result\n",
    "\n",
    "    def createValue(self, x_: int, y_: int, grammar, verbose: bool):\n",
    "        if x_ > y_ or not self.getValue(x_, y_) == 0:\n",
    "            return\n",
    "\n",
    "        if x_ == y_:\n",
    "            value = \"\"\n",
    "            t = self.string[x_ - 1]\n",
    "            for production in grammar.keys():\n",
    "                if t in grammar[production]:\n",
    "                    value += f\"{production}, \"\n",
    "            self.setValue(x_, y_, value[0: -2])\n",
    "            return\n",
    "\n",
    "        splits = self.split_interval(x_, y_, verbose)\n",
    "        symbols = set()\n",
    "        for split in splits:\n",
    "            cell1, cell2 = split[0], split[1]\n",
    "            concatenation = self.all_concatenations(\n",
    "                self.getValue(cell1[0], cell1[1]),\n",
    "                self.getValue(cell2[0], cell2[1]), verbose\n",
    "            )\n",
    "            for production in grammar.keys():\n",
    "                intersection = set(grammar[production]) & concatenation\n",
    "                if len(intersection) > 0:\n",
    "                    symbols.add(production)\n",
    "                    if verbose:\n",
    "                        print(f\"{production} derives {intersection}\")\n",
    "        self.setValue(x_, y_, \", \".join(list(symbols)))\n",
    "\n",
    "    def __call__(self, grammar, verbose = False) -> bool:\n",
    "        for k in range(self.table_size):\n",
    "            if verbose:\n",
    "                display(HTML(f\"<h2>Step:- {k + 1}</h2>\"))\n",
    "            for i in range(1, self.table_size + 1):\n",
    "                start, end = i, i + k\n",
    "                if start > self.table_size or end > self.table_size:\n",
    "                    continue\n",
    "                self.createValue(start, end, grammar, verbose)\n",
    "            if verbose:\n",
    "                displayTable(self.parse_table)\n",
    "\n",
    "        # assuming LHS of the first production rule is the start symbol\n",
    "        return list(grammar.keys())[0] in self.parse_table[0][0]"
   ]
  },
  {
   "cell_type": "markdown",
   "id": "a421c9c5-14c0-4d4a-8ab4-3a5eaf95ce10",
   "metadata": {},
   "source": [
    "## Grammar and strings to test the algorithm"
   ]
  },
  {
   "cell_type": "code",
   "execution_count": 3,
   "id": "171426f6-e0d5-4ec6-99eb-8fca2516be95",
   "metadata": {},
   "outputs": [],
   "source": [
    "grammar1 = {\n",
    "    \"S\": [\"AB\"],\n",
    "    \"A\": [\"BB\", \"a\"],\n",
    "    \"B\": [\"AB\", \"b\"]\n",
    "}\n",
    "string1 = \"abbb\"\n",
    "\n",
    "grammar2 = {\n",
    "    \"S\": [\"AB\", \"BC\"],\n",
    "    \"A\": [\"BA\", \"a\"],\n",
    "    \"B\": [\"CC\", \"b\"],\n",
    "    \"C\": [\"AB\", \"a\"]\n",
    "}\n",
    "string2 = \"baaba\""
   ]
  },
  {
   "cell_type": "markdown",
   "id": "6b060982-33bc-43cc-9876-c55f73102ef0",
   "metadata": {},
   "source": [
    "## Driver code"
   ]
  },
  {
   "cell_type": "code",
   "execution_count": 4,
   "id": "57a23763-cda9-42c7-b6c2-3865de99c560",
   "metadata": {},
   "outputs": [
    {
     "data": {
      "text/html": [
       "<h2>Step:- 1</h2>"
      ],
      "text/plain": [
       "<IPython.core.display.HTML object>"
      ]
     },
     "metadata": {},
     "output_type": "display_data"
    },
    {
     "data": {
      "text/html": [
       "<table><thead><tr><td>&nbsp;</td><td>4</td><td>3</td><td>2</td><td>1</td></tr></thead><tbody><tr><td>1</td><td>&nbsp;</td><td>&nbsp;</td><td>&nbsp;</td><td>A</td></tr><tr><td>2</td><td>&nbsp;</td><td>&nbsp;</td><td>B</td></tr><tr><td>3</td><td>&nbsp;</td><td>B</td></tr><tr><td>4</td><td>B</td></tr></tbody></table><hr/>"
      ],
      "text/plain": [
       "<IPython.core.display.HTML object>"
      ]
     },
     "metadata": {},
     "output_type": "display_data"
    },
    {
     "data": {
      "text/html": [
       "<h2>Step:- 2</h2>"
      ],
      "text/plain": [
       "<IPython.core.display.HTML object>"
      ]
     },
     "metadata": {},
     "output_type": "display_data"
    },
    {
     "name": "stdout",
     "output_type": "stream",
     "text": [
      "\n",
      "Splitting (1, 2)\n",
      "(1, 1) - (2, 2)\n",
      "Concatenating :A and B = {'AB'}\n",
      "S derives {'AB'}\n",
      "B derives {'AB'}\n",
      "\n",
      "Splitting (2, 3)\n",
      "(2, 2) - (3, 3)\n",
      "Concatenating :B and B = {'BB'}\n",
      "A derives {'BB'}\n",
      "\n",
      "Splitting (3, 4)\n",
      "(3, 3) - (4, 4)\n",
      "Concatenating :B and B = {'BB'}\n",
      "A derives {'BB'}\n"
     ]
    },
    {
     "data": {
      "text/html": [
       "<table><thead><tr><td>&nbsp;</td><td>4</td><td>3</td><td>2</td><td>1</td></tr></thead><tbody><tr><td>1</td><td>&nbsp;</td><td>&nbsp;</td><td>B, S</td><td>A</td></tr><tr><td>2</td><td>&nbsp;</td><td>A</td><td>B</td></tr><tr><td>3</td><td>A</td><td>B</td></tr><tr><td>4</td><td>B</td></tr></tbody></table><hr/>"
      ],
      "text/plain": [
       "<IPython.core.display.HTML object>"
      ]
     },
     "metadata": {},
     "output_type": "display_data"
    },
    {
     "data": {
      "text/html": [
       "<h2>Step:- 3</h2>"
      ],
      "text/plain": [
       "<IPython.core.display.HTML object>"
      ]
     },
     "metadata": {},
     "output_type": "display_data"
    },
    {
     "name": "stdout",
     "output_type": "stream",
     "text": [
      "\n",
      "Splitting (1, 3)\n",
      "(1, 1) - (2, 3)\n",
      "(1, 2) - (3, 3)\n",
      "Concatenating :A and A = {'AA'}\n",
      "Concatenating :B, S and B = {'BB', 'SB'}\n",
      "A derives {'BB'}\n",
      "\n",
      "Splitting (2, 4)\n",
      "(2, 2) - (3, 4)\n",
      "(2, 3) - (4, 4)\n",
      "Concatenating :B and A = {'BA'}\n",
      "Concatenating :A and B = {'AB'}\n",
      "S derives {'AB'}\n",
      "B derives {'AB'}\n"
     ]
    },
    {
     "data": {
      "text/html": [
       "<table><thead><tr><td>&nbsp;</td><td>4</td><td>3</td><td>2</td><td>1</td></tr></thead><tbody><tr><td>1</td><td>&nbsp;</td><td>A</td><td>B, S</td><td>A</td></tr><tr><td>2</td><td>B, S</td><td>A</td><td>B</td></tr><tr><td>3</td><td>A</td><td>B</td></tr><tr><td>4</td><td>B</td></tr></tbody></table><hr/>"
      ],
      "text/plain": [
       "<IPython.core.display.HTML object>"
      ]
     },
     "metadata": {},
     "output_type": "display_data"
    },
    {
     "data": {
      "text/html": [
       "<h2>Step:- 4</h2>"
      ],
      "text/plain": [
       "<IPython.core.display.HTML object>"
      ]
     },
     "metadata": {},
     "output_type": "display_data"
    },
    {
     "name": "stdout",
     "output_type": "stream",
     "text": [
      "\n",
      "Splitting (1, 4)\n",
      "(1, 1) - (2, 4)\n",
      "(1, 2) - (3, 4)\n",
      "(1, 3) - (4, 4)\n",
      "Concatenating :A and B, S = {'AB', 'AS'}\n",
      "S derives {'AB'}\n",
      "B derives {'AB'}\n",
      "Concatenating :B, S and A = {'BA', 'SA'}\n",
      "Concatenating :A and B = {'AB'}\n",
      "S derives {'AB'}\n",
      "B derives {'AB'}\n"
     ]
    },
    {
     "data": {
      "text/html": [
       "<table><thead><tr><td>&nbsp;</td><td>4</td><td>3</td><td>2</td><td>1</td></tr></thead><tbody><tr><td>1</td><td>B, S</td><td>A</td><td>B, S</td><td>A</td></tr><tr><td>2</td><td>B, S</td><td>A</td><td>B</td></tr><tr><td>3</td><td>A</td><td>B</td></tr><tr><td>4</td><td>B</td></tr></tbody></table><hr/>"
      ],
      "text/plain": [
       "<IPython.core.display.HTML object>"
      ]
     },
     "metadata": {},
     "output_type": "display_data"
    },
    {
     "name": "stdout",
     "output_type": "stream",
     "text": [
      "The word 'abbb' belongs to the grammar.\n"
     ]
    }
   ],
   "source": [
    "parser = Parser(string1)\n",
    "res = parser(grammar1, verbose = True)\n",
    "print(f'''The word '{string1}' {(\"belongs\" if res else \"doesn't belong\")} to the grammar.''')"
   ]
  },
  {
   "cell_type": "code",
   "execution_count": 5,
   "id": "7d9fe1c9-411b-41f0-b70b-9c35acd9ad13",
   "metadata": {},
   "outputs": [
    {
     "data": {
      "text/html": [
       "<h2>Step:- 1</h2>"
      ],
      "text/plain": [
       "<IPython.core.display.HTML object>"
      ]
     },
     "metadata": {},
     "output_type": "display_data"
    },
    {
     "data": {
      "text/html": [
       "<table><thead><tr><td>&nbsp;</td><td>5</td><td>4</td><td>3</td><td>2</td><td>1</td></tr></thead><tbody><tr><td>1</td><td>&nbsp;</td><td>&nbsp;</td><td>&nbsp;</td><td>&nbsp;</td><td>B</td></tr><tr><td>2</td><td>&nbsp;</td><td>&nbsp;</td><td>&nbsp;</td><td>A, C</td></tr><tr><td>3</td><td>&nbsp;</td><td>&nbsp;</td><td>A, C</td></tr><tr><td>4</td><td>&nbsp;</td><td>B</td></tr><tr><td>5</td><td>A, C</td></tr></tbody></table><hr/>"
      ],
      "text/plain": [
       "<IPython.core.display.HTML object>"
      ]
     },
     "metadata": {},
     "output_type": "display_data"
    },
    {
     "data": {
      "text/html": [
       "<h2>Step:- 2</h2>"
      ],
      "text/plain": [
       "<IPython.core.display.HTML object>"
      ]
     },
     "metadata": {},
     "output_type": "display_data"
    },
    {
     "name": "stdout",
     "output_type": "stream",
     "text": [
      "\n",
      "Splitting (1, 2)\n",
      "(1, 1) - (2, 2)\n",
      "Concatenating :B and A, C = {'BA', 'BC'}\n",
      "S derives {'BC'}\n",
      "A derives {'BA'}\n",
      "\n",
      "Splitting (2, 3)\n",
      "(2, 2) - (3, 3)\n",
      "Concatenating :A, C and A, C = {'AC', 'AA', 'CA', 'CC'}\n",
      "B derives {'CC'}\n",
      "\n",
      "Splitting (3, 4)\n",
      "(3, 3) - (4, 4)\n",
      "Concatenating :A, C and B = {'AB', 'CB'}\n",
      "S derives {'AB'}\n",
      "C derives {'AB'}\n",
      "\n",
      "Splitting (4, 5)\n",
      "(4, 4) - (5, 5)\n",
      "Concatenating :B and A, C = {'BA', 'BC'}\n",
      "S derives {'BC'}\n",
      "A derives {'BA'}\n"
     ]
    },
    {
     "data": {
      "text/html": [
       "<table><thead><tr><td>&nbsp;</td><td>5</td><td>4</td><td>3</td><td>2</td><td>1</td></tr></thead><tbody><tr><td>1</td><td>&nbsp;</td><td>&nbsp;</td><td>&nbsp;</td><td>A, S</td><td>B</td></tr><tr><td>2</td><td>&nbsp;</td><td>&nbsp;</td><td>B</td><td>A, C</td></tr><tr><td>3</td><td>&nbsp;</td><td>C, S</td><td>A, C</td></tr><tr><td>4</td><td>A, S</td><td>B</td></tr><tr><td>5</td><td>A, C</td></tr></tbody></table><hr/>"
      ],
      "text/plain": [
       "<IPython.core.display.HTML object>"
      ]
     },
     "metadata": {},
     "output_type": "display_data"
    },
    {
     "data": {
      "text/html": [
       "<h2>Step:- 3</h2>"
      ],
      "text/plain": [
       "<IPython.core.display.HTML object>"
      ]
     },
     "metadata": {},
     "output_type": "display_data"
    },
    {
     "name": "stdout",
     "output_type": "stream",
     "text": [
      "\n",
      "Splitting (1, 3)\n",
      "(1, 1) - (2, 3)\n",
      "(1, 2) - (3, 3)\n",
      "Concatenating :B and B = {'BB'}\n",
      "Concatenating :A, S and A, C = {'AC', 'AA', 'SA', 'SC'}\n",
      "\n",
      "Splitting (2, 4)\n",
      "(2, 2) - (3, 4)\n",
      "(2, 3) - (4, 4)\n",
      "Concatenating :A, C and C, S = {'AC', 'AS', 'CS', 'CC'}\n",
      "B derives {'CC'}\n",
      "Concatenating :B and B = {'BB'}\n",
      "\n",
      "Splitting (3, 5)\n",
      "(3, 3) - (4, 5)\n",
      "(3, 4) - (5, 5)\n",
      "Concatenating :A, C and A, S = {'CS', 'AS', 'AA', 'CA'}\n",
      "Concatenating :C, S and A, C = {'SA', 'CC', 'CA', 'SC'}\n",
      "B derives {'CC'}\n"
     ]
    },
    {
     "data": {
      "text/html": [
       "<table><thead><tr><td>&nbsp;</td><td>5</td><td>4</td><td>3</td><td>2</td><td>1</td></tr></thead><tbody><tr><td>1</td><td>&nbsp;</td><td>&nbsp;</td><td>$\\phi$</td><td>A, S</td><td>B</td></tr><tr><td>2</td><td>&nbsp;</td><td>B</td><td>B</td><td>A, C</td></tr><tr><td>3</td><td>B</td><td>C, S</td><td>A, C</td></tr><tr><td>4</td><td>A, S</td><td>B</td></tr><tr><td>5</td><td>A, C</td></tr></tbody></table><hr/>"
      ],
      "text/plain": [
       "<IPython.core.display.HTML object>"
      ]
     },
     "metadata": {},
     "output_type": "display_data"
    },
    {
     "data": {
      "text/html": [
       "<h2>Step:- 4</h2>"
      ],
      "text/plain": [
       "<IPython.core.display.HTML object>"
      ]
     },
     "metadata": {},
     "output_type": "display_data"
    },
    {
     "name": "stdout",
     "output_type": "stream",
     "text": [
      "\n",
      "Splitting (1, 4)\n",
      "(1, 1) - (2, 4)\n",
      "(1, 2) - (3, 4)\n",
      "(1, 3) - (4, 4)\n",
      "Concatenating :B and B = {'BB'}\n",
      "Concatenating :A, S and C, S = {'AC', 'AS', 'SC', 'SS'}\n",
      "Concatenating : and B = {'B'}\n",
      "\n",
      "Splitting (2, 5)\n",
      "(2, 2) - (3, 5)\n",
      "(2, 3) - (4, 5)\n",
      "(2, 4) - (5, 5)\n",
      "Concatenating :A, C and B = {'AB', 'CB'}\n",
      "S derives {'AB'}\n",
      "C derives {'AB'}\n",
      "Concatenating :B and A, S = {'BA', 'BS'}\n",
      "A derives {'BA'}\n",
      "Concatenating :B and A, C = {'BA', 'BC'}\n",
      "S derives {'BC'}\n",
      "A derives {'BA'}\n"
     ]
    },
    {
     "data": {
      "text/html": [
       "<table><thead><tr><td>&nbsp;</td><td>5</td><td>4</td><td>3</td><td>2</td><td>1</td></tr></thead><tbody><tr><td>1</td><td>&nbsp;</td><td>$\\phi$</td><td>$\\phi$</td><td>A, S</td><td>B</td></tr><tr><td>2</td><td>A, C, S</td><td>B</td><td>B</td><td>A, C</td></tr><tr><td>3</td><td>B</td><td>C, S</td><td>A, C</td></tr><tr><td>4</td><td>A, S</td><td>B</td></tr><tr><td>5</td><td>A, C</td></tr></tbody></table><hr/>"
      ],
      "text/plain": [
       "<IPython.core.display.HTML object>"
      ]
     },
     "metadata": {},
     "output_type": "display_data"
    },
    {
     "data": {
      "text/html": [
       "<h2>Step:- 5</h2>"
      ],
      "text/plain": [
       "<IPython.core.display.HTML object>"
      ]
     },
     "metadata": {},
     "output_type": "display_data"
    },
    {
     "name": "stdout",
     "output_type": "stream",
     "text": [
      "\n",
      "Splitting (1, 5)\n",
      "(1, 1) - (2, 5)\n",
      "(1, 2) - (3, 5)\n",
      "(1, 3) - (4, 5)\n",
      "(1, 4) - (5, 5)\n",
      "Concatenating :B and A, C, S = {'BA', 'BS', 'BC'}\n",
      "S derives {'BC'}\n",
      "A derives {'BA'}\n",
      "Concatenating :A, S and B = {'AB', 'SB'}\n",
      "S derives {'AB'}\n",
      "C derives {'AB'}\n",
      "Concatenating : and A, S = {'A', 'S'}\n",
      "Concatenating : and A, C = {'A', 'C'}\n"
     ]
    },
    {
     "data": {
      "text/html": [
       "<table><thead><tr><td>&nbsp;</td><td>5</td><td>4</td><td>3</td><td>2</td><td>1</td></tr></thead><tbody><tr><td>1</td><td>A, C, S</td><td>$\\phi$</td><td>$\\phi$</td><td>A, S</td><td>B</td></tr><tr><td>2</td><td>A, C, S</td><td>B</td><td>B</td><td>A, C</td></tr><tr><td>3</td><td>B</td><td>C, S</td><td>A, C</td></tr><tr><td>4</td><td>A, S</td><td>B</td></tr><tr><td>5</td><td>A, C</td></tr></tbody></table><hr/>"
      ],
      "text/plain": [
       "<IPython.core.display.HTML object>"
      ]
     },
     "metadata": {},
     "output_type": "display_data"
    },
    {
     "name": "stdout",
     "output_type": "stream",
     "text": [
      "The word 'baaba' belongs to the grammar.\n"
     ]
    }
   ],
   "source": [
    "parser = Parser(string2)\n",
    "res = parser(grammar2, verbose = True)\n",
    "print(f'''The word '{string2}' {(\"belongs\" if res else \"doesn't belong\")} to the grammar.''')"
   ]
  },
  {
   "cell_type": "markdown",
   "id": "36345198-8a2b-4887-a339-5c5d33be4026",
   "metadata": {},
   "source": [
    "***"
   ]
  }
 ],
 "metadata": {
  "kernelspec": {
   "display_name": "Python kernel developed by Saptarshi Dey",
   "language": "python",
   "name": "python3"
  },
  "language_info": {
   "codemirror_mode": {
    "name": "ipython",
    "version": 3
   },
   "file_extension": ".py",
   "mimetype": "text/x-python",
   "name": "python",
   "nbconvert_exporter": "python",
   "pygments_lexer": "ipython3",
   "version": "3.8.10"
  }
 },
 "nbformat": 4,
 "nbformat_minor": 5
}
