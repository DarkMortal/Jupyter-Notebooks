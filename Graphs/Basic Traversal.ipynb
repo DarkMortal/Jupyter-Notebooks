{
 "cells": [
  {
   "cell_type": "markdown",
   "id": "b55cf561-33ab-4185-a154-0f29c7f8727b",
   "metadata": {},
   "source": [
    "# BFS and DFS traversal\n",
    "## BFS Algorithm\n",
    "### Initialization\n",
    "1. Mark all vertices as **not visited**.\n",
    "2. Create an empty **queue** to keep track of traversal order.\n",
    "### Starting the Traversal\n",
    "3. Mark the **start vertex** as visited.\n",
    "4. Show (or process) the start vertex.\n",
    "5. Append the **start vertex** to the traversal queue.\n",
    "### Loop Until Queue Is Empty\n",
    "6. While the traversal queue is not empty:\n",
    "    - Remove the vertex from the **front** of the queue and consider it the current vertex.\n",
    "    - For each vertex in the graph:\n",
    "        - If there is an **edge** between the current vertex and this vertex, and it has **not been visited**:\n",
    "            - Mark this vertex as visited.\n",
    "            - Show (or process) this vertex.\n",
    "            - Append this vertex to the **end** of the queue.\n",
    "### Completion\n",
    "- After traversal, optionally **reset visited status** for all vertices.\n",
    "***\n",
    "## DFS Algorithm\n",
    "### Initialization\n",
    "1. Begin with a **start vertex** for traversal.\n",
    "2. Initialize a **visited stack/list** to track which vertices have been visited.\n",
    "### Recursive Traversal Function\n",
    "3. Define a recursive function `traverse(currentVertex)`:\n",
    "    - If the current vertex is already marked as visited in the visited stack, return to avoid revisiting.\n",
    "    - Otherwise, display or process the current vertex (e.g., using the `showVertex` method).\n",
    "    - Mark the current vertex as visited.\n",
    "### Exploring Neighbors\n",
    "4. For each vertex in the graph:\n",
    "    - a. Check if there is an edge from the current vertex to this neighbor (`edge > 0`).\n",
    "    - b. If the neighbor vertex is not visited, recursively call `traverse(vertex)` on this neighbor.\n",
    "### Start Traversal\n",
    "5. Call the `traverse` function starting at the start vertex.\n",
    "### Post-Traversal Cleanup\n",
    "6. After the traversal, reset the visited stack values to `False` for all vertices, preparing for future DFS runs.\n",
    "***\n",
    "## Initializing the graph"
   ]
  },
  {
   "cell_type": "code",
   "execution_count": 1,
   "id": "3e496644-28f5-45f9-898d-c41a9160a028",
   "metadata": {},
   "outputs": [],
   "source": [
    "graph = [\n",
    "    [0,1,0,0,0,1,0,0,0],\n",
    "    [1,0,1,1,0,0,0,0,0],\n",
    "    [0,0,0,0,0,0,0,0,0],\n",
    "    [0,1,0,0,1,0,0,0,0],\n",
    "    [0,0,0,1,0,0,0,1,0],\n",
    "    [1,0,0,0,0,0,1,0,1],\n",
    "    [0,0,0,0,0,1,0,1,0],\n",
    "    [0,0,0,0,1,0,1,0,0],\n",
    "    [0,0,0,0,0,0,0,0,0],\n",
    "]"
   ]
  },
  {
   "cell_type": "markdown",
   "id": "c780d868-51e5-4800-a3e3-7d0ddcbdf9b8",
   "metadata": {},
   "source": [
    "## Visualizing the graph"
   ]
  },
  {
   "cell_type": "code",
   "execution_count": 2,
   "id": "b58ea7f0-8c56-4d15-ac70-2b6445abc1ea",
   "metadata": {},
   "outputs": [],
   "source": [
    "import networkx as nx \n",
    "import matplotlib.pyplot as plt\n",
    "\n",
    "# Defining a Class \n",
    "class GraphVisualization: \n",
    "\n",
    "    def __init__(self, weighted, edge_list = [], adjacency_matrix = [], isDirected = False, useAlphabets = False): \n",
    "        self.weighted = weighted\n",
    "        self.G = (nx.DiGraph() if isDirected else nx.Graph())\n",
    "        \n",
    "        if len(edge_list) > 0:\n",
    "            for i in edge_list:\n",
    "                self.G.add_edge(i[0], i[1], weight = i[2])\n",
    "        \n",
    "        elif len(adjacency_matrix) > 0:\n",
    "            for i in range(len(adjacency_matrix)):\n",
    "                for j in range(len(adjacency_matrix[i])):\n",
    "                    if adjacency_matrix[i][j] <= 0: continue\n",
    "                    if useAlphabets:\n",
    "                        self.G.add_edge(chr(i+97), chr(j+97), weight = adjacency_matrix[i][j])\n",
    "                    else: self.G.add_edge(i + 1, j + 1, weight = adjacency_matrix[i][j])\n",
    "        \n",
    "        elif len(edge_list) == 0 and len(adjancency_matrix) == 0:\n",
    "            raise Exception(\"I expect atleast an edge-list or an adjancency matrix\")\n",
    "    \n",
    "    # In visualize function G is an object of \n",
    "    # class Graph given by networkx G.add_edges_from(visual) \n",
    "    # creates a graph with a given list \n",
    "    # nx.draw_networkx(G) - plots the graph \n",
    "    # plt.show() - displays the graph \n",
    "    def visualize(self):\n",
    "        pos = nx.spring_layout(self.G, scale = 5000)\n",
    "\n",
    "        # Manually scale up the positions for more spacing\n",
    "        for key in pos:\n",
    "            pos[key] *= 10000\n",
    "        nx.draw_networkx(self.G, pos, node_size=700, node_color='#00ccff', font_size=10)\n",
    "\n",
    "        if self.weighted:\n",
    "            # Draw edge labels for weights\n",
    "            labels = nx.get_edge_attributes(self.G, 'weight')\n",
    "            nx.draw_networkx_edge_labels(self.G, pos, edge_labels=labels)\n",
    "        plt.show()"
   ]
  },
  {
   "cell_type": "code",
   "execution_count": 3,
   "id": "d95caf36-a2e6-4666-a5ca-6962b41a4bb9",
   "metadata": {},
   "outputs": [
    {
     "data": {
      "image/png": "[encoded data removed]",
      "text/plain": [
       "<Figure size 640x480 with 1 Axes>"
      ]
     },
     "metadata": {},
     "output_type": "display_data"
    }
   ],
   "source": [
    "G = GraphVisualization(weighted = False, isDirected = False, adjacency_matrix = graph, useAlphabets = False)\n",
    "G.visualize()"
   ]
  },
  {
   "cell_type": "markdown",
   "id": "9e193dc2-8574-44a7-8e6b-d6da5e1111a1",
   "metadata": {},
   "source": [
    "***\n",
    "## Implementing BFS and DFS"
   ]
  },
  {
   "cell_type": "code",
   "execution_count": 4,
   "id": "900ce4fe-ad40-4df1-ace4-7eacdb99383a",
   "metadata": {},
   "outputs": [],
   "source": [
    "from typing import List\n",
    "\n",
    "class Traversal:\n",
    "    def __init__(self, graph_:List[List[int]]):\n",
    "        self.graph = graph_  # assuming the reference is never going to change, we do a shallow copy\n",
    "        self.visitedStack = [False for i in graph_]\n",
    "        self.traversalQueue = []\n",
    "        self.showVertex = lambda vertex: print(vertex + 1, end = \" \")\n",
    "\n",
    "    def BFS(self, startVertex = 0):\n",
    "        self.showVertex(startVertex)\n",
    "        self.traversalQueue.append(startVertex)\n",
    "        self.visitedStack[startVertex] = True\n",
    "        while len(self.traversalQueue) > 0:\n",
    "            vertex = self.traversalQueue[0]\n",
    "            for i in range(len(self.visitedStack)):\n",
    "                edge = self.graph[vertex][i]\n",
    "                if edge > 0 and not self.visitedStack[i]:\n",
    "                    self.showVertex(i)\n",
    "                    self.visitedStack[i] = True\n",
    "                    self.traversalQueue.append(i)\n",
    "            self.traversalQueue.pop(0)\n",
    "\n",
    "        # re-setting the visited stack\n",
    "        self.visitedStack = [False for i in self.visitedStack]\n",
    "\n",
    "    def DFS(self, startVertex = 0):\n",
    "        def traverse(currentVertex = startVertex):\n",
    "            if self.visitedStack[currentVertex]:\n",
    "                return\n",
    "            self.showVertex(currentVertex)\n",
    "            self.visitedStack[currentVertex] = True\n",
    "            for vertex in range(len(self.visitedStack)):\n",
    "                edge = self.graph[currentVertex][vertex]\n",
    "                if edge > 0 and not self.visitedStack[vertex]:\n",
    "                    traverse(vertex)\n",
    "        traverse()\n",
    "        # re-setting the visited stack\n",
    "        self.visitedStack = [False for i in self.visitedStack]     "
   ]
  },
  {
   "cell_type": "markdown",
   "id": "46f4e420-ac05-4d20-b421-3b13e1330e5d",
   "metadata": {},
   "source": [
    "## Driver code"
   ]
  },
  {
   "cell_type": "code",
   "execution_count": 5,
   "id": "8e7b1e19-ba2a-439a-8bba-cba33f91bc97",
   "metadata": {},
   "outputs": [
    {
     "name": "stdout",
     "output_type": "stream",
     "text": [
      "BFS Traversal:\n",
      "1 2 6 3 4 7 9 5 8 \n",
      "DFS Traversal:\n",
      "1 2 3 4 5 8 7 6 9 "
     ]
    }
   ],
   "source": [
    "t = Traversal(graph)\n",
    "print(\"BFS Traversal:\"); t.BFS()\n",
    "print(\"\\nDFS Traversal:\"); t.DFS()"
   ]
  },
  {
   "cell_type": "markdown",
   "id": "d7e5d81c-3b79-4948-a9fa-0610215cd64f",
   "metadata": {},
   "source": [
    "***"
   ]
  }
 ],
 "metadata": {
  "kernelspec": {
   "display_name": "Python kernel developed by Saptarshi Dey",
   "language": "python",
   "name": "python3"
  },
  "language_info": {
   "codemirror_mode": {
    "name": "ipython",
    "version": 3
   },
   "file_extension": ".py",
   "mimetype": "text/x-python",
   "name": "python",
   "nbconvert_exporter": "python",
   "pygments_lexer": "ipython3",
   "version": "3.8.10"
  }
 },
 "nbformat": 4,
 "nbformat_minor": 5
}
