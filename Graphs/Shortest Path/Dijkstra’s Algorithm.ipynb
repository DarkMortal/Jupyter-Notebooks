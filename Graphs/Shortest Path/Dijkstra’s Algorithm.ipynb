{
 "cells": [
  {
   "cell_type": "markdown",
   "id": "d37f098a-f69a-462b-8e09-5a3196b31e5f",
   "metadata": {},
   "source": [
    "# Dijkstra's Algorithm\n",
    "## Algorithm\n",
    "### Initialization\n",
    "1. **Set up the graph** and initialize a list called **visitedStack** to store the shortest known distances to each node, setting all to a very large number (effectively infinity), except the start vertex which is set to 0.\n",
    "2. **Initialize a traversal queue** as empty.\n",
    "3. **Add the start vertex** to the traversal queue with distance 0.\n",
    "### Main Loop\n",
    "4. While the traversal queue is not empty:\n",
    "    - Remove the first element from the queue to get the current vertex and its distance.\n",
    "    - For each neighbor of the current vertex:\n",
    "        - Get the edge weight between current vertex and neighbor.\n",
    "        - Calculate the total distance from the start vertex to the neighbor using this edge.\n",
    "        - If the edge exists (weight > 0) and the new total distance is less than the previously recorded distance for the neighbor in **visitedStack**:\n",
    "            - Update the neighbor’s entry in **visitedStack** with the new distance.\n",
    "            - Add the neighbor and its new distance to the end of the traversal queue.\n",
    "### Termination\n",
    "- 5. When the queue is empty, return **visitedStack**, which now holds the shortest distance from the start vertex to all other vertices.\n",
    "***\n",
    "**Note:** Dijkstra's algorithm doesn't work for directed graphs, i.e, graphs with negative edges because it relies on the assumption that once a node is visited with the current shortest path estimate, its shortest distance cannot be reduced any further. This assumption fails in graphs with negative edges.\n",
    "## Why Dijkstra’s Fails with Negative Edges?\n",
    "### Greedy Nature and Incorrect Finalization\n",
    "- Dijkstra’s algorithm selects nodes in order of increasing distance from the source, finalizing each node as its shortest distance when it is first processed.\n",
    "- If a shorter path with a negative edge exists via an unvisited node, Dijkstra's algorithm will not revisit the already processed node to update its distance.\n",
    "- This can lead to incorrect shortest paths, as a path using negative edges can offer a net reduction in the total path cost after the node is **finalized**.\n",
    "***\n",
    "## Initializing the graph"
   ]
  },
  {
   "cell_type": "code",
   "execution_count": 1,
   "id": "2880328e-ede3-4090-9a4a-0c1dd01dd57f",
   "metadata": {},
   "outputs": [],
   "source": [
    "graph = [\n",
    "    (0, 1, 4),\n",
    "    (1, 2, 2),\n",
    "    (0, 2, 4),\n",
    "    (2, 3, 3),\n",
    "    (2, 4, 1),\n",
    "    (3, 5, 2),\n",
    "    (4, 5, 3),\n",
    "    (2, 5, 6)\n",
    "]"
   ]
  },
  {
   "cell_type": "markdown",
   "id": "4b013087-f194-4e43-9455-5d86da36f8fb",
   "metadata": {},
   "source": [
    "## Function to convert edge-list to adjancency-matrix"
   ]
  },
  {
   "cell_type": "code",
   "execution_count": 2,
   "id": "ff3d823b-c0ec-4906-b3b2-3ec8f189cdd7",
   "metadata": {},
   "outputs": [],
   "source": [
    "def edge_list_to_adjacency_matrix(edge_list, directed=False):\n",
    "    # get number of vertices\n",
    "    s = set()\n",
    "    for i in edge_list:\n",
    "        s.add(i[0]); s.add(i[1])\n",
    "    num_vertices = len(s)\n",
    "    s = list(s)\n",
    "    # Initialize an n x n matrix with all 0's\n",
    "    adj_matrix = [[0 for _ in range(num_vertices)] for _ in range(num_vertices)]\n",
    "    \n",
    "    # Iterate through each edge in the edge list\n",
    "    for edge in edge_list:\n",
    "        u, v = edge[:2]  # Get the vertices of the edge\n",
    "        adj_matrix[s.index(u)][s.index(v)] = edge[2]  # Mark edge u -> v with 1 (or edge weight if any)\n",
    "        \n",
    "        if not directed:\n",
    "            adj_matrix[s.index(v)][s.index(u)] = edge[2]  # For undirected graphs, also mark edge v -> u\n",
    "        else: adj_matrix[s.index(v)][s.index(u)] = -edge[2]\n",
    "    \n",
    "    return adj_matrix"
   ]
  },
  {
   "cell_type": "markdown",
   "id": "f9240169-df27-40a0-ac40-17b33ea842b1",
   "metadata": {},
   "source": [
    "## Visualizing the graph"
   ]
  },
  {
   "cell_type": "code",
   "execution_count": 3,
   "id": "a50815e1-a45c-4514-8d65-a8a9648474ce",
   "metadata": {},
   "outputs": [],
   "source": [
    "import networkx as nx\n",
    "import matplotlib.pyplot as plt\n",
    "\n",
    "# Defining a Class \n",
    "class GraphVisualization: \n",
    "\n",
    "    def __init__(self, weighted, edge_list = [], adjacency_matrix = [], isDirected = False, useAlphabets = False): \n",
    "        self.weighted = weighted\n",
    "        self.G = (nx.DiGraph() if isDirected else nx.Graph())\n",
    "        \n",
    "        if len(edge_list) > 0:\n",
    "            for i in edge_list:\n",
    "                self.G.add_edge(i[0], i[1], weight = i[2])\n",
    "        \n",
    "        elif len(adjacency_matrix) > 0:\n",
    "            for i in range(len(adjacency_matrix)):\n",
    "                for j in range(len(adjacency_matrix[i])):\n",
    "                    if adjacency_matrix[i][j] <= 0: continue\n",
    "                    if useAlphabets:\n",
    "                        self.G.add_edge(chr(i+97), chr(j+97), weight = adjacency_matrix[i][j])\n",
    "                    else: self.G.add_edge(i, j, weight = adjacency_matrix[i][j])\n",
    "        \n",
    "        elif len(edge_list) == 0 and len(adjancency_matrix) == 0:\n",
    "            raise Exception(\"I expect atleast an edge-list or an adjancency matrix\")\n",
    "    \n",
    "    # In visualize function G is an object of \n",
    "    # class Graph given by networkx G.add_edges_from(visual) \n",
    "    # creates a graph with a given list \n",
    "    # nx.draw_networkx(G) - plots the graph \n",
    "    # plt.show() - displays the graph \n",
    "    def visualize(self):\n",
    "        pos = nx.spring_layout(self.G, scale = 5000)\n",
    "\n",
    "        # Manually scale up the positions for more spacing\n",
    "        for key in pos:\n",
    "            pos[key] *= 10000\n",
    "        nx.draw_networkx(self.G, pos, node_size=700, node_color='#00ccff', font_size=10)\n",
    "\n",
    "        if self.weighted:\n",
    "            # Draw edge labels for weights\n",
    "            labels = nx.get_edge_attributes(self.G, 'weight')\n",
    "            nx.draw_networkx_edge_labels(self.G, pos, edge_labels=labels)\n",
    "        plt.show()"
   ]
  },
  {
   "cell_type": "code",
   "execution_count": 4,
   "id": "79db6434-9983-4b8a-980a-e6d49e2a4fd2",
   "metadata": {},
   "outputs": [
    {
     "data": {
      "image/png": "[encoded data removed]",
      "text/plain": [
       "<Figure size 640x480 with 1 Axes>"
      ]
     },
     "metadata": {},
     "output_type": "display_data"
    }
   ],
   "source": [
    "adjancency_matrix_ = edge_list_to_adjacency_matrix(graph)\n",
    "G = GraphVisualization(weighted = True, isDirected = False, adjacency_matrix = adjancency_matrix_, useAlphabets = False)\n",
    "G.visualize()"
   ]
  },
  {
   "cell_type": "markdown",
   "id": "f74f291e-b536-4cd6-9fa1-26deed172e9e",
   "metadata": {},
   "source": [
    "***\n",
    "## Implementing Dijkstra's Algorithm\n",
    "In this example, we're using priority queue to store the order of traversal, however, we can also use set for the same."
   ]
  },
  {
   "cell_type": "code",
   "execution_count": 5,
   "id": "46aafdef-c208-49cf-92a2-fd4686aacc12",
   "metadata": {},
   "outputs": [],
   "source": [
    "import heapq\n",
    "from typing import List\n",
    "\n",
    "VERY_LARGE_NUMBER = 10 ** 6\n",
    "\n",
    "class Traversal:\n",
    "    def __init__(self, graph_:List[List[int]]):\n",
    "        self.graph = graph_  # assuming the reference is never going to change, we do a shallow copy\n",
    "        self.visitedStack = [VERY_LARGE_NUMBER for i in graph_]\n",
    "        self.traversalQueue = []\n",
    "\n",
    "    def BFS(self, startVertex = 0):\n",
    "        self.traversalQueue.append((0, startVertex))\n",
    "        self.visitedStack[startVertex] = 0\n",
    "        while len(self.traversalQueue) > 0:\n",
    "            dist, vertex = heapq.heappop(self.traversalQueue)\n",
    "            for i in range(len(self.visitedStack)):\n",
    "                edge = self.graph[vertex][i]\n",
    "                totalDist = edge + dist\n",
    "                if edge > 0 and totalDist < self.visitedStack[i]:\n",
    "                    self.visitedStack[i] = totalDist\n",
    "                    heapq.heappush(self.traversalQueue,(totalDist, i))\n",
    "        \n",
    "        return self.visitedStack"
   ]
  },
  {
   "cell_type": "markdown",
   "id": "1941ff0c-2415-4cb3-bba8-2f50389abfd3",
   "metadata": {},
   "source": [
    "## Driver code"
   ]
  },
  {
   "cell_type": "code",
   "execution_count": 6,
   "id": "56a8199b-689e-479f-bce5-83f8e3de89e5",
   "metadata": {},
   "outputs": [
    {
     "name": "stdout",
     "output_type": "stream",
     "text": [
      "Minimum distance between 0 and 0 = 0\n",
      "Minimum distance between 0 and 1 = 4\n",
      "Minimum distance between 0 and 2 = 4\n",
      "Minimum distance between 0 and 3 = 7\n",
      "Minimum distance between 0 and 4 = 5\n",
      "Minimum distance between 0 and 5 = 8\n"
     ]
    }
   ],
   "source": [
    "sourceVertex = 0\n",
    "adjancency_matrix_ = edge_list_to_adjacency_matrix(graph)\n",
    "t = Traversal(adjancency_matrix_)\n",
    "distanceVector = t.BFS(sourceVertex)\n",
    "\n",
    "for i in range(len(distanceVector)):\n",
    "    print(f\"Minimum distance between {sourceVertex} and {i} = {distanceVector[i]}\")"
   ]
  },
  {
   "cell_type": "markdown",
   "id": "dd5bb43e-9891-4d25-8183-af585b480509",
   "metadata": {},
   "source": [
    "***"
   ]
  }
 ],
 "metadata": {
  "kernelspec": {
   "display_name": "Python kernel developed by Saptarshi Dey",
   "language": "python",
   "name": "python3"
  },
  "language_info": {
   "codemirror_mode": {
    "name": "ipython",
    "version": 3
   },
   "file_extension": ".py",
   "mimetype": "text/x-python",
   "name": "python",
   "nbconvert_exporter": "python",
   "pygments_lexer": "ipython3",
   "version": "3.8.10"
  }
 },
 "nbformat": 4,
 "nbformat_minor": 5
}
