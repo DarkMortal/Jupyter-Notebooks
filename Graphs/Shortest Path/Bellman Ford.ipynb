{
 "cells": [
  {
   "cell_type": "markdown",
   "id": "6c90c349-0a58-4010-9c03-61636246f2be",
   "metadata": {},
   "source": [
    "# Bellman Ford Algorithm\n",
    "## 1. **Initialization**\n",
    "- Set a very large value constant (e.g., $10^6$) to represent infinity.\n",
    "- Create a vector `distanceVector` for all vertices:\n",
    "    - If the vertex index equals the source node, set distance to 0.\n",
    "    - Otherwise, set distance to infinity.\n",
    "## 2. **Relaxation Loop**\n",
    "- Repeat the following steps $(|V|-1)$ times, where $|V|$ is the number of vertices:\n",
    "    - For each edge $(u, v, \\text{weight})$ in the graph:\n",
    "        - If the distance to node $u$ is infinity, skip this edge.\n",
    "        - Otherwise, calculate: $\\text{cost} = \\text{distanceVector}[u] + \\text{weight}$\n",
    "        - If $\\text{cost} < \\text{distanceVector}[v]$, update $\\text{distanceVector}[v]$ to cost.\n",
    "## 3. **Result**\n",
    "- After all relaxations, `distanceVector` contains the shortest distances from the source node to each vertex.\n",
    "- Return `distanceVector`.\n",
    "## Key Notes\n",
    "- **Vertices Extraction:** The algorithm first gathers all vertices from the edges in the graph using the `getVertices()` method.\n",
    "- **Edge Format:** Each edge in the graph is considered as a tuple $(u, v, \\text{weight})$.\n",
    "- **No Negative Cycle Detection:** The provided algorithm does not include a final check for negative cycles, which is standard in Bellman-Ford but omitted in this implementation.\n",
    "### What is a negative cycle?\n",
    "A negative cycle is a cycle in a graph where the sum of the edge weights is less than zero, meaning traversing the cycle decreases the total path cost.\n",
    "### How to check for negative cycles?\n",
    "If the `distanceVector` gets updated even after $(|V|-1)$ iterations, it is safe to say that the graph contains negative cycle(s).\n",
    "***\n",
    "## Initializing the graph"
   ]
  },
  {
   "cell_type": "code",
   "execution_count": 1,
   "id": "ab68da30-6f8a-4ba9-9e17-0c448862d520",
   "metadata": {},
   "outputs": [],
   "source": [
    "graph = [\n",
    "    (3, 2, 6),\n",
    "    (5, 3, 1),\n",
    "    (0, 1, 5),\n",
    "    (1, 5, -3),\n",
    "    (1, 2, -2),\n",
    "    (3, 4, -2),\n",
    "    (2, 4, 3)\n",
    "]"
   ]
  },
  {
   "cell_type": "markdown",
   "id": "8dffdede-8d16-482e-86a8-e4b72023af29",
   "metadata": {},
   "source": [
    "## Visualizing the graph"
   ]
  },
  {
   "cell_type": "code",
   "execution_count": 2,
   "id": "9fab156e-d990-48af-a3a3-90707535560e",
   "metadata": {},
   "outputs": [],
   "source": [
    "import networkx as nx\n",
    "import matplotlib.pyplot as plt\n",
    "\n",
    "# Defining a Class \n",
    "class GraphVisualization: \n",
    "\n",
    "    def __init__(self, weighted, edge_list = [], adjacency_matrix = [], isDirected = False, useAlphabets = False): \n",
    "        self.weighted = weighted\n",
    "        self.G = (nx.DiGraph() if isDirected else nx.Graph())\n",
    "        \n",
    "        if len(edge_list) > 0:\n",
    "            for i in edge_list:\n",
    "                self.G.add_edge(i[0], i[1], weight = i[2])\n",
    "        \n",
    "        elif len(adjacency_matrix) > 0:\n",
    "            for i in range(len(adjacency_matrix)):\n",
    "                for j in range(len(adjacency_matrix[i])):\n",
    "                    if adjacency_matrix[i][j] <= 0: continue\n",
    "                    if useAlphabets:\n",
    "                        self.G.add_edge(chr(i+97), chr(j+97), weight = adjacency_matrix[i][j])\n",
    "                    else: self.G.add_edge(i, j, weight = adjacency_matrix[i][j])\n",
    "        \n",
    "        elif len(edge_list) == 0 and len(adjancency_matrix) == 0:\n",
    "            raise Exception(\"I expect atleast an edge-list or an adjancency matrix\")\n",
    "    \n",
    "    # In visualize function G is an object of \n",
    "    # class Graph given by networkx G.add_edges_from(visual) \n",
    "    # creates a graph with a given list \n",
    "    # nx.draw_networkx(G) - plots the graph \n",
    "    # plt.show() - displays the graph \n",
    "    def visualize(self):\n",
    "        pos = nx.spring_layout(self.G, scale = 5000, k = 100) # k = optimal distance\n",
    "\n",
    "        # Manually scale up the positions for more spacing\n",
    "        for key in pos:\n",
    "            pos[key] *= 10 ** 4\n",
    "        nx.draw_networkx(self.G, pos, node_size=700, node_color='#00ccff', font_size=10)\n",
    "\n",
    "        if self.weighted:\n",
    "            # Draw edge labels for weights\n",
    "            labels = nx.get_edge_attributes(self.G, 'weight')\n",
    "            nx.draw_networkx_edge_labels(self.G, pos, edge_labels=labels)\n",
    "        plt.show()"
   ]
  },
  {
   "cell_type": "code",
   "execution_count": 3,
   "id": "ff6a8254-c5e4-4e73-a2ac-4e255572e49c",
   "metadata": {},
   "outputs": [
    {
     "data": {
      "image/png": "[encoded data removed]",
      "text/plain": [
       "<Figure size 640x480 with 1 Axes>"
      ]
     },
     "metadata": {},
     "output_type": "display_data"
    }
   ],
   "source": [
    "G = GraphVisualization(weighted = True, isDirected = True, edge_list = graph, useAlphabets = False)\n",
    "G.visualize()"
   ]
  },
  {
   "cell_type": "markdown",
   "id": "ea4f4897-4750-46f2-9f55-a1a96a6d54f7",
   "metadata": {},
   "source": [
    "**Note:** $U \\xrightarrow{-5} V$ is not the same as $V \\xrightarrow{5} U$.\n",
    "***\n",
    "## Implementing the algorithm"
   ]
  },
  {
   "cell_type": "code",
   "execution_count": 4,
   "id": "a6207ae8-9af3-46bd-b6ab-bd7e957bda57",
   "metadata": {},
   "outputs": [],
   "source": [
    "from typing import List, Tuple\n",
    "\n",
    "class Solution:\n",
    "    def __init__(self, graph_:List[Tuple[int]]):\n",
    "        self.graph = graph_\n",
    "        self.vertices = self.getVertices()\n",
    "    \n",
    "    def getVertices(self):\n",
    "        vertices = set()\n",
    "        for edge in self.graph:\n",
    "            u, v, weight = edge\n",
    "            vertices.add(u)\n",
    "            vertices.add(v)\n",
    "        return vertices\n",
    "\n",
    "    def bellmanFord(self, sourceNode_ = 0):\n",
    "        VERY_LARGE_VALUE = 10 ** 6\n",
    "        \n",
    "        distanceVector = [0 if i == sourceNode_ else VERY_LARGE_VALUE for i in self.vertices]\n",
    "        for i in range(len(self.vertices) - 1):\n",
    "            for edge in self.graph:\n",
    "                u, v, weight = edge\n",
    "                if distanceVector[u] == VERY_LARGE_VALUE: # node not yet visited\n",
    "                    continue\n",
    "                cost = distanceVector[u] + weight\n",
    "                if cost < distanceVector[v]:\n",
    "                    distanceVector[v] = cost\n",
    "        return distanceVector"
   ]
  },
  {
   "cell_type": "markdown",
   "id": "292f6e71-4799-4610-979c-78c98be00ad6",
   "metadata": {},
   "source": [
    "## Driver code"
   ]
  },
  {
   "cell_type": "code",
   "execution_count": 5,
   "id": "37f8699d-072b-4575-93ea-c15b5cecee6a",
   "metadata": {},
   "outputs": [
    {
     "name": "stdout",
     "output_type": "stream",
     "text": [
      "Minimum distance between 0 and 0 is 0\n",
      "Minimum distance between 0 and 1 is 5\n",
      "Minimum distance between 0 and 2 is 3\n",
      "Minimum distance between 0 and 3 is 3\n",
      "Minimum distance between 0 and 4 is 1\n",
      "Minimum distance between 0 and 5 is 2\n"
     ]
    }
   ],
   "source": [
    "sourceNode = 0\n",
    "b = Solution(graph)\n",
    "result = b.bellmanFord(sourceNode)\n",
    "\n",
    "for i in range(len(result)):\n",
    "    print(f\"Minimum distance between {sourceNode} and {i} is {result[i]}\")"
   ]
  },
  {
   "cell_type": "markdown",
   "id": "fd20a1cc-0410-4458-a3e8-356a8f107f24",
   "metadata": {},
   "source": [
    "***"
   ]
  }
 ],
 "metadata": {
  "kernelspec": {
   "display_name": "Python kernel developed by Saptarshi Dey",
   "language": "python",
   "name": "python3"
  },
  "language_info": {
   "codemirror_mode": {
    "name": "ipython",
    "version": 3
   },
   "file_extension": ".py",
   "mimetype": "text/x-python",
   "name": "python",
   "nbconvert_exporter": "python",
   "pygments_lexer": "ipython3",
   "version": "3.8.10"
  }
 },
 "nbformat": 4,
 "nbformat_minor": 5
}
