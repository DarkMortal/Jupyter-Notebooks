{
 "cells": [
  {
   "cell_type": "markdown",
   "id": "4328de3f-9686-4414-9091-7f8ce832249b",
   "metadata": {},
   "source": [
    "# Tarjan's algorithm for Strongly connected components in a graph\n",
    "## Defining the graph"
   ]
  },
  {
   "cell_type": "code",
   "execution_count": 1,
   "id": "5614292a-b4a1-411e-b607-20e9f5fc677a",
   "metadata": {},
   "outputs": [
    {
     "data": {
      "text/plain": [
       "[[0, 1, 0, 0, 0, 0, -1],\n",
       " [-1, 0, 1, 0, 1, 0, 1],\n",
       " [0, -1, 0, 1, 0, 0, -1],\n",
       " [0, 0, 1, 0, 1, 1, 0],\n",
       " [0, -1, 0, -1, 0, 1, 0],\n",
       " [0, 0, 0, -1, 1, 0, 0],\n",
       " [1, -1, 1, 0, 0, 0, 0]]"
      ]
     },
     "execution_count": 1,
     "metadata": {},
     "output_type": "execute_result"
    }
   ],
   "source": [
    "edges = [\n",
    "    (0, 1),\n",
    "    (1, 2),\n",
    "    (1, 4),\n",
    "    (1, 6),\n",
    "    (2, 3),\n",
    "    (3, 2),\n",
    "    (3, 4),\n",
    "    (3, 5),\n",
    "    (4, 5),\n",
    "    (5, 4),\n",
    "    (6, 2),\n",
    "    (6, 0)\n",
    "]\n",
    "\n",
    "incidence_matrix = [[0 for i in range(7)] for j in range(7)]\n",
    "\n",
    "for u, v in edges:\n",
    "    incidence_matrix[u][v] = 1\n",
    "    if incidence_matrix[v][u] == 0:\n",
    "        incidence_matrix[v][u] = -1\n",
    "\n",
    "incidence_matrix"
   ]
  },
  {
   "cell_type": "markdown",
   "id": "27a78392-a204-4e56-a7c2-24a9168ab8d8",
   "metadata": {},
   "source": [
    "## Class for Graph Visualization"
   ]
  },
  {
   "cell_type": "code",
   "execution_count": 2,
   "id": "2c0e1c07-3648-4f76-a5fb-591dfc961c3d",
   "metadata": {},
   "outputs": [],
   "source": [
    "import networkx as nx \n",
    "import matplotlib.pyplot as plt \n",
    "\n",
    "# Defining a Class \n",
    "class GraphVisualization: \n",
    "\n",
    "    def __init__(self, weighted, edge_list = [], adjancency_matrix = [], isDirected = False): \n",
    "        self.weighted = weighted\n",
    "        self.G = (nx.DiGraph() if isDirected else nx.Graph())\n",
    "        \n",
    "        if len(edge_list) > 0:\n",
    "            for i in edge_list:\n",
    "                self.G.add_edge(i[0], i[1], weight = i[2])\n",
    "        \n",
    "        elif len(adjancency_matrix) > 0:\n",
    "            for i in range(len(adjancency_matrix)):\n",
    "                for j in range(len(adjancency_matrix[i])):\n",
    "                    if adjancency_matrix[i][j] <= 0: continue\n",
    "                    self.G.add_edge(i, j, weight = adjancency_matrix[i][j])\n",
    "        \n",
    "        elif len(edge_list) == 0 and len(adjancency_matrix) == 0:\n",
    "            raise Exception(\"I expect atleast an edge-list or an adjancency matrix\")\n",
    "    \n",
    "    # In visualize function G is an object of \n",
    "    # class Graph given by networkx G.add_edges_from(visual) \n",
    "    # creates a graph with a given list \n",
    "    # nx.draw_networkx(G) - plots the graph \n",
    "    # plt.show() - displays the graph \n",
    "    def visualize(self):\n",
    "        pos = nx.spring_layout(self.G, scale = 5000)\n",
    "\n",
    "        # Manually scale up the positions for more spacing\n",
    "        for key in pos:\n",
    "            pos[key] *= 10000\n",
    "        nx.draw_networkx(self.G, pos, node_size=700, node_color='#00ccff', font_size=10)\n",
    "\n",
    "        if self.weighted:\n",
    "            # Draw edge labels for weights\n",
    "            labels = nx.get_edge_attributes(self.G, 'weight')\n",
    "            nx.draw_networkx_edge_labels(self.G, pos, edge_labels=labels)\n",
    "        plt.show()"
   ]
  },
  {
   "cell_type": "markdown",
   "id": "530ed5cd-d0ca-4eee-b0fa-261114fab1f3",
   "metadata": {},
   "source": [
    "## Visualizing the graph"
   ]
  },
  {
   "cell_type": "code",
   "execution_count": 3,
   "id": "28e5ca68-5ded-43ed-b1b7-891d50baf5ad",
   "metadata": {},
   "outputs": [
    {
     "data": {
      "image/png": "[encoded data removed]",
      "text/plain": [
       "<Figure size 640x480 with 1 Axes>"
      ]
     },
     "metadata": {},
     "output_type": "display_data"
    }
   ],
   "source": [
    "G1 = GraphVisualization(weighted = False, adjancency_matrix = incidence_matrix, isDirected = True)\n",
    "G1.visualize()"
   ]
  },
  {
   "cell_type": "markdown",
   "id": "c4859030-97ed-49cc-910a-707d32837f24",
   "metadata": {},
   "source": [
    "## Algorithm\n",
    "**1. Initialization**\n",
    "\n",
    "- Set a global `index` counter to 0.\n",
    "- For each vertex, create:\n",
    "    - `index_map`: stores the discovery index for each vertex (initialized as \"unvisited\").\n",
    "    - `low_link`: stores the lowest discovery index reachable from the vertex (including itself).\n",
    "    - `on_stack`: a boolean array to track if a vertex is currently on the stack.\n",
    "- Prepare an empty stack to keep track of the current path in DFS.\n",
    "- Prepare a list to store the resulting SCCs.\n",
    "\n",
    "**2. Main Loop**\n",
    "\n",
    "- For each vertex in the graph:\n",
    "    - If the vertex has not been visited (`index_map` not set), start a DFS from that vertex.\n",
    "\n",
    "**3. DFS Procedure (`strong_connect(vertex)`)**\n",
    "\n",
    "- Assign the current `index` to `vertex` in both `index_map` and `low_link`.\n",
    "- Increment the global `index` counter.\n",
    "- Push `vertex` onto the stack and mark it as `on_stack`.\n",
    "- For each neighbor of `vertex`:\n",
    "    - If the neighbor is unvisited, recursively perform DFS on it.\n",
    "        - After returning, update `low_link[vertex]` to the minimum of its current value and `low_link[neighbor]`.\n",
    "    - If the neighbor is on the stack (part of the current DFS path), update `low_link[vertex]` to the minimum of its current value and `index_map[neighbor]`.\n",
    "\n",
    "**4. Identify and Extract SCC**\n",
    "- After processing all neighbors, if `low_link[vertex] == index_map[vertex]`, then `vertex` is the root of an SCC.\n",
    "    - Pop vertices from the stack until `vertex` is popped.\n",
    "    - All popped vertices form one SCC. Mark each as not `on_stack` and add the SCC to the result list.\n",
    "\n",
    "**5. Repeat**\n",
    "***\n",
    "## **Key Data Structures**\n",
    "\n",
    "- `index_map`: Discovery time for each vertex.\n",
    "- `low_link`: Lowest discovery time reachable from each vertex.\n",
    "- `stack`: Tracks the current DFS path.\n",
    "- `on_stack`: Boolean array to check if a node is on the stack.\n",
    "- `SCC list`: Stores all identified SCCs.\n",
    "***\n",
    "## **Conceptual Notes**\n",
    "- By definition, SCC's are disjoint. i.e, each vertex can be a part of only 1 SCC.\n",
    "- The stack ensures that nodes are only grouped into one SCC and prevents cross-contamination of low-link values between SCC's.\n",
    "- The algorithm runs in linear time: $O(V + E)$, where $V$ is the number of vertices and $E$ is the number of edges.\n",
    "***"
   ]
  },
  {
   "cell_type": "code",
   "execution_count": 4,
   "id": "bab870f6-1215-4eb2-b31b-3887bfbdd89c",
   "metadata": {},
   "outputs": [],
   "source": [
    "from typing import List\n",
    "\n",
    "class graphTraversal:\n",
    "    def __init__(self, graph_: List[List[int]]):\n",
    "        self.searchTime = 0\n",
    "        self.sccArray = []\n",
    "        self.visitedStack = []\n",
    "        self.graph = graph_[:]\n",
    "        self.numVertices = len(self.graph)\n",
    "        self.unvisitedVertices = [i for i in range(self.numVertices)]\n",
    "        self.lowLinkValues = [0 for i in range(self.numVertices)]\n",
    "        self.searchTimes = [0 for i in range(self.numVertices)]\n",
    "        self.isVertexPartOfScc = [False for i in range(self.numVertices)]\n",
    "\n",
    "    def reset(self):\n",
    "        self.numVertices = len(self.unvisitedVertices)\n",
    "        self.lowLinkValues = [0 for i in range(self.numVertices)]\n",
    "        self.searchTimes = [0 for i in range(self.numVertices)]\n",
    "        self.isVertexPartOfScc = [False for i in range(self.numVertices)]\n",
    "\n",
    "    def dfs(self, vertex = 0):\n",
    "        # if vertex already visited, return it's low-link value\n",
    "        if vertex in self.visitedStack:\n",
    "            return self.lowLinkValues[vertex]\n",
    "\n",
    "        self.searchTime += 1\n",
    "\n",
    "        # if low link value of vertex is not set\n",
    "        self.searchTimes[vertex] = self.searchTime\n",
    "        self.lowLinkValues[vertex] = self.searchTime\n",
    "        \n",
    "        # add vertex to list of visited vertex\n",
    "        self.visitedStack.append(vertex)\n",
    "        try:\n",
    "            self.unvisitedVertices.remove(vertex)\n",
    "        except ValueError:\n",
    "            pass\n",
    "        \n",
    "        # traverse all edges\n",
    "        for edge in range(self.numVertices):\n",
    "            if self.graph[vertex][edge] == 1:\n",
    "                result = self.dfs(edge)\n",
    "                self.lowLinkValues[vertex] = min(\n",
    "                    self.lowLinkValues[vertex], result)\n",
    "        \n",
    "        # check if current vertex is a root of any SCC\n",
    "        if self.lowLinkValues[vertex] == self.searchTimes[vertex]:\n",
    "            # remove current vertex from the list\n",
    "            scc = []\n",
    "            element = self.visitedStack.pop()\n",
    "\n",
    "            # keep popping (retracing the path) until the root vertex is reached\n",
    "            while not element == vertex:\n",
    "                if not self.isVertexPartOfScc[element]:\n",
    "                    scc.append(element)\n",
    "                    self.isVertexPartOfScc[element] = True\n",
    "                element = self.visitedStack.pop()\n",
    "            \n",
    "            if not self.isVertexPartOfScc[element]:\n",
    "                scc.append(element)\n",
    "                self.isVertexPartOfScc[element] = True\n",
    "\n",
    "            if len(scc) > 0:\n",
    "                self.sccArray.append(scc[:])\n",
    "        return self.lowLinkValues[vertex]"
   ]
  },
  {
   "cell_type": "markdown",
   "id": "410f4e0f-7997-4170-b733-851546819e19",
   "metadata": {},
   "source": [
    "### We can start the DFS traversal from any node and still it will work\n",
    "## Starting from node 0"
   ]
  },
  {
   "cell_type": "code",
   "execution_count": 5,
   "id": "34c8ff76-2003-435d-9316-35dfa6deb4a6",
   "metadata": {},
   "outputs": [
    {
     "data": {
      "text/plain": [
       "[[5, 4], [3, 2], [6, 1, 0]]"
      ]
     },
     "execution_count": 5,
     "metadata": {},
     "output_type": "execute_result"
    }
   ],
   "source": [
    "graph = graphTraversal(incidence_matrix)\n",
    "startVertex = graph.unvisitedVertices[0]\n",
    "\n",
    "while len(graph.unvisitedVertices) > 0:\n",
    "    graph.dfs(startVertex)\n",
    "    if len(graph.unvisitedVertices) > 0:\n",
    "       startVertex = graph.unvisitedVertices[0]\n",
    "        \n",
    "graph.sccArray"
   ]
  },
  {
   "cell_type": "markdown",
   "id": "4a98961c-4827-4227-b891-5b90c7783be3",
   "metadata": {},
   "source": [
    "## Starting from node 3"
   ]
  },
  {
   "cell_type": "code",
   "execution_count": 6,
   "id": "47c5c903-5715-4c28-bdf2-c6746103ea04",
   "metadata": {},
   "outputs": [
    {
     "data": {
      "text/plain": [
       "[[5, 4], [2, 3], [6, 1, 0]]"
      ]
     },
     "execution_count": 6,
     "metadata": {},
     "output_type": "execute_result"
    }
   ],
   "source": [
    "graph = graphTraversal(incidence_matrix)\n",
    "startVertex = graph.unvisitedVertices[3]\n",
    "\n",
    "while len(graph.unvisitedVertices) > 0:\n",
    "    graph.dfs(startVertex)\n",
    "    if len(graph.unvisitedVertices) > 0:\n",
    "       startVertex = graph.unvisitedVertices[0]\n",
    "        \n",
    "graph.sccArray"
   ]
  },
  {
   "cell_type": "markdown",
   "id": "e8e57910-e5fc-4112-87ce-bc12e2cd3197",
   "metadata": {},
   "source": [
    "## Starting from node 5"
   ]
  },
  {
   "cell_type": "code",
   "execution_count": 7,
   "id": "5bc3b476-b1d5-4191-a224-9087e6ad3d9a",
   "metadata": {},
   "outputs": [
    {
     "data": {
      "text/plain": [
       "[[4, 5], [3, 2], [6, 1, 0]]"
      ]
     },
     "execution_count": 7,
     "metadata": {},
     "output_type": "execute_result"
    }
   ],
   "source": [
    "graph = graphTraversal(incidence_matrix)\n",
    "startVertex = graph.unvisitedVertices[5]\n",
    "\n",
    "while len(graph.unvisitedVertices) > 0:\n",
    "    graph.dfs(startVertex)\n",
    "    if len(graph.unvisitedVertices) > 0:\n",
    "       startVertex = graph.unvisitedVertices[0]\n",
    "        \n",
    "graph.sccArray"
   ]
  },
  {
   "cell_type": "markdown",
   "id": "0ca82de5-04a5-4b67-bbf1-8182d5a8b7f6",
   "metadata": {},
   "source": [
    "***"
   ]
  }
 ],
 "metadata": {
  "kernelspec": {
   "display_name": "Python kernel developed by Saptarshi Dey",
   "language": "python",
   "name": "python3"
  },
  "language_info": {
   "codemirror_mode": {
    "name": "ipython",
    "version": 3
   },
   "file_extension": ".py",
   "mimetype": "text/x-python",
   "name": "python",
   "nbconvert_exporter": "python",
   "pygments_lexer": "ipython3",
   "version": "3.8.10"
  }
 },
 "nbformat": 4,
 "nbformat_minor": 5
}
