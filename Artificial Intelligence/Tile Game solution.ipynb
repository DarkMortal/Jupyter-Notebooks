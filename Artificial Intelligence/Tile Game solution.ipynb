{
 "cells": [
  {
   "cell_type": "markdown",
   "id": "9e8a6c15",
   "metadata": {},
   "source": [
    "## A* is a heuristic searching algorithm that is used to find the shortest path between an initial and a final point. It is a handy algorithm that is often used for map traversal to find the shortest path to be taken.\n",
    "## Here, we shall use this algorithm to find the shortest solution to the 8-puzzle problem"
   ]
  },
  {
   "cell_type": "code",
   "execution_count": 1,
   "id": "c9d007f2",
   "metadata": {},
   "outputs": [],
   "source": [
    "# we shall test our solution on these 2 puzzles\n",
    "\n",
    "puzzle_1 = [\n",
    "    [1,8,2],\n",
    "    [-1,4,3],\n",
    "    [7,6,5]\n",
    "]\n",
    "\n",
    "puzzle_2 = [\n",
    "    [1,2,3],\n",
    "    [4,-1,8],\n",
    "    [7,6,5]\n",
    "]"
   ]
  },
  {
   "cell_type": "markdown",
   "id": "1dfc78f0",
   "metadata": {},
   "source": [
    "## Function to implement <kbd>slide</kbd> and get coordinates of the empty space"
   ]
  },
  {
   "cell_type": "code",
   "execution_count": 2,
   "id": "c8e6374c",
   "metadata": {},
   "outputs": [],
   "source": [
    "def slide( arr, x: int, y: int, move: str):\n",
    "        if(move == 'L'):\n",
    "            arr[y][x-1], arr[y][x] = arr[y][x], arr[y][x-1]\n",
    "        if(move == 'R'):\n",
    "            arr[y][x+1], arr[y][x] = arr[y][x], arr[y][x+1]\n",
    "        if(move == 'U'):\n",
    "            arr[y-1][x], arr[y][x] = arr[y][x], arr[y-1][x]\n",
    "        if(move == 'D'):\n",
    "            arr[y+1][x], arr[y][x] = arr[y][x], arr[y+1][x]\n",
    "\n",
    "def getXY(arr, e):\n",
    "    n = len(arr)\n",
    "    x = 0\n",
    "    y = 0\n",
    "    for i in range(n):\n",
    "        for j in range(n):\n",
    "            if arr[i][j] != e: continue\n",
    "            x = j\n",
    "            y = i\n",
    "            break\n",
    "    return (x, y)"
   ]
  },
  {
   "cell_type": "markdown",
   "id": "a80c8849",
   "metadata": {},
   "source": [
    "## Solution class"
   ]
  },
  {
   "cell_type": "code",
   "execution_count": 3,
   "id": "19d56c92",
   "metadata": {},
   "outputs": [],
   "source": [
    "# we shall denote SPACE by -1\n",
    "\n",
    "class Solver:\n",
    "    def __init__(self, puzzle):\n",
    "        self.SPACE = -1\n",
    "        self.puzzle = [i[:] for i in puzzle]\n",
    "        self.LENGTH = len(puzzle)\n",
    "        self.solutions = []\n",
    "\n",
    "    def getCost(self,arr) -> int:\n",
    "        res = 0\n",
    "        cost = 0\n",
    "\n",
    "        for i in range(self.LENGTH):\n",
    "            for j in range(self.LENGTH):\n",
    "                if (i == self.LENGTH - 1) and (j == self.LENGTH - 1): res = self.SPACE\n",
    "                else: res += 1\n",
    "                cost += (arr[i][j] != res)\n",
    "        return cost\n",
    "\n",
    "    def getMinMoves(self):\n",
    "        x, y = getXY(self.puzzle, self.SPACE)\n",
    "        possible_moves = ['L', 'R', 'D', 'U']\n",
    "        if x == 0: possible_moves.remove('L')\n",
    "        if y == 0: possible_moves.remove('U')\n",
    "        if x == self.LENGTH - 1: possible_moves.remove('R')\n",
    "        if y == self.LENGTH - 1: possible_moves.remove('D')\n",
    "        \n",
    "        minCost = self.LENGTH ** 2\n",
    "        move_cost = []\n",
    "\n",
    "        for move in possible_moves:\n",
    "            arr = [i[:] for i in self.puzzle]\n",
    "            slide(arr, x, y, move)\n",
    "            cost = self.getCost(arr)\n",
    "            move_cost.append((move, cost))\n",
    "            if cost < minCost: minCost = cost\n",
    "\n",
    "        move_cost = [i[0] for i in filter(lambda v:v[1] == minCost, move_cost)]\n",
    "        return (move_cost, x, y)\n",
    "\n",
    "    def getSoln(self, move_list = []):\n",
    "\n",
    "        if self.getCost(self.puzzle) == 0:\n",
    "            self.solutions.append(move_list[:])\n",
    "            return\n",
    "        \n",
    "        res = self.getMinMoves()\n",
    "        \n",
    "        for move in res[0]:\n",
    "            \n",
    "            # weed out consecutive moves\n",
    "            if move_list != []:\n",
    "                temp_str = move_list[-1] + move\n",
    "                if (temp_str == 'LR' or \n",
    "                    temp_str == 'RL' or \n",
    "                    temp_str == 'UD' or \n",
    "                    temp_str == 'DU'): continue\n",
    "            \n",
    "            check_point = [i[:] for i in self.puzzle]\n",
    "            slide(self.puzzle, res[1], res[2], move)\n",
    "            self.getSoln(move_list + [move])\n",
    "            self.puzzle = [i[:] for i in check_point]\n",
    "            \n",
    "    def solve(self):\n",
    "        self.getSoln()\n",
    "        self.solutions.sort(key = lambda x: len(x))"
   ]
  },
  {
   "cell_type": "markdown",
   "id": "3a8b6f42",
   "metadata": {},
   "source": [
    "## Driver code"
   ]
  },
  {
   "cell_type": "code",
   "execution_count": 4,
   "id": "220aeaef",
   "metadata": {},
   "outputs": [
    {
     "name": "stdout",
     "output_type": "stream",
     "text": [
      "[['R', 'U', 'R', 'D', 'D', 'L', 'U', 'R', 'D']]\n",
      "[['R', 'D', 'L', 'U', 'R', 'D'], ['D', 'R', 'U', 'L', 'D', 'R']]\n"
     ]
    }
   ],
   "source": [
    "if __name__ == \"__main__\":\n",
    "    s1 = Solver(puzzle_1)\n",
    "    s2 = Solver(puzzle_2)\n",
    "    s1.solve()\n",
    "    s2.solve()\n",
    "    print(s1.solutions)\n",
    "    print(s2.solutions)"
   ]
  },
  {
   "cell_type": "markdown",
   "id": "c9e60871",
   "metadata": {},
   "source": [
    "## Visual representation"
   ]
  },
  {
   "cell_type": "code",
   "execution_count": 5,
   "id": "44e85d91",
   "metadata": {},
   "outputs": [
    {
     "data": {
      "text/html": [
       "<style>\n",
       "tr td{\n",
       "    color: white;\n",
       "    font-weight: bold;\n",
       "    text-align: center;\n",
       "    background-color: #1c7ed6;\n",
       "}\n",
       ".rendered_html tr,\n",
       ".rendered_html th,\n",
       ".rendered_html td{\n",
       "     text-align: center;\n",
       "     border: transparent;\n",
       "     font-size: 2rem;\n",
       "     padding: 20px;\n",
       "     padding-bottom: 5px;\n",
       "}\n",
       ".rendered_html table{\n",
       "    margin: 0px;\n",
       "}\n",
       ".ghost{\n",
       "    border: none;\n",
       "    background-color: transparent;\n",
       "}\n",
       ".flexbox{\n",
       "    display: flex;\n",
       "    padding: 0px;\n",
       "    flex-direction: row;\n",
       "    column-gap: 5px;\n",
       "    justify-content: space-between;\n",
       "}\n",
       ".arr{\n",
       "    font-size: 2.5rem;\n",
       "    height: fit-content;\n",
       "}\n",
       "</style>\n",
       "<div class='flexbox'><table><tr><td>1</td><td>8</td><td>2</td></tr><tr><td class='ghost'>&nbsp</td><td>4</td><td>3</td></tr><tr><td>7</td><td>6</td><td>5</td></tr></table><span class='arr'>&rarr;</span><table><tr><td>1</td><td>8</td><td>2</td></tr><tr><td>4</td><td class='ghost'>&nbsp</td><td>3</td></tr><tr><td>7</td><td>6</td><td>5</td></tr></table><span class='arr'>&rarr;</span><table><tr><td>1</td><td class='ghost'>&nbsp</td><td>2</td></tr><tr><td>4</td><td>8</td><td>3</td></tr><tr><td>7</td><td>6</td><td>5</td></tr></table><span class='arr'>&rarr;</span><table><tr><td>1</td><td>2</td><td class='ghost'>&nbsp</td></tr><tr><td>4</td><td>8</td><td>3</td></tr><tr><td>7</td><td>6</td><td>5</td></tr></table><span class='arr'>&rarr;</span><table><tr><td>1</td><td>2</td><td>3</td></tr><tr><td>4</td><td>8</td><td class='ghost'>&nbsp</td></tr><tr><td>7</td><td>6</td><td>5</td></tr></table><span class='arr'>&rarr;</span><table><tr><td>1</td><td>2</td><td>3</td></tr><tr><td>4</td><td>8</td><td>5</td></tr><tr><td>7</td><td>6</td><td class='ghost'>&nbsp</td></tr></table><span class='arr'>&rarr;</span><table><tr><td>1</td><td>2</td><td>3</td></tr><tr><td>4</td><td>8</td><td>5</td></tr><tr><td>7</td><td class='ghost'>&nbsp</td><td>6</td></tr></table><span class='arr'>&rarr;</span><table><tr><td>1</td><td>2</td><td>3</td></tr><tr><td>4</td><td class='ghost'>&nbsp</td><td>5</td></tr><tr><td>7</td><td>8</td><td>6</td></tr></table><span class='arr'>&rarr;</span><table><tr><td>1</td><td>2</td><td>3</td></tr><tr><td>4</td><td>5</td><td class='ghost'>&nbsp</td></tr><tr><td>7</td><td>8</td><td>6</td></tr></table><span class='arr'>&rarr;</span><table><tr><td>1</td><td>2</td><td>3</td></tr><tr><td>4</td><td>5</td><td>6</td></tr><tr><td>7</td><td>8</td><td class='ghost'>&nbsp</td></tr></table></div><br/><div class='flexbox'><table><tr><td>1</td><td>2</td><td>3</td></tr><tr><td>4</td><td class='ghost'>&nbsp</td><td>8</td></tr><tr><td>7</td><td>6</td><td>5</td></tr></table><span class='arr'>&rarr;</span><table><tr><td>1</td><td>2</td><td>3</td></tr><tr><td>4</td><td>8</td><td class='ghost'>&nbsp</td></tr><tr><td>7</td><td>6</td><td>5</td></tr></table><span class='arr'>&rarr;</span><table><tr><td>1</td><td>2</td><td>3</td></tr><tr><td>4</td><td>8</td><td>5</td></tr><tr><td>7</td><td>6</td><td class='ghost'>&nbsp</td></tr></table><span class='arr'>&rarr;</span><table><tr><td>1</td><td>2</td><td>3</td></tr><tr><td>4</td><td>8</td><td>5</td></tr><tr><td>7</td><td class='ghost'>&nbsp</td><td>6</td></tr></table><span class='arr'>&rarr;</span><table><tr><td>1</td><td>2</td><td>3</td></tr><tr><td>4</td><td class='ghost'>&nbsp</td><td>5</td></tr><tr><td>7</td><td>8</td><td>6</td></tr></table><span class='arr'>&rarr;</span><table><tr><td>1</td><td>2</td><td>3</td></tr><tr><td>4</td><td>5</td><td class='ghost'>&nbsp</td></tr><tr><td>7</td><td>8</td><td>6</td></tr></table><span class='arr'>&rarr;</span><table><tr><td>1</td><td>2</td><td>3</td></tr><tr><td>4</td><td>5</td><td>6</td></tr><tr><td>7</td><td>8</td><td class='ghost'>&nbsp</td></tr></table></div><br/><div class='flexbox'><table><tr><td>1</td><td>2</td><td>3</td></tr><tr><td>4</td><td class='ghost'>&nbsp</td><td>8</td></tr><tr><td>7</td><td>6</td><td>5</td></tr></table><span class='arr'>&rarr;</span><table><tr><td>1</td><td>2</td><td>3</td></tr><tr><td>4</td><td>6</td><td>8</td></tr><tr><td>7</td><td class='ghost'>&nbsp</td><td>5</td></tr></table><span class='arr'>&rarr;</span><table><tr><td>1</td><td>2</td><td>3</td></tr><tr><td>4</td><td>6</td><td>8</td></tr><tr><td>7</td><td>5</td><td class='ghost'>&nbsp</td></tr></table><span class='arr'>&rarr;</span><table><tr><td>1</td><td>2</td><td>3</td></tr><tr><td>4</td><td>6</td><td class='ghost'>&nbsp</td></tr><tr><td>7</td><td>5</td><td>8</td></tr></table><span class='arr'>&rarr;</span><table><tr><td>1</td><td>2</td><td>3</td></tr><tr><td>4</td><td class='ghost'>&nbsp</td><td>6</td></tr><tr><td>7</td><td>5</td><td>8</td></tr></table><span class='arr'>&rarr;</span><table><tr><td>1</td><td>2</td><td>3</td></tr><tr><td>4</td><td>5</td><td>6</td></tr><tr><td>7</td><td class='ghost'>&nbsp</td><td>8</td></tr></table><span class='arr'>&rarr;</span><table><tr><td>1</td><td>2</td><td>3</td></tr><tr><td>4</td><td>5</td><td>6</td></tr><tr><td>7</td><td>8</td><td class='ghost'>&nbsp</td></tr></table></div><br/>"
      ],
      "text/plain": [
       "<IPython.core.display.HTML object>"
      ]
     },
     "metadata": {},
     "output_type": "display_data"
    }
   ],
   "source": [
    "from IPython.display import HTML, display\n",
    "\n",
    "s1.puzzle = [i[:] for i in puzzle_1]\n",
    "s2.puzzle = [i[:] for i in puzzle_2]\n",
    "\n",
    "def cell_to_table(arr):\n",
    "    head = \"<table>\"\n",
    "    for i in arr:\n",
    "        head += \"<tr>\"\n",
    "        for j in i:\n",
    "            if j == -1: head += \"<td class='ghost'>&nbsp</td>\"\n",
    "            else: head += f\"<td>{j}</td>\"\n",
    "        head += \"</tr>\"\n",
    "    return head + \"</table>\"\n",
    "\n",
    "def getHTML(sol: Solver) -> str:\n",
    "    table_html = \"\"\n",
    "    for solution in sol.solutions:\n",
    "        table_html += \"<div class='flexbox'>\" + cell_to_table(sol.puzzle)\n",
    "        for move in solution:\n",
    "            a, b = getXY(sol.puzzle, s1.SPACE)\n",
    "            slide(sol.puzzle, a, b, move)\n",
    "            table_html += f\"<span class='arr'>&rarr;</span>{cell_to_table(sol.puzzle)}\"\n",
    "        table_html += \"</div><br/>\"\n",
    "        sol.puzzle = [i[:] for i in puzzle_2]\n",
    "    return table_html\n",
    "\n",
    "display(HTML('''<style>\n",
    "tr td{\n",
    "    color: white;\n",
    "    font-weight: bold;\n",
    "    text-align: center;\n",
    "    background-color: #1c7ed6;\n",
    "}\n",
    ".rendered_html tr,\n",
    ".rendered_html th,\n",
    ".rendered_html td{\n",
    "     text-align: center;\n",
    "     border: transparent;\n",
    "     font-size: 2rem;\n",
    "     padding: 20px;\n",
    "     padding-bottom: 5px;\n",
    "}\n",
    ".rendered_html table{\n",
    "    margin: 0px;\n",
    "}\n",
    ".ghost{\n",
    "    border: none;\n",
    "    background-color: transparent;\n",
    "}\n",
    ".flexbox{\n",
    "    display: flex;\n",
    "    padding: 0px;\n",
    "    flex-direction: row;\n",
    "    column-gap: 5px;\n",
    "    justify-content: space-between;\n",
    "}\n",
    ".arr{\n",
    "    font-size: 2.5rem;\n",
    "    height: fit-content;\n",
    "}\n",
    "</style>\n",
    "''' + getHTML(s1) + getHTML(s2)))"
   ]
  },
  {
   "cell_type": "markdown",
   "id": "8279723f-6d07-40be-bd0c-dbf4c3378f17",
   "metadata": {},
   "source": [
    "***"
   ]
  }
 ],
 "metadata": {
  "kernelspec": {
   "display_name": "Python 3 (ipykernel)",
   "language": "python",
   "name": "python3"
  },
  "language_info": {
   "codemirror_mode": {
    "name": "ipython",
    "version": 3
   },
   "file_extension": ".py",
   "mimetype": "text/x-python",
   "name": "python",
   "nbconvert_exporter": "python",
   "pygments_lexer": "ipython3",
   "version": "3.8.10"
  }
 },
 "nbformat": 4,
 "nbformat_minor": 5
}
