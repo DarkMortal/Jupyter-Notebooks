{
 "cells": [
  {
   "cell_type": "markdown",
   "id": "478d2291-3c96-4b83-98ad-92431a326f18",
   "metadata": {},
   "source": [
    "# Theory\n",
    "## FCFS\n",
    "- FCFS stands for First Come First Served.\n",
    "- As the name suggests, this algorithm entertains requests in the order they arrive in the disk queue.\n",
    "- It is the simplest disk scheduling algorithm.\n",
    "### Advantages\n",
    "- It is simple, easy to understand and implement.\n",
    "- It does not cause starvation to any request.\n",
    "### Disadvantages\n",
    "- It results in increased total seek time.\n",
    "- It is inefficient.\n",
    "***\n",
    "## SSTF\n",
    "- SSTF stands for Shortest Seek Time First.\n",
    "- This algorithm services that request next which requires least number of head movements from its current position regardless of the direction.\n",
    "- It breaks the tie in the direction of head movement.\n",
    "### Advantages\n",
    "- It reduces the total seek time as compared to FCFS.\n",
    "- It provides increased throughput.\n",
    "- It provides less average response time and waiting time.\n",
    "### Disadvantages\n",
    "- There is an overhead of finding out the closest request.\n",
    "- The requests which are far from the head might starve for the CPU.\n",
    "- It provides high variance in response time and waiting time.\n",
    "- Switching the direction of head frequently slows down the algorithm.\n",
    "***"
   ]
  },
  {
   "cell_type": "code",
   "execution_count": 1,
   "id": "25042631-03a9-414d-82ee-dc2638e9fc87",
   "metadata": {},
   "outputs": [],
   "source": [
    "currentTracks = [53, 50]\n",
    "requestArrays = [[176, 79, 34, 60, 92, 11, 41, 114],\n",
    "       [4, 34, 10, 7, 19, 73, 2, 15, 6, 20],\n",
    "       [98, 183, 41, 122, 14, 124, 65, 67]]"
   ]
  },
  {
   "cell_type": "markdown",
   "id": "bb1a6649-796c-4347-919a-2bf13563ff1c",
   "metadata": {},
   "source": [
    "## Algorithm for FCFS\n",
    "1. Let Request array represents an array storing indexes of tracks that have been requested in ascending order of their time of arrival.\n",
    "2. `head` is the position of disk head.\n",
    "3. Let us one by one take the tracks in default order and calculate the absolute distance of the track from the head.\n",
    "4. Increment the total seek count with this distance.\n",
    "5. Currently serviced track position now becomes the new head position.\n",
    "6. Go to step 3 until all tracks in request array have not been serviced."
   ]
  },
  {
   "cell_type": "code",
   "execution_count": 2,
   "id": "3092a08b-147e-45a7-8cf2-309a0274958d",
   "metadata": {},
   "outputs": [],
   "source": [
    "def fcfs(array: list, start: int, log = False) -> int:\n",
    "    rotations = 0\n",
    "    current = start\n",
    "    for i in array:\n",
    "        value = abs(i - current)\n",
    "                \n",
    "        # TODO: print log statements\n",
    "        if log: print(f'|{i} - {current}| = {value}')\n",
    "        current = i; rotations += value\n",
    "    return rotations"
   ]
  },
  {
   "cell_type": "markdown",
   "id": "c91065b1-e8ef-4d90-8c2b-f8ac4e77676b",
   "metadata": {},
   "source": [
    "***\n",
    "## Algorithm for SSTF\n",
    "1. Let the Request array represents an array storing indexes of tracks that have been requested.\n",
    "2. `head` is the position of the disk head.\n",
    "3. Find the positive distance of all tracks in the request array from the head.\n",
    "4. Find a track from the requested array which has not been accessed/serviced yet and has a minimum distance from the head.\n",
    "5. Increment the total seek count with this distance.\n",
    "6. Currently serviced track position now becomes the new head position.\n",
    "7. Go to step 3 until all tracks in the request array have not been serviced. "
   ]
  },
  {
   "cell_type": "code",
   "execution_count": 3,
   "id": "b6a45bba-9ef1-49a9-b62f-878739d16db7",
   "metadata": {},
   "outputs": [],
   "source": [
    "def sstf(array: list, start: int, isUpDirection = True, log = False) -> (int, list):\n",
    "    rotations = 0\n",
    "    current = start\n",
    "    auxillaryArray = array[:]\n",
    "    seekSequence = []\n",
    "\n",
    "    new_current = current\n",
    "    previousHeadMovement = isUpDirection # True = up, False = down (default)\n",
    "\n",
    "    while len(auxillaryArray) > 0:\n",
    "        min_rotations = float('inf')\n",
    "        currentHeadMovement = previousHeadMovement\n",
    "\n",
    "        for i in auxillaryArray:\n",
    "\n",
    "            value = i - current\n",
    "            \n",
    "            if abs(value) < min_rotations:\n",
    "\n",
    "                if value < 0: currentHeadMovement = True\n",
    "                else: currentHeadMovement = False\n",
    "\n",
    "                min_rotations = abs(value)\n",
    "                new_current = i\n",
    "            elif value == min_rotations:\n",
    "                if currentHeadMovement == previousHeadMovement: new_current = i\n",
    "\n",
    "        previousHeadMovement = currentHeadMovement\n",
    "\n",
    "        # TODO: print log statements\n",
    "        if log: print(f'|{new_current} - {current}| = {min_rotations}')\n",
    "        \n",
    "        current = new_current; rotations += min_rotations\n",
    "        auxillaryArray.remove(current)\n",
    "        seekSequence.append(current)\n",
    "    return rotations, seekSequence"
   ]
  },
  {
   "cell_type": "markdown",
   "id": "0df1fecf-6d49-4798-ba48-3cb164bcd6e3",
   "metadata": {},
   "source": [
    "***\n",
    "# Questions\n",
    "Q1. Consider a disk queue with requests for I/O to blocks on cylinders $\\ 98, 183, 41, 122, 14, 124, 65, 67 \\ $. The FCFS scheduling algorithm is used. The head is initially at cylinder number 53. The cylinders are numbered from 0 to 199. The total head movement (in number of cylinders) incurred while servicing these requests is _______"
   ]
  },
  {
   "cell_type": "code",
   "execution_count": 4,
   "id": "a262aa97-cb99-4f74-9208-6052fb21ced2",
   "metadata": {},
   "outputs": [
    {
     "name": "stdout",
     "output_type": "stream",
     "text": [
      "|98 - 53| = 45\n",
      "|183 - 98| = 85\n",
      "|41 - 183| = 142\n",
      "|122 - 41| = 81\n",
      "|14 - 122| = 108\n",
      "|124 - 14| = 110\n",
      "|65 - 124| = 59\n",
      "|67 - 65| = 2\n",
      "Total number of head movements = 632\n"
     ]
    }
   ],
   "source": [
    "print(f'Total number of head movements = {fcfs(requestArrays[2], currentTracks[0], log = True)}')"
   ]
  },
  {
   "cell_type": "markdown",
   "id": "09d11b56-96df-4ba5-a325-2ad78d4aabf2",
   "metadata": {},
   "source": [
    "![](https://www.gatevidyalay.com/wp-content/uploads/2018/11/FCFS-Disk-Scheduling-Algorithm-Problem-01.png)\n",
    "***\n",
    "Q2. Consider a disk queue with requests for I/O to blocks on cylinders $\\ 98, 183, 41, 122, 14, 124, 65, 67\\ $. The SSTF scheduling algorithm is used. The head is initially at cylinder number 53 moving towards larger cylinder numbers (UP direction) on its servicing pass. The cylinders are numbered from 0 to 199. The total head movement (in number of cylinders) incurred while servicing these requests is _______"
   ]
  },
  {
   "cell_type": "code",
   "execution_count": 5,
   "id": "d99a4192-cc07-4f5c-9cf8-8b9b50a88679",
   "metadata": {},
   "outputs": [
    {
     "name": "stdout",
     "output_type": "stream",
     "text": [
      "|65 - 53| = 12\n",
      "|67 - 65| = 2\n",
      "|41 - 67| = 26\n",
      "|14 - 41| = 27\n",
      "|98 - 14| = 84\n",
      "|122 - 98| = 24\n",
      "|124 - 122| = 2\n",
      "|183 - 124| = 59\n",
      "Total number of head movements = 236\n",
      "Seek sequence: 65, 67, 41, 14, 98, 122, 124, 183\n"
     ]
    }
   ],
   "source": [
    "rotations, seek_sequence = sstf(requestArrays[2], currentTracks[0], log = True)\n",
    "print(f\"Total number of head movements = {rotations}\\nSeek sequence: {', '.join(map(str, seek_sequence))}\")"
   ]
  },
  {
   "cell_type": "markdown",
   "id": "32083f3a-f0e7-4a66-85da-6d6691508c17",
   "metadata": {},
   "source": [
    "![](https://www.gatevidyalay.com/wp-content/uploads/2018/11/SSTF-Disk-Scheduling-Algorithm-Problem-01.png)\n",
    "***\n",
    "Q3. Consider a disk system with 100 cylinders. The requests to access the cylinders occur in following sequence-\n",
    "\n",
    "$$4, 34, 10, 7, 19, 73, 2, 15, 6, 20$$\n",
    "\n",
    "Assuming that the head is currently at cylinder 50, what is the time taken to satisfy all requests if it takes 1 ms to move from one cylinder to adjacent one and shortest seek time first policy is used?\n",
    "\n",
    "1. 95 ms\n",
    "2. 119 ms\n",
    "3. 233 ms\n",
    "4. 276 ms"
   ]
  },
  {
   "cell_type": "code",
   "execution_count": 6,
   "id": "b5c5dd27-4e23-499e-83cf-ef03f96a52c5",
   "metadata": {},
   "outputs": [
    {
     "name": "stdout",
     "output_type": "stream",
     "text": [
      "|34 - 50| = 16\n",
      "|20 - 34| = 14\n",
      "|19 - 20| = 1\n",
      "|15 - 19| = 4\n",
      "|10 - 15| = 5\n",
      "|7 - 10| = 3\n",
      "|6 - 7| = 1\n",
      "|4 - 6| = 2\n",
      "|2 - 4| = 2\n",
      "|73 - 2| = 71\n",
      "Total number of head movements = 119\n",
      "Seek sequence: 34, 20, 19, 15, 10, 7, 6, 4, 2, 73\n"
     ]
    }
   ],
   "source": [
    "rotations, seek_sequence = sstf(requestArrays[1], currentTracks[1], log = True)\n",
    "print(f\"Total number of head movements = {rotations}\\nSeek sequence: {', '.join(map(str, seek_sequence))}\")"
   ]
  },
  {
   "cell_type": "markdown",
   "id": "126a87ab-0e7c-4308-99df-0b91ff48dce3",
   "metadata": {},
   "source": [
    "![](https://www.gatevidyalay.com/wp-content/uploads/2018/11/SSTF-Disk-Scheduling-Algorithm-Problem-02-2.png)\n",
    "\n",
    "$\\therefore$ Time required for $119$ head movements $=119\\times 1=\\boxed{119\\ ms}$\n",
    "***\n",
    "Q4. Consider a disk queue with requests for I/O to blocks on cylinders $\\ 176, 79, 34, 60, 92, 11, 41, 114\\ $. The SSTF scheduling algorithm is used. The head is initially at cylinder number 50 moving towards larger cylinder numbers (UP direction) on its servicing pass. The cylinders are numbered from 0 to 199. The total head movement (in number of cylinders) incurred while servicing these requests is _______"
   ]
  },
  {
   "cell_type": "code",
   "execution_count": 7,
   "id": "5981d18f-3975-4137-9928-d8652e7877e9",
   "metadata": {},
   "outputs": [
    {
     "name": "stdout",
     "output_type": "stream",
     "text": [
      "|41 - 50| = 9\n",
      "|34 - 41| = 7\n",
      "|11 - 34| = 23\n",
      "|60 - 11| = 49\n",
      "|79 - 60| = 19\n",
      "|92 - 79| = 13\n",
      "|114 - 92| = 22\n",
      "|176 - 114| = 62\n",
      "Total number of head movements = 204\n",
      "Seek sequence: 41, 34, 11, 60, 79, 92, 114, 176\n"
     ]
    }
   ],
   "source": [
    "rotations, seek_sequence = sstf(requestArrays[0], currentTracks[1], log = True)\n",
    "print(f\"Total number of head movements = {rotations}\\nSeek sequence: {', '.join(map(str, seek_sequence))}\")"
   ]
  },
  {
   "cell_type": "markdown",
   "id": "d0028ec6-977d-48d1-b049-1e4d5bb6e2c4",
   "metadata": {},
   "source": [
    "![](https://media.geeksforgeeks.org/wp-content/uploads/3333-4.png)\n",
    "***"
   ]
  }
 ],
 "metadata": {
  "kernelspec": {
   "display_name": "Python 3 (ipykernel)",
   "language": "python",
   "name": "python3"
  },
  "language_info": {
   "codemirror_mode": {
    "name": "ipython",
    "version": 3
   },
   "file_extension": ".py",
   "mimetype": "text/x-python",
   "name": "python",
   "nbconvert_exporter": "python",
   "pygments_lexer": "ipython3",
   "version": "3.8.10"
  }
 },
 "nbformat": 4,
 "nbformat_minor": 5
}
