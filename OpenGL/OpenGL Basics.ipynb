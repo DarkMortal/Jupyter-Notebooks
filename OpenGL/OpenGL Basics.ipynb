{
 "cells": [
  {
   "cell_type": "markdown",
   "id": "481a7297",
   "metadata": {},
   "source": [
    "### Importing required packages"
   ]
  },
  {
   "cell_type": "code",
   "execution_count": 1,
   "id": "78af3ffb",
   "metadata": {},
   "outputs": [
    {
     "name": "stdout",
     "output_type": "stream",
     "text": [
      "pygame 2.1.2 (SDL 2.0.16, Python 3.8.10)\n",
      "Hello from the pygame community. https://www.pygame.org/contribute.html\n"
     ]
    }
   ],
   "source": [
    "import pygame as pg\n",
    "import OpenGL.GL as opg"
   ]
  },
  {
   "cell_type": "markdown",
   "id": "7cb6f3a2",
   "metadata": {},
   "source": [
    "### Definition of App class"
   ]
  },
  {
   "cell_type": "code",
   "execution_count": 2,
   "id": "369c3ac4",
   "metadata": {},
   "outputs": [],
   "source": [
    "class App:\n",
    "    def __init__(self, title):\n",
    "        \n",
    "        # initialize pygame engine\n",
    "        pg.init()\n",
    "        pg.display.set_mode((500,600), pg.OPENGL|pg.DOUBLEBUF)\n",
    "        pg.display.set_caption(title)\n",
    "        self.clock = pg.time.Clock()\n",
    "        \n",
    "        # initialize opengl\n",
    "        opg.glClearColor(0.17,0.24,0.39,1) # RGBA Color Mode\n",
    "        self.minLoop()\n",
    "        \n",
    "    def minLoop(self):\n",
    "        opg.running = True\n",
    "        \n",
    "        # event loop\n",
    "        while(opg.running):\n",
    "            \n",
    "            # checking events\n",
    "            for evt in pg.event.get():\n",
    "                if(evt.type == pg.QUIT):\n",
    "                    opg.running = False\n",
    "            \n",
    "            # refreshing screen\n",
    "            opg.glClear(opg.GL_COLOR_BUFFER_BIT)\n",
    "            pg.display.flip()\n",
    "            \n",
    "            # timing\n",
    "            self.clock.tick(60)\n",
    "            \n",
    "        self.quit()\n",
    "    \n",
    "    # for deallocation of memory and resources\n",
    "    def quit(self):\n",
    "        pg.quit()\n",
    "        print(\"App Closed\")"
   ]
  },
  {
   "cell_type": "markdown",
   "id": "7db663a1",
   "metadata": {},
   "source": [
    "### Driver Code"
   ]
  },
  {
   "cell_type": "code",
   "execution_count": 3,
   "id": "74722a9f",
   "metadata": {},
   "outputs": [
    {
     "name": "stdout",
     "output_type": "stream",
     "text": [
      "App Closed\n"
     ]
    }
   ],
   "source": [
    "if __name__==\"__main__\":\n",
    "    myApp = App('App window')"
   ]
  },
  {
   "attachments": {
    "e91341bb-48b8-4c5a-bfe5-7291a5791762.png": {
     "image/png": "[encoded data removed]"
    }
   },
   "cell_type": "markdown",
   "id": "4e0138e0",
   "metadata": {},
   "source": [
    "## Output\n",
    "\n",
    "![app window](attachment:e91341bb-48b8-4c5a-bfe5-7291a5791762.png)\n",
    "***"
   ]
  }
 ],
 "metadata": {
  "kernelspec": {
   "display_name": "Python kernel developed by Saptarshi Dey",
   "language": "python",
   "name": "python3"
  },
  "language_info": {
   "codemirror_mode": {
    "name": "ipython",
    "version": 3
   },
   "file_extension": ".py",
   "mimetype": "text/x-python",
   "name": "python",
   "nbconvert_exporter": "python",
   "pygments_lexer": "ipython3",
   "version": "3.8.10"
  },
  "vscode": {
   "interpreter": {
    "hash": "916dbcbb3f70747c44a77c7bcd40155683ae19c65e1c03b4aa3499c5328201f1"
   }
  }
 },
 "nbformat": 4,
 "nbformat_minor": 5
}
