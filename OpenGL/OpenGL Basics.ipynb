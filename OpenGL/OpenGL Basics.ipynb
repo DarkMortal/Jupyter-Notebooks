{
 "cells": [
  {
   "cell_type": "markdown",
   "id": "481a7297",
   "metadata": {},
   "source": [
    "### Importing required packages"
   ]
  },
  {
   "cell_type": "code",
   "execution_count": 27,
   "id": "78af3ffb",
   "metadata": {},
   "outputs": [],
   "source": [
    "import pygame as pg\n",
    "import OpenGL.GL as opg"
   ]
  },
  {
   "cell_type": "markdown",
   "id": "7cb6f3a2",
   "metadata": {},
   "source": [
    "### Definition of App class"
   ]
  },
  {
   "cell_type": "code",
   "execution_count": 28,
   "id": "369c3ac4",
   "metadata": {},
   "outputs": [],
   "source": [
    "class App:\n",
    "    def __init__(self, title):\n",
    "        \n",
    "        # initialize pygame engine\n",
    "        pg.init()\n",
    "        pg.display.set_mode((500,600), pg.OPENGL|pg.DOUBLEBUF)\n",
    "        pg.display.set_caption(title)\n",
    "        self.clock = pg.time.Clock()\n",
    "        \n",
    "        #initialize opengl\n",
    "        opg.glClearColor(0.17,0.24,0.39,1) # RGBA Color Mode\n",
    "        self.minLoop()\n",
    "        \n",
    "    def minLoop(self):\n",
    "        opg.running = True\n",
    "        \n",
    "        # event loop\n",
    "        while(opg.running):\n",
    "            \n",
    "            # checking events\n",
    "            for evt in pg.event.get():\n",
    "                if(evt.type == pg.QUIT):\n",
    "                    opg.running = False\n",
    "            \n",
    "            # refreshing screen\n",
    "            opg.glClear(opg.GL_COLOR_BUFFER_BIT)\n",
    "            pg.display.flip()\n",
    "            \n",
    "            # timing\n",
    "            self.clock.tick(60)\n",
    "            \n",
    "        self.quit()\n",
    "    \n",
    "    # for deallocation of memory and resources\n",
    "    def quit(self):\n",
    "        pg.quit()\n",
    "        print(\"App Closed\")"
   ]
  },
  {
   "cell_type": "markdown",
   "id": "7db663a1",
   "metadata": {},
   "source": [
    "### Driver Code"
   ]
  },
  {
   "cell_type": "code",
   "execution_count": 29,
   "id": "74722a9f",
   "metadata": {},
   "outputs": [
    {
     "name": "stdout",
     "output_type": "stream",
     "text": [
      "App Closed\n"
     ]
    }
   ],
   "source": [
    "if __name__==\"__main__\":\n",
    "    myApp = App('App window')"
   ]
  },
  {
   "cell_type": "markdown",
   "id": "4e0138e0",
   "metadata": {},
   "source": [
    "## Output\n",
    "\n",
    "<img src=\"./app_window.png\" alt=\"App window\" />"
   ]
  },
  {
   "cell_type": "code",
   "execution_count": null,
   "id": "c7ff4a63",
   "metadata": {},
   "outputs": [],
   "source": []
  }
 ],
 "metadata": {
  "kernelspec": {
   "display_name": "Python 3 (ipykernel)",
   "language": "python",
   "name": "python3"
  },
  "language_info": {
   "codemirror_mode": {
    "name": "ipython",
    "version": 3
   },
   "file_extension": ".py",
   "mimetype": "text/x-python",
   "name": "python",
   "nbconvert_exporter": "python",
   "pygments_lexer": "ipython3",
   "version": "3.8.10"
  }
 },
 "nbformat": 4,
 "nbformat_minor": 5
}
