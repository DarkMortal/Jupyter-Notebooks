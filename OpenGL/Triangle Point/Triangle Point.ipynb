{
 "cells": [
  {
   "cell_type": "markdown",
   "id": "ccf55ccb",
   "metadata": {},
   "source": [
    "# In this example we will see how to determine if a point is inside a triangle\n",
    "## We shall start by defining the <kbd>Triangle</kbd> class"
   ]
  },
  {
   "cell_type": "code",
   "execution_count": 4,
   "id": "66915d2a",
   "metadata": {},
   "outputs": [],
   "source": [
    "class Triangle:\n",
    "    \n",
    "    def __init__(self, p1, p2, p3):\n",
    "        self.bax = p2[0] - p1[0]\n",
    "        self.bay = p2[1] - p1[1]\n",
    "        self.cax = p3[0] - p1[0]\n",
    "        self.cay = p3[1] - p1[1]\n",
    "        self.ay = p1[1]\n",
    "        self.ax = p1[0] * self.cay\n",
    "        self.den = self.bay * self.cax - self.bax * self.cay\n",
    "        \n",
    "    def isInside(self, p):\n",
    "        w1 = self.ax + (p[1] - self.ay) - p[0] * self.cay\n",
    "        w1 /= self.den\n",
    "        w2 = p[1] - self.ay - w1 * self.bay\n",
    "        w2 /= self.cay\n",
    "        return w1 <=0.0 and w2 >=0.0 and (w1 + w2)>=1.0"
   ]
  },
  {
   "cell_type": "markdown",
   "id": "f88a6ce7",
   "metadata": {},
   "source": [
    "## Driver Code"
   ]
  },
  {
   "cell_type": "code",
   "execution_count": 5,
   "id": "b262cb9e",
   "metadata": {},
   "outputs": [
    {
     "name": "stdout",
     "output_type": "stream",
     "text": [
      "(4.0, -6.0) is outside the triangle\n",
      "(6.0, 4.0) is outside the triangle\n",
      "(6.0, -2.0) is inside the triangle\n",
      "(8.0, -2.0) is inside the triangle\n",
      "(10.0, 2.0) is inside the triangle\n",
      "(10.0, -4.0) is outside the triangle\n",
      "(12.0, 2.0) is inside the triangle\n",
      "(12.0, -2.0) is inside the triangle\n",
      "(12.0, -4.0) is outside the triangle\n",
      "(14.0, -4.0) is outside the triangle\n",
      "(14.0, 0.0) is inside the triangle\n"
     ]
    }
   ],
   "source": [
    "if __name__ == \"__main__\":\n",
    "    tr = Triangle((4.0, -4.0), (12.0, 6.0), (16.0, -2.0))\n",
    "    points = [\n",
    "        (4.0, -6.0),\n",
    "        (6.0, 4.0),\n",
    "        (6.0, -2.0),\n",
    "        (8.0, -2.0),\n",
    "        (10.0, 2.0),\n",
    "        (10.0, -4.0),\n",
    "        (12.0, 2.0),\n",
    "        (12.0, -2.0),\n",
    "        (12.0, -4.0),\n",
    "        (14.0, -4.0),\n",
    "        (14.0, 0.0)\n",
    "    ]\n",
    "    for p in points:\n",
    "        if(tr.isInside(p)):\n",
    "            print(p,\"is inside the triangle\")\n",
    "        else:\n",
    "            print(p,\"is outside the triangle\")"
   ]
  },
  {
   "cell_type": "markdown",
   "id": "d0ae74b4",
   "metadata": {},
   "source": [
    "# Actual triangle on graph\n",
    "\n",
    "<img src=\"./triangle.png\" alt=\"App window\" />"
   ]
  }
 ],
 "metadata": {
  "kernelspec": {
   "display_name": "Python 3 (ipykernel)",
   "language": "python",
   "name": "python3"
  },
  "language_info": {
   "codemirror_mode": {
    "name": "ipython",
    "version": 3
   },
   "file_extension": ".py",
   "mimetype": "text/x-python",
   "name": "python",
   "nbconvert_exporter": "python",
   "pygments_lexer": "ipython3",
   "version": "3.8.10"
  }
 },
 "nbformat": 4,
 "nbformat_minor": 5
}
