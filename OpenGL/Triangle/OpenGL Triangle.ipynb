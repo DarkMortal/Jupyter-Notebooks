{
 "cells": [
  {
   "cell_type": "markdown",
   "metadata": {},
   "source": [
    "### Importing required functions and packages"
   ]
  },
  {
   "cell_type": "code",
   "execution_count": 1,
   "metadata": {},
   "outputs": [
    {
     "name": "stdout",
     "output_type": "stream",
     "text": [
      "pygame 2.1.2 (SDL 2.0.16, Python 3.8.10)\n",
      "Hello from the pygame community. https://www.pygame.org/contribute.html\n"
     ]
    }
   ],
   "source": [
    "import ctypes as ct\n",
    "import numpy as np\n",
    "import pygame as pg\n",
    "import OpenGL.GL as opg\n",
    "from OpenGL.GL.shaders import compileProgram, compileShader"
   ]
  },
  {
   "cell_type": "markdown",
   "metadata": {},
   "source": [
    "### This function creates and allocates memory for vertex-shaders and fragment-shaders"
   ]
  },
  {
   "cell_type": "code",
   "execution_count": 6,
   "metadata": {},
   "outputs": [],
   "source": [
    "def createShader(vertexFilepath, fragmentFilepath):\n",
    "\n",
    "    with open(vertexFilepath,'r') as f:\n",
    "        vertex_src = f.readlines()\n",
    "\n",
    "    with open(fragmentFilepath,'r') as f:\n",
    "        fragment_src = f.readlines()\n",
    "    \n",
    "    shader = compileProgram(compileShader(vertex_src, opg.GL_VERTEX_SHADER),\n",
    "                            compileShader(fragment_src, opg.GL_FRAGMENT_SHADER))\n",
    "    \n",
    "    return shader"
   ]
  },
  {
   "cell_type": "markdown",
   "metadata": {},
   "source": [
    "### Definition of Triangle class"
   ]
  },
  {
   "cell_type": "code",
   "execution_count": 7,
   "metadata": {},
   "outputs": [],
   "source": [
    "class Triangle:\n",
    "\n",
    "    def __init__(self):\n",
    "\n",
    "        # x, y, z, r, g, b\n",
    "        self.vertices = [\n",
    "            -0.5,-0.5, 0.0, 1.0, 0.0, 0.0,\n",
    "             0.5,-0.5, 0.0, 0.0, 1.0, 0.0,\n",
    "             0.0, 0.5, 0.0, 0.0, 0.0, 1.0,\n",
    "        ]\n",
    "\n",
    "        self.vertices = np.array(self.vertices, dtype=np.float32)\n",
    "        self.vertex_count = int( len(self.vertices) / 6)\n",
    "\n",
    "        # vertex array objects\n",
    "        self.vao = opg.glGenVertexArrays(1)\n",
    "        opg.glBindVertexArray(self.vao)\n",
    "\n",
    "        # vertex buffer objects\n",
    "        self.vbo = opg.glGenBuffers(1)\n",
    "        opg.glBindBuffer(opg.GL_ARRAY_BUFFER, self.vbo)\n",
    "\n",
    "        opg.glBufferData(opg.GL_ARRAY_BUFFER, self.vertices.nbytes, self.vertices, opg.GL_STATIC_DRAW)\n",
    "        opg.glEnableVertexAttribArray(0)\n",
    "        opg.glVertexAttribPointer(0, 3, opg.GL_FLOAT, opg.GL_FALSE, 24, ct.c_void_p(0))\n",
    "        opg.glEnableVertexAttribArray(1)\n",
    "        opg.glVertexAttribPointer(1, 3, opg.GL_FLOAT, opg.GL_FALSE, 24, ct.c_void_p(12))\n",
    "\n",
    "    def destroy(self):\n",
    "        opg.glDeleteVertexArrays(1, [self.vao])\n",
    "        opg.glDeleteBuffers(1, [self.vbo])\n"
   ]
  },
  {
   "cell_type": "markdown",
   "metadata": {},
   "source": [
    "### Definition of App class"
   ]
  },
  {
   "cell_type": "code",
   "execution_count": 8,
   "metadata": {},
   "outputs": [],
   "source": [
    "class App:\n",
    "    def __init__(self, title):\n",
    "        \n",
    "        # initialize pygame engine\n",
    "        pg.init()\n",
    "        pg.display.set_mode((500,600), pg.OPENGL|pg.DOUBLEBUF)\n",
    "        pg.display.set_caption(title)\n",
    "        self.clock = pg.time.Clock()\n",
    "\n",
    "        # defining paths for vertex and fragment shaders\n",
    "        self.vertexFilepath = \"./shaders/vertex.txt\"\n",
    "        self.fragmentFilepath = \"./shaders/fragment.txt\"\n",
    "\n",
    "        # adding vertex and fragment buffer data\n",
    "        self.triangle = Triangle()\n",
    "        self.shader = createShader(self.vertexFilepath, self.fragmentFilepath)\n",
    "        opg.glUseProgram(self.shader)\n",
    "        \n",
    "        # initialize opengl\n",
    "        opg.glClearColor(0.17,0.24,0.39,1) # RGBA Color Mode\n",
    "        self.minLoop()\n",
    "        \n",
    "    def minLoop(self):\n",
    "        opg.running = True\n",
    "        \n",
    "        # event loop\n",
    "        while(opg.running):\n",
    "            \n",
    "            # checking events\n",
    "            for evt in pg.event.get():\n",
    "                if(evt.type == pg.QUIT):\n",
    "                    opg.running = False\n",
    "            \n",
    "            # refreshing screen\n",
    "            opg.glClear(opg.GL_COLOR_BUFFER_BIT)\n",
    "\n",
    "            # draw the triangle\n",
    "            opg.glUseProgram(self.shader)\n",
    "            opg.glBindVertexArray(self.triangle.vao)\n",
    "            opg.glDrawArrays(opg.GL_TRIANGLES, 0, self.triangle.vertex_count)\n",
    "\n",
    "            pg.display.flip()\n",
    "            \n",
    "            # timing\n",
    "            self.clock.tick(60)\n",
    "            \n",
    "        self.quit()\n",
    "    \n",
    "    # for deallocation of memory and resources\n",
    "    def quit(self):\n",
    "        self.triangle.destroy()\n",
    "        opg.glDeleteProgram(self.shader)\n",
    "        pg.quit()\n",
    "        print(\"App Closed\")"
   ]
  },
  {
   "cell_type": "markdown",
   "metadata": {},
   "source": [
    "### Driver Code"
   ]
  },
  {
   "cell_type": "code",
   "execution_count": 9,
   "metadata": {},
   "outputs": [
    {
     "name": "stdout",
     "output_type": "stream",
     "text": [
      "App Closed\n"
     ]
    }
   ],
   "source": [
    "if __name__ == \"__main__\":\n",
    "    myApp = App(\"OpenGL Triangle\")"
   ]
  },
  {
   "cell_type": "markdown",
   "metadata": {},
   "source": [
    "## Output\n",
    "\n",
    "![App window](./opengl_triangle.png)\n",
    "***"
   ]
  }
 ],
 "metadata": {
  "kernelspec": {
   "display_name": "Python 3 (ipykernel)",
   "language": "python",
   "name": "python3"
  },
  "language_info": {
   "codemirror_mode": {
    "name": "ipython",
    "version": 3
   },
   "file_extension": ".py",
   "mimetype": "text/x-python",
   "name": "python",
   "nbconvert_exporter": "python",
   "pygments_lexer": "ipython3",
   "version": "3.8.10"
  },
  "vscode": {
   "interpreter": {
    "hash": "916dbcbb3f70747c44a77c7bcd40155683ae19c65e1c03b4aa3499c5328201f1"
   }
  }
 },
 "nbformat": 4,
 "nbformat_minor": 4
}
