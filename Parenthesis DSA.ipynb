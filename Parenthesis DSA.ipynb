{
 "cells": [
  {
   "cell_type": "markdown",
   "id": "16e793cc",
   "metadata": {},
   "source": [
    "## Given n pairs of parentheses, write a function to generate all combinations of well-formed parentheses.\n",
    "\n",
    "## Example:\n",
    "\n",
    "    Input: Enter N: 2\n",
    "    Output:\n",
    "    (())\n",
    "    ()()\n",
    "    \n",
    "    Input: Enter N: 3\n",
    "    Output:\n",
    "    ((()))\n",
    "    (()())\n",
    "    (())()\n",
    "    ()(())\n",
    "    ()()()"
   ]
  },
  {
   "cell_type": "code",
   "execution_count": 10,
   "id": "7393a230",
   "metadata": {},
   "outputs": [],
   "source": [
    "parenthesis = []\n",
    "\n",
    "def binomialCoeff(n, k):\n",
    "    res = 1\n",
    "    # Since C(n, k) = C(n, n-k)\n",
    "    if (k > n - k):\n",
    "        k = n - k\n",
    "    # Calculate value of [n*(n-1)*---\n",
    "    # *(n-k+1)] / [k*(k-1)*---*1]\n",
    "    for i in range(k):\n",
    "        res *= (n - i)\n",
    "        res /= (i + 1)\n",
    "    return int(res)"
   ]
  },
  {
   "cell_type": "markdown",
   "id": "df252943",
   "metadata": {},
   "source": [
    "### This function computes the total number of balanced strings using catalan numbers"
   ]
  },
  {
   "cell_type": "code",
   "execution_count": 11,
   "id": "3640aa8a",
   "metadata": {},
   "outputs": [],
   "source": [
    "def catalan(n):\n",
    "    # Calculate value of 2nCn\n",
    "    c = binomialCoeff(2 * n, n)\n",
    "    # return 2nCn/(n+1)\n",
    "    return int(c / (n + 1))"
   ]
  },
  {
   "cell_type": "markdown",
   "id": "465767fa",
   "metadata": {},
   "source": [
    "### This function checks if the given string is balanced or not"
   ]
  },
  {
   "cell_type": "code",
   "execution_count": 12,
   "id": "cf7dd216",
   "metadata": {},
   "outputs": [],
   "source": [
    "def isValid(string:str):\n",
    "    if string[0] != '(' or string[-1] != ')':\n",
    "        return False\n",
    "    stack = []\n",
    "    for i in string:\n",
    "        # if opening parenthesis is found, push it to stack\n",
    "        if i == '(':\n",
    "            stack.append(i)\n",
    "        elif i == ')':\n",
    "            # if closing parenthesis is found, pop stack if corresponding opening parenthesis is in stack\n",
    "            try:\n",
    "                stack.pop()\n",
    "            # if closing parenthesis is found but stack is empty, the string is unbalanced\n",
    "            except IndexError:\n",
    "                return False\n",
    "    return len(stack) == 0"
   ]
  },
  {
   "cell_type": "markdown",
   "id": "e7f4554a",
   "metadata": {},
   "source": [
    "### Find total number of balanced strings"
   ]
  },
  {
   "cell_type": "code",
   "execution_count": 13,
   "id": "8b1563b9",
   "metadata": {},
   "outputs": [],
   "source": [
    "def findWays(n):\n",
    "    # Check if n is odd, since it is not possible to create any valid parentheses\n",
    "    if(n & 1):\n",
    "        return 0\n",
    "    # Otherwise return n/2'th Catalan Numer\n",
    "    return catalan(int(n >> 1))"
   ]
  },
  {
   "cell_type": "markdown",
   "id": "ff547f18",
   "metadata": {},
   "source": [
    "### Definition of Solution class"
   ]
  },
  {
   "cell_type": "code",
   "execution_count": 14,
   "id": "e71e2fc4",
   "metadata": {},
   "outputs": [],
   "source": [
    "class Solution:\n",
    "    def recurse(self, m:int, n:int, total:int, string = \"\"):\n",
    "        if len(parenthesis) >= total:\n",
    "            return\n",
    "        if m == 0 and n == 0:\n",
    "            if isValid(string):\n",
    "                parenthesis.append(string)\n",
    "            return\n",
    "        if m>0:\n",
    "            self.recurse(m-1,n,total,string+\"(\")\n",
    "        if n>0:\n",
    "            self.recurse(m,n-1,total,string+\")\")\n",
    "\n",
    "    def generateParenthesis(self, n: int):\n",
    "        parenthesis.clear()\n",
    "        self.recurse(n,n,findWays(n << 1))"
   ]
  },
  {
   "cell_type": "markdown",
   "id": "bc1eb4ee",
   "metadata": {},
   "source": [
    "### Driver code"
   ]
  },
  {
   "cell_type": "code",
   "execution_count": 9,
   "id": "d5ed2678",
   "metadata": {},
   "outputs": [
    {
     "name": "stdout",
     "output_type": "stream",
     "text": [
      "Enter N:4\n",
      "(((())))\n",
      "((()()))\n",
      "((())())\n",
      "((()))()\n",
      "(()(()))\n",
      "(()()())\n",
      "(()())()\n",
      "(())(())\n",
      "(())()()\n",
      "()((()))\n",
      "()(()())\n",
      "()(())()\n",
      "()()(())\n",
      "()()()()\n"
     ]
    }
   ],
   "source": [
    "if __name__==\"__main__\":\n",
    "    sln = Solution()\n",
    "    sln.generateParenthesis(int(input(\"Enter N:\")))\n",
    "\n",
    "    for i in parenthesis:\n",
    "        print(i)"
   ]
  },
  {
   "cell_type": "code",
   "execution_count": null,
   "id": "157315d1",
   "metadata": {},
   "outputs": [],
   "source": []
  }
 ],
 "metadata": {
  "kernelspec": {
   "display_name": "Python 3 (ipykernel)",
   "language": "python",
   "name": "python3"
  },
  "language_info": {
   "codemirror_mode": {
    "name": "ipython",
    "version": 3
   },
   "file_extension": ".py",
   "mimetype": "text/x-python",
   "name": "python",
   "nbconvert_exporter": "python",
   "pygments_lexer": "ipython3",
   "version": "3.8.10"
  }
 },
 "nbformat": 4,
 "nbformat_minor": 5
}
