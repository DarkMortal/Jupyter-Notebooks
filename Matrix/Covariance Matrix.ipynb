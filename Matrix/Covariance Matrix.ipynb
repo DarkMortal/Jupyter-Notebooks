{
 "cells": [
  {
   "cell_type": "markdown",
   "id": "70514d77-8a12-4fd7-9db5-24332213e21a",
   "metadata": {},
   "source": [
    "# Covariant-matrix of a matrix\n",
    "## Types of variance and covariance\n",
    "- **Population variance:** Used when you have data for the entire population.\n",
    "$$\\sigma^2 = \\frac{1}{N} \\sum_{i=1}^{N} (x_i - \\mu)^2$$\n",
    "- **Sample variance:** Used when you only have a sample of the population. To avoid bias, divide by $n-1$ instead of $n$.\n",
    "$$s^2 = \\frac{1}{n-1} \\sum_{i=1}^{n} (x_i - \\bar{x})^2$$\n",
    "The same thing goes for covariance.\n",
    "- **Population covariance**\n",
    "$$\\text{Cov}(X, Y) = \\frac{1}{N} \\sum_{i=1}^{N} (x_i - \\mu_X)(y_i - \\mu_Y)$$\n",
    "- **Sample covariance**\n",
    "$$\\text{Cov}(X, Y) = \\frac{1}{n-1} \\sum_{i=1}^{n} (x_i - \\bar{x})(y_i - \\bar{y})$$\n",
    "When estimating variance or covariance from a sample, using $n$ underestimates the true variability (bias).\n",
    "So instead of dividing by $n$, we divide by $n-1$. This is called Bessel's correction.\n",
    "***\n",
    "<br/> There are 2 popular ways of finding the covariant-matrix of a matrix:\n",
    "## 1. The direct method\n",
    "If we want to find the covariant matrix w.r.t the column:\n",
    "$$ \\begin{bmatrix}\n",
    "Var(r_1) & Cov(r_1, r_2) & \\cdots & Cov(r_1, r_n) \\\\\n",
    "Cov(r_2, r_1) & Var(r_2) & \\cdots & Cov(r_2, r_n) \\\\\n",
    "\\vdots & \\vdots & \\ddots & \\vdots \\\\\n",
    "Cov(r_n, r_1) & Cov(r_n, r_2) & \\cdots & Var(r_n)\n",
    "\\end{bmatrix} $$\n",
    "If we want to find the covariant matrix w.r.t the row, we just transpose the input matrix and do the same operation.\n",
    "## 2. The matrix formulation method\n",
    "- If we want to find the covariant matrix w.r.t the column, calculate the mean of each column and subtract that value from each of the columns. Let the resultant matrix be $X$.\n",
    "$$\\text{Covariance matrix with Bessel's correction}=\\frac{1}{N-1}X \\ X^T$$\n",
    "- If we want to find the covariant matrix w.r.t the row, calculate the mean of each row and subtract that value from each of the rows. Let the resultant matrix be $X$.\n",
    "$$\\text{Covariance matrix with Bessel's correction}=\\frac{1}{n-1}X^T \\ X$$\n",
    "***"
   ]
  },
  {
   "cell_type": "code",
   "execution_count": 1,
   "id": "b4a26082-4f26-4bc3-ae09-4083086aa2e6",
   "metadata": {},
   "outputs": [],
   "source": [
    "matrix = [\n",
    " [2, 5, -7, 8],\n",
    " [-5, 9, -1, -3],\n",
    " [-1, 2, -2, 3],\n",
    " [-8, -6, 7, 10]\n",
    "]"
   ]
  },
  {
   "cell_type": "markdown",
   "id": "b175f7ac-d4d7-4bd2-8944-d444d41d49b1",
   "metadata": {},
   "source": [
    "## Function to find covariance between 2 arrays"
   ]
  },
  {
   "cell_type": "code",
   "execution_count": 2,
   "id": "d31ce7bd-f6b9-4edf-8e9d-9855aa6a6c3f",
   "metadata": {},
   "outputs": [],
   "source": [
    "from typing import List\n",
    "\n",
    "def covariance(arr1: List[float], arr2: List[float], ddof: int = 1) -> float:\n",
    "    \"\"\"\n",
    "    Calculate the covariance between two arrays using only standard Python.\n",
    "    \n",
    "    Parameters:\n",
    "    arr1, arr2 : list\n",
    "        Input arrays of the same length\n",
    "    \n",
    "    Returns:\n",
    "    float\n",
    "        Covariance between arr1 and arr2\n",
    "    \"\"\"\n",
    "    if len(arr1) != len(arr2):\n",
    "        raise ValueError(\"Arrays must have the same length\")\n",
    "    if len(arr1) == 0:\n",
    "        raise ValueError(\"Arrays cannot be empty\")\n",
    "    \n",
    "    n = len(arr1)\n",
    "    mean1 = sum(arr1) / n\n",
    "    mean2 = sum(arr2) / n\n",
    "    \n",
    "    # Calculate covariance: sum((x_i - mean1) * (y_i - mean2)) / (n - 1)\n",
    "    return sum((x - mean1) * (y - mean2) for x, y in zip(arr1, arr2)) / (n - ddof)"
   ]
  },
  {
   "cell_type": "markdown",
   "id": "4596a62d-2fec-4a74-b2b2-0d4dfbe705d8",
   "metadata": {},
   "source": [
    "## Function to multiply 2 matrices"
   ]
  },
  {
   "cell_type": "code",
   "execution_count": 3,
   "id": "d02b8249-0a0f-43fb-aa99-bea1e1079cce",
   "metadata": {},
   "outputs": [],
   "source": [
    "def matrix_multiply(A: List[List[float]], B: List[List[float]]) -> List[List[float]]:\n",
    "    \"\"\"\n",
    "    Multiply two matrices A and B using standard Python.\n",
    "    \n",
    "    Parameters:\n",
    "    A : list of lists\n",
    "        First matrix (m x n)\n",
    "    B : list of lists\n",
    "        Second matrix (n x p)\n",
    "    \n",
    "    Returns:\n",
    "    list of lists\n",
    "        Resulting matrix (m x p)\n",
    "    \"\"\"\n",
    "    # Check if matrices can be multiplied\n",
    "    if not A or not B or len(A[0]) != len(B):\n",
    "        raise ValueError(\"Invalid matrix dimensions for multiplication\")\n",
    "    \n",
    "    rows_A = len(A)\n",
    "    cols_A = len(A[0])\n",
    "    cols_B = len(B[0])\n",
    "    \n",
    "    # Initialize result matrix with zeros\n",
    "    result = [[0 for _ in range(cols_B)] for _ in range(rows_A)]\n",
    "    \n",
    "    # Perform matrix multiplication\n",
    "    for i in range(rows_A):\n",
    "        for j in range(cols_B):\n",
    "            for k in range(cols_A):\n",
    "                result[i][j] += A[i][k] * B[k][j]\n",
    "    \n",
    "    return result"
   ]
  },
  {
   "cell_type": "markdown",
   "id": "6d8b0a97-5d6f-45f4-941a-fd4f9c7dea83",
   "metadata": {},
   "source": [
    "## Function to multiply a scalar to a matrix"
   ]
  },
  {
   "cell_type": "code",
   "execution_count": 4,
   "id": "12b0d58d-8dde-424c-b51a-3f7f080d59ff",
   "metadata": {},
   "outputs": [],
   "source": [
    "def scalar_matrix_multiply(scalar, matrix):\n",
    "    \"\"\"\n",
    "    Multiply a scalar by each element of a matrix.\n",
    "    \n",
    "    Parameters:\n",
    "    scalar : number (int or float)\n",
    "        The scalar value to multiply\n",
    "    matrix : list of lists\n",
    "        Input matrix (m x n)\n",
    "    \n",
    "    Returns:\n",
    "    list of lists\n",
    "        Resulting matrix (m x n) with each element multiplied by scalar\n",
    "    \"\"\"\n",
    "    if not matrix or not matrix[0]:\n",
    "        raise ValueError(\"Matrix cannot be empty\")\n",
    "    \n",
    "    rows = len(matrix)\n",
    "    cols = len(matrix[0])\n",
    "    \n",
    "    # Initialize result matrix\n",
    "    result = [[0 for _ in range(cols)] for _ in range(rows)]\n",
    "    \n",
    "    # Perform scalar multiplication\n",
    "    for i in range(rows):\n",
    "        for j in range(cols):\n",
    "            result[i][j] = round(scalar * matrix[i][j], 2)\n",
    "    \n",
    "    return result"
   ]
  },
  {
   "cell_type": "markdown",
   "id": "50d69ea2-2e1b-4f69-bb00-f2046bfb4949",
   "metadata": {},
   "source": [
    "## Function to transpose a matrix"
   ]
  },
  {
   "cell_type": "code",
   "execution_count": 5,
   "id": "d6494bcf-a5c1-4379-b269-f86cc6c4a927",
   "metadata": {},
   "outputs": [],
   "source": [
    "def matrix_transpose(matrix: List[List[float]]) -> List[List[float]]:\n",
    "    \"\"\"\n",
    "    Calculate the transpose of a matrix.\n",
    "    \n",
    "    Parameters:\n",
    "    matrix : list of lists\n",
    "        Input matrix (m x n)\n",
    "    \n",
    "    Returns:\n",
    "    list of lists\n",
    "        Transposed matrix (n x m)\n",
    "    \"\"\"\n",
    "    if not matrix or not matrix[0]:\n",
    "        raise ValueError(\"Matrix cannot be empty\")\n",
    "    \n",
    "    rows = len(matrix)\n",
    "    cols = len(matrix[0])\n",
    "    \n",
    "    # Initialize result matrix with dimensions (cols x rows)\n",
    "    result = [[0 for _ in range(rows)] for _ in range(cols)]\n",
    "    \n",
    "    # Compute transpose\n",
    "    for i in range(rows):\n",
    "        for j in range(cols):\n",
    "            result[j][i] = matrix[i][j]\n",
    "    \n",
    "    return result"
   ]
  },
  {
   "cell_type": "markdown",
   "id": "fd7bbf6e-eda1-4ffa-bbee-b0c80e3bd498",
   "metadata": {},
   "source": [
    "## Direct method to find covariance"
   ]
  },
  {
   "cell_type": "code",
   "execution_count": 6,
   "id": "b5e87ade-0e98-4ca4-be59-9ad056f2d851",
   "metadata": {},
   "outputs": [],
   "source": [
    "def mean(arr: List[int]):\n",
    "    return sum(arr) / len(arr)\n",
    "\n",
    "def variance(arr: List[int], ddof: int = 1):\n",
    "    n = len(arr)\n",
    "    mean_ = sum(arr) / n\n",
    "    return sum([(mean_ - i) ** 2 for i in arr]) / (n - ddof)\n",
    "\n",
    "def covariance_matrix_direct(matrix_: List[List[float]], ddof_ = 1, axis = 0) -> List[List[float]]:\n",
    "    \"\"\" Parameters\n",
    "    ddof_: 0 if bessel's correction is to be applied, otherwise 1\n",
    "    axis: 0 if we want the correlation between rows, otherwise (for column) 1\n",
    "    \"\"\"\n",
    "    n = len(matrix)\n",
    "    m = len(matrix_[0])\n",
    "\n",
    "    if not n == m:\n",
    "        raise ValueError(\"Number of rwos and column of matrix must be equal\")\n",
    "\n",
    "    if not (axis == 0 or axis == 1):\n",
    "        raise ValueError(\"Axis must be either 0 or 1\")\n",
    "    \n",
    "    matrix_t = (matrix_transpose(matrix_) if axis == 1 else matrix_)\n",
    "    covariance_matrix = []\n",
    "    \n",
    "    for i in range(n):\n",
    "        arr = []\n",
    "        for j in range(n):\n",
    "            if i == j:\n",
    "               arr.append(round(variance(matrix_t[i], ddof = ddof_), 2))\n",
    "            else:\n",
    "               arr.append(round(covariance(matrix_t[i], matrix_t[j], ddof = ddof_), 2))\n",
    "        covariance_matrix.append(arr[:])\n",
    "    \n",
    "    return covariance_matrix"
   ]
  },
  {
   "cell_type": "markdown",
   "id": "bfd6015e-4dd8-40ea-b818-6ea44344fa02",
   "metadata": {},
   "source": [
    "## Matrix formulation method to find covariance"
   ]
  },
  {
   "cell_type": "code",
   "execution_count": 7,
   "id": "a8c27222-8208-49e9-819b-d18362e05a53",
   "metadata": {},
   "outputs": [],
   "source": [
    "def covariance_matrix_formulation(matrix_: List[List[float]], ddof_: int = 1, axis = 0) -> List[List[float]]:\n",
    "    \"\"\" Parameters\n",
    "    ddof_: 0 if bessel's correction is to be applied, otherwise 1\n",
    "    axis: 0 if we want the correlation between rows, otherwise (for column) 1\n",
    "    \"\"\"\n",
    "    n = len(matrix_)\n",
    "    m = len(matrix_[0])\n",
    "\n",
    "    if not n == m:\n",
    "        raise ValueError(\"Number of rwos and column of matrix must be equal\")\n",
    "\n",
    "    if not (axis == 0 or axis == 1):\n",
    "        raise ValueError(\"Axis must be either 0 or 1\")\n",
    "    \n",
    "    mean_vector = (\n",
    "        [mean([matrix_[i][j] for i in range(n)]) for j in range(n)] if axis == 1\n",
    "        else [mean([matrix_[i][j] for j in range(n)]) for i in range(n)]\n",
    "    )\n",
    "    \n",
    "    matrix_t = [row[:] for row in matrix]  # deep-copy of the matrix\n",
    "    \n",
    "    for row in range(n):\n",
    "        for column in range(n):\n",
    "            matrix_t[row][column] -= mean_vector[(column if axis == 1 else row)] \n",
    "    \n",
    "    if axis == 1:\n",
    "        covariance_matrix = matrix_multiply(matrix_transpose(matrix_t), matrix_t)\n",
    "    else:\n",
    "        covariance_matrix = matrix_multiply(matrix_t, matrix_transpose(matrix_t))\n",
    "    return scalar_matrix_multiply(1.0 / (n - ddof_), covariance_matrix)"
   ]
  },
  {
   "cell_type": "markdown",
   "id": "abeedba3-5ac6-4c58-97d4-ff0923da4697",
   "metadata": {},
   "source": [
    "## Driver code for Direct Method with Bessel correction\n",
    "### W.r.t column"
   ]
  },
  {
   "cell_type": "code",
   "execution_count": 8,
   "id": "2d5f1184-adf8-47ca-b732-e0c0263f0073",
   "metadata": {},
   "outputs": [
    {
     "data": {
      "text/plain": [
       "[[19.33, 13.67, -24.0, 0.67],\n",
       " [13.67, 40.33, -27.5, -28.67],\n",
       " [-24.0, -27.5, 33.58, 8.17],\n",
       " [0.67, -28.67, 8.17, 33.67]]"
      ]
     },
     "execution_count": 8,
     "metadata": {},
     "output_type": "execute_result"
    }
   ],
   "source": [
    "covariance_matrix_direct(matrix, axis = 1)"
   ]
  },
  {
   "cell_type": "markdown",
   "id": "489b43b3-9d16-4313-8b96-00033453edbd",
   "metadata": {},
   "source": [
    "### W.r.t row"
   ]
  },
  {
   "cell_type": "code",
   "execution_count": 9,
   "id": "71d4a049-3acd-442e-9bf1-5f73d761efeb",
   "metadata": {},
   "outputs": [
    {
     "data": {
      "text/plain": [
       "[[42.0, 6.0, 14.0, -7.0],\n",
       " [6.0, 38.67, 5.33, -17.0],\n",
       " [14.0, 5.33, 5.67, 3.5],\n",
       " [-7.0, -17.0, 3.5, 82.25]]"
      ]
     },
     "execution_count": 9,
     "metadata": {},
     "output_type": "execute_result"
    }
   ],
   "source": [
    "covariance_matrix_direct(matrix, axis = 0)"
   ]
  },
  {
   "cell_type": "markdown",
   "id": "4688daf4-92a2-40c9-938c-af0002d115c6",
   "metadata": {},
   "source": [
    "***\n",
    "## Driver code for Direct Method without Bessel correction\n",
    "### W.r.t column"
   ]
  },
  {
   "cell_type": "code",
   "execution_count": 10,
   "id": "81613918-6e54-4419-9028-b5cca41c6cd8",
   "metadata": {},
   "outputs": [
    {
     "data": {
      "text/plain": [
       "[[14.5, 10.25, -18.0, 0.5],\n",
       " [10.25, 30.25, -20.62, -21.5],\n",
       " [-18.0, -20.62, 25.19, 6.12],\n",
       " [0.5, -21.5, 6.12, 25.25]]"
      ]
     },
     "execution_count": 10,
     "metadata": {},
     "output_type": "execute_result"
    }
   ],
   "source": [
    "covariance_matrix_direct(matrix, ddof_ = 0, axis = 1)"
   ]
  },
  {
   "cell_type": "markdown",
   "id": "0a0e1fa7-18d1-4cdf-9a1e-b3281519ff95",
   "metadata": {},
   "source": [
    "### W.r.t row"
   ]
  },
  {
   "cell_type": "code",
   "execution_count": 11,
   "id": "e1c09cf8-b4c1-48d6-b4ee-296ed80ef056",
   "metadata": {},
   "outputs": [
    {
     "data": {
      "text/plain": [
       "[[31.5, 4.5, 10.5, -5.25],\n",
       " [4.5, 29.0, 4.0, -12.75],\n",
       " [10.5, 4.0, 4.25, 2.62],\n",
       " [-5.25, -12.75, 2.62, 61.69]]"
      ]
     },
     "execution_count": 11,
     "metadata": {},
     "output_type": "execute_result"
    }
   ],
   "source": [
    "covariance_matrix_direct(matrix, ddof_ = 0, axis = 0)"
   ]
  },
  {
   "cell_type": "markdown",
   "id": "d87529f7-c97f-4df9-811d-4e3475375905",
   "metadata": {},
   "source": [
    "***\n",
    "## Driver code for Matrix Formulatiom Method with Bessel correction\n",
    "### W.r.t column"
   ]
  },
  {
   "cell_type": "code",
   "execution_count": 12,
   "id": "a05bd0ef-05dd-4a24-9d71-8072a072e9b3",
   "metadata": {},
   "outputs": [
    {
     "data": {
      "text/plain": [
       "[[19.33, 13.67, -24.0, 0.67],\n",
       " [13.67, 40.33, -27.5, -28.67],\n",
       " [-24.0, -27.5, 33.58, 8.17],\n",
       " [0.67, -28.67, 8.17, 33.67]]"
      ]
     },
     "execution_count": 12,
     "metadata": {},
     "output_type": "execute_result"
    }
   ],
   "source": [
    "covariance_matrix_formulation(matrix, axis = 1)"
   ]
  },
  {
   "cell_type": "markdown",
   "id": "0e3da8d1-c514-498a-98da-6722f9f55806",
   "metadata": {},
   "source": [
    "### W.r.t row"
   ]
  },
  {
   "cell_type": "code",
   "execution_count": 13,
   "id": "b338a9c4-69e9-406f-b9ba-6d6d0d588274",
   "metadata": {},
   "outputs": [
    {
     "data": {
      "text/plain": [
       "[[42.0, 6.0, 14.0, -7.0],\n",
       " [6.0, 38.67, 5.33, -17.0],\n",
       " [14.0, 5.33, 5.67, 3.5],\n",
       " [-7.0, -17.0, 3.5, 82.25]]"
      ]
     },
     "execution_count": 13,
     "metadata": {},
     "output_type": "execute_result"
    }
   ],
   "source": [
    "covariance_matrix_formulation(matrix, axis = 0)"
   ]
  },
  {
   "cell_type": "markdown",
   "id": "b5fb7713-cca1-4632-8d0f-9d8c3cb044e1",
   "metadata": {},
   "source": [
    "***\n",
    "## Driver code for Matrix Formulatiom Method without Bessel correction\n",
    "### W.r.t column"
   ]
  },
  {
   "cell_type": "code",
   "execution_count": 14,
   "id": "c5abfbb0-b33e-4010-9195-0d5aeeb25526",
   "metadata": {},
   "outputs": [
    {
     "data": {
      "text/plain": [
       "[[14.5, 10.25, -18.0, 0.5],\n",
       " [10.25, 30.25, -20.62, -21.5],\n",
       " [-18.0, -20.62, 25.19, 6.12],\n",
       " [0.5, -21.5, 6.12, 25.25]]"
      ]
     },
     "execution_count": 14,
     "metadata": {},
     "output_type": "execute_result"
    }
   ],
   "source": [
    "covariance_matrix_formulation(matrix, ddof_ = 0, axis = 1)"
   ]
  },
  {
   "cell_type": "markdown",
   "id": "de7328ac-b3a5-4a7b-899a-5e27219f34bb",
   "metadata": {},
   "source": [
    "### W.r.t row"
   ]
  },
  {
   "cell_type": "code",
   "execution_count": 15,
   "id": "c2011d63-d2b2-4ca3-8deb-0ccd7a9934ab",
   "metadata": {},
   "outputs": [
    {
     "data": {
      "text/plain": [
       "[[31.5, 4.5, 10.5, -5.25],\n",
       " [4.5, 29.0, 4.0, -12.75],\n",
       " [10.5, 4.0, 4.25, 2.62],\n",
       " [-5.25, -12.75, 2.62, 61.69]]"
      ]
     },
     "execution_count": 15,
     "metadata": {},
     "output_type": "execute_result"
    }
   ],
   "source": [
    "covariance_matrix_formulation(matrix, ddof_ = 0, axis = 0)"
   ]
  },
  {
   "cell_type": "markdown",
   "id": "5e3d9a93-9c0a-4eda-95a0-4736e810da95",
   "metadata": {},
   "source": [
    "***\n",
    "## Driver code for covariance using `numpy` with bessel correction\n",
    "### W.r.t column"
   ]
  },
  {
   "cell_type": "code",
   "execution_count": 16,
   "id": "bc690ac7-3c68-4b77-a026-6569a5dacdab",
   "metadata": {},
   "outputs": [
    {
     "data": {
      "text/plain": [
       "array([[ 19.33333333,  13.66666667, -24.        ,   0.66666667],\n",
       "       [ 13.66666667,  40.33333333, -27.5       , -28.66666667],\n",
       "       [-24.        , -27.5       ,  33.58333333,   8.16666667],\n",
       "       [  0.66666667, -28.66666667,   8.16666667,  33.66666667]])"
      ]
     },
     "execution_count": 16,
     "metadata": {},
     "output_type": "execute_result"
    }
   ],
   "source": [
    "import numpy as np\n",
    "\n",
    "covariance_matrix = np.cov(matrix, rowvar = False)\n",
    "covariance_matrix"
   ]
  },
  {
   "cell_type": "markdown",
   "id": "933d8506-5657-47a6-b2f6-8280f8f81f28",
   "metadata": {},
   "source": [
    "### W.r.t row"
   ]
  },
  {
   "cell_type": "code",
   "execution_count": 17,
   "id": "29f93075-6adb-4c2e-9136-ea402c072e12",
   "metadata": {},
   "outputs": [
    {
     "data": {
      "text/plain": [
       "array([[ 42.        ,   6.        ,  14.        ,  -7.        ],\n",
       "       [  6.        ,  38.66666667,   5.33333333, -17.        ],\n",
       "       [ 14.        ,   5.33333333,   5.66666667,   3.5       ],\n",
       "       [ -7.        , -17.        ,   3.5       ,  82.25      ]])"
      ]
     },
     "execution_count": 17,
     "metadata": {},
     "output_type": "execute_result"
    }
   ],
   "source": [
    "covariance_matrix = np.cov(matrix, rowvar = True)\n",
    "covariance_matrix"
   ]
  },
  {
   "cell_type": "markdown",
   "id": "c80d9048-6fc7-4847-b9ec-0af184e7bdec",
   "metadata": {},
   "source": [
    "***\n",
    "## Driver code for covariance using `numpy` without bessel correction\n",
    "### W.r.t column"
   ]
  },
  {
   "cell_type": "code",
   "execution_count": 18,
   "id": "ff21a999-d586-4589-813d-885ed8938d78",
   "metadata": {},
   "outputs": [
    {
     "data": {
      "text/plain": [
       "array([[ 14.5   ,  10.25  , -18.    ,   0.5   ],\n",
       "       [ 10.25  ,  30.25  , -20.625 , -21.5   ],\n",
       "       [-18.    , -20.625 ,  25.1875,   6.125 ],\n",
       "       [  0.5   , -21.5   ,   6.125 ,  25.25  ]])"
      ]
     },
     "execution_count": 18,
     "metadata": {},
     "output_type": "execute_result"
    }
   ],
   "source": [
    "covariance_matrix = np.cov(matrix, ddof = 0, rowvar = False)\n",
    "covariance_matrix"
   ]
  },
  {
   "cell_type": "markdown",
   "id": "1f6cba80-ac23-4f46-bb92-a8b9bb2a9190",
   "metadata": {},
   "source": [
    "### W.r.t row"
   ]
  },
  {
   "cell_type": "code",
   "execution_count": 19,
   "id": "a323fa12-4b90-4c47-9f84-69eafbd33b42",
   "metadata": {},
   "outputs": [
    {
     "data": {
      "text/plain": [
       "array([[ 31.5   ,   4.5   ,  10.5   ,  -5.25  ],\n",
       "       [  4.5   ,  29.    ,   4.    , -12.75  ],\n",
       "       [ 10.5   ,   4.    ,   4.25  ,   2.625 ],\n",
       "       [ -5.25  , -12.75  ,   2.625 ,  61.6875]])"
      ]
     },
     "execution_count": 19,
     "metadata": {},
     "output_type": "execute_result"
    }
   ],
   "source": [
    "covariance_matrix = np.cov(matrix, ddof = 0, rowvar = True)\n",
    "covariance_matrix"
   ]
  },
  {
   "cell_type": "markdown",
   "id": "90e75915-deab-4496-9cb5-df4b3c0e12c4",
   "metadata": {},
   "source": [
    "***"
   ]
  }
 ],
 "metadata": {
  "kernelspec": {
   "display_name": "Python kernel developed by Saptarshi Dey",
   "language": "python",
   "name": "python3"
  },
  "language_info": {
   "codemirror_mode": {
    "name": "ipython",
    "version": 3
   },
   "file_extension": ".py",
   "mimetype": "text/x-python",
   "name": "python",
   "nbconvert_exporter": "python",
   "pygments_lexer": "ipython3",
   "version": "3.8.10"
  },
  "widgets": {
   "application/vnd.jupyter.widget-state+json": {
    "state": {},
    "version_major": 2,
    "version_minor": 0
   }
  }
 },
 "nbformat": 4,
 "nbformat_minor": 5
}
