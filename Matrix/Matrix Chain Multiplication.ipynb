{
 "cells": [
  {
   "cell_type": "markdown",
   "id": "d941d100-201e-43a7-9855-d849749a18a4",
   "metadata": {},
   "source": []
  },
  {
   "cell_type": "markdown",
   "id": "3ae957df-d274-40fd-b525-dd5393c477e8",
   "metadata": {},
   "source": [
    "# Matrix Chain Multiplication\n",
    "### Algorithm\n",
    "- Create the partition half-table with size $n$ (number of matrices) and iitialize each cell with 0.\n",
    "- Cost of multiplying 2 matrices of dimensions $(m\\times n)$ and $(n\\times p) = m\\times n\\times p$.\n",
    "- For `k = 0` to $n$:\n",
    "  - For all indexes `i = 0` to $n$:\n",
    "    - Create pair-intervals of $i$ to $i + k$ and calculate their individual cost.\n",
    "    - Set the value of the minimum cost in the cell $(i, i + k)$.\n",
    "- The value of cell $(0,0)$ is the answer.\n",
    "***\n",
    "## Function to create splits"
   ]
  },
  {
   "cell_type": "code",
   "execution_count": 1,
   "id": "ca917ee0-6333-4050-ac93-fec9c34e097e",
   "metadata": {},
   "outputs": [],
   "source": [
    "from typing import List, Tuple\n",
    "\n",
    "# function to split an interval\n",
    "def split_interval(i: int, j: int, verbose: bool = False) -> List[Tuple[int]]:\n",
    "    if verbose:\n",
    "        print(f\"\\nSplitting ({i}, {j})\")\n",
    "    splits = []\n",
    "    for k in range(i, j):\n",
    "        split = ((i, k), (k + 1, j))\n",
    "        splits.append(split)\n",
    "    return splits"
   ]
  },
  {
   "cell_type": "markdown",
   "id": "09ab035b-acb1-425b-aaa2-3374b0694f3f",
   "metadata": {},
   "source": [
    "## Function to get cost of multiplying 2 matrices"
   ]
  },
  {
   "cell_type": "code",
   "execution_count": 2,
   "id": "63edf4b1-1027-45b4-b32e-804b92684e17",
   "metadata": {},
   "outputs": [],
   "source": [
    "def getCost(m1: Tuple[int], m2: Tuple[int]) -> int:\n",
    "    if not m1[1] == m2[0]:\n",
    "        raise ValueError(\"Invalid matrix dimensions\")\n",
    "\n",
    "    return m1[0] * m1[1] * m2[1]"
   ]
  },
  {
   "cell_type": "code",
   "execution_count": 3,
   "id": "98ddf41e-2877-4723-97a2-e42bc6252fab",
   "metadata": {},
   "outputs": [],
   "source": [
    "from typing import List\n",
    "from IPython.display import display, HTML\n",
    "\n",
    "def displayTable(arr: List[List[int]]):\n",
    "    n = len(arr[0])\n",
    "    headers = f'''<thead><tr><td>&nbsp;</td>{''.join([f\"<td>{n - i}</td>\" for i in range(n)])}</tr></thead>'''\n",
    "    htmlData = \"<tbody>\"\n",
    "    for i in range(n):\n",
    "        data = f\"<tr><td>{i + 1}</td>\"\n",
    "        for cell in arr[i]:\n",
    "            t = cell\n",
    "            if cell == '':\n",
    "                t = \"&nbsp;\"\n",
    "            data += f\"<td>{t}</td>\"\n",
    "        data += \"</tr>\"\n",
    "        htmlData += data\n",
    "    htmlData += \"</tbody>\"\n",
    "    display(HTML(\n",
    "        f\"<table>{headers}{htmlData}</table><hr/>\"\n",
    "    ))"
   ]
  },
  {
   "cell_type": "code",
   "execution_count": 4,
   "id": "6e83bd5a-c245-4866-b5d0-7fff7f3f3935",
   "metadata": {},
   "outputs": [],
   "source": [
    "inf = float(\"inf\")\n",
    "\n",
    "class PartitionTable:\n",
    "    def __init__(self, matrices_: List[Tuple[int]]):\n",
    "        self.matrices = matrices_[:]\n",
    "        self.partition_table = []\n",
    "        self.table_size = len(matrices_)\n",
    "\n",
    "        # TODO: initialize the partition table\n",
    "        k = self.table_size\n",
    "        for i in range(self.table_size):\n",
    "            arr = []\n",
    "            for j in range(k):\n",
    "                arr.append(0)\n",
    "            k -= 1\n",
    "            self.partition_table.append(arr[:])\n",
    "\n",
    "        # function to map index to table\n",
    "        self.map_index = lambda x, y: (x - 1, self.table_size - y)\n",
    "\n",
    "    # setter function\n",
    "    def setValue(self, x_: int, y_: int, val_: str):\n",
    "        x, y = self.map_index(x_, y_)\n",
    "        self.partition_table[x][y] = val_\n",
    "\n",
    "    # getter function\n",
    "    def getValue(self, x_: int, y_: int) -> str:\n",
    "        x, y = self.map_index(x_, y_)\n",
    "        return self.partition_table[x][y]\n",
    "\n",
    "    # TODO: calculate cost of a partition\n",
    "    def getCompositeValue(self, partition: Tuple[Tuple[int]]) -> int:\n",
    "        cell1, cell2 = partition[0], partition[1]\n",
    "        matrix1 = self.matrices[cell1[0] - 1] if cell1[0] == cell1[1] else (\n",
    "            self.matrices[cell1[0] - 1][0], self.matrices[cell1[1] - 1][1]\n",
    "        )\n",
    "        matrix2 = self.matrices[cell2[0] - 1] if cell2[0] == cell2[1] else (\n",
    "            self.matrices[cell2[0] - 1][0], self.matrices[cell2[1] - 1][1]\n",
    "        )\n",
    "        cost = getCost(matrix1, matrix2)\n",
    "        value1 = self.getValue(cell1[0], cell1[1])\n",
    "        value2 = self.getValue(cell2[0], cell2[1])\n",
    "        return value1 + value2 + cost\n",
    "\n",
    "    def createValue(self, x_: int, y_: int, verbose: bool):\n",
    "        if x_ > y_ or not self.getValue(x_, y_) == 0:\n",
    "            return\n",
    "\n",
    "        if x_ == y_:\n",
    "            # self.setValue(x_, y_, 0)\n",
    "            return\n",
    "\n",
    "        currentValue = inf\n",
    "        splits = split_interval(x_, y_, verbose)\n",
    "        for split in splits:\n",
    "            value = self.getCompositeValue(split)\n",
    "            if verbose:\n",
    "                print(f\"Cost of split {split[0]} - {split[1]} = {value}\")\n",
    "            if value < currentValue:\n",
    "                currentValue = value\n",
    "\n",
    "        if verbose:\n",
    "            print(f\"Min. cost of ({x_}, {y_}) = {currentValue}\")\n",
    "        self.setValue(x_, y_, currentValue)\n",
    "\n",
    "    def __call__(self, verbose = False) -> int:\n",
    "        for k in range(1, self.table_size):\n",
    "            if verbose:\n",
    "                display(HTML(f\"<h2>Step:- {k}</h2>\"))\n",
    "            for i in range(1, self.table_size + 1):\n",
    "                start, end = i, i + k\n",
    "                if start > self.table_size or end > self.table_size:\n",
    "                    continue\n",
    "                self.createValue(start, end, verbose)\n",
    "            if verbose:\n",
    "                displayTable(self.partition_table)\n",
    "\n",
    "        return self.partition_table[0][0]"
   ]
  },
  {
   "cell_type": "markdown",
   "id": "20dd2810-aa6f-4012-ae3a-d52674546759",
   "metadata": {},
   "source": [
    "## Driver code 1"
   ]
  },
  {
   "cell_type": "code",
   "execution_count": 5,
   "id": "5b6818df-e8c8-478b-9dc1-5ccedbafa9d4",
   "metadata": {},
   "outputs": [
    {
     "data": {
      "text/html": [
       "<h2>Step:- 1</h2>"
      ],
      "text/plain": [
       "<IPython.core.display.HTML object>"
      ]
     },
     "metadata": {},
     "output_type": "display_data"
    },
    {
     "name": "stdout",
     "output_type": "stream",
     "text": [
      "\n",
      "Splitting (1, 2)\n",
      "Cost of split (1, 1) - (2, 2) = 6000\n",
      "Min. cost of (1, 2) = 6000\n",
      "\n",
      "Splitting (2, 3)\n",
      "Cost of split (2, 2) - (3, 3) = 24000\n",
      "Min. cost of (2, 3) = 24000\n",
      "\n",
      "Splitting (3, 4)\n",
      "Cost of split (3, 3) - (4, 4) = 60000\n",
      "Min. cost of (3, 4) = 60000\n"
     ]
    },
    {
     "data": {
      "text/html": [
       "<table><thead><tr><td>&nbsp;</td><td>4</td><td>3</td><td>2</td><td>1</td></tr></thead><tbody><tr><td>1</td><td>0</td><td>0</td><td>6000</td><td>0</td></tr><tr><td>2</td><td>0</td><td>24000</td><td>0</td></tr><tr><td>3</td><td>60000</td><td>0</td></tr><tr><td>4</td><td>0</td></tr></tbody></table><hr/>"
      ],
      "text/plain": [
       "<IPython.core.display.HTML object>"
      ]
     },
     "metadata": {},
     "output_type": "display_data"
    },
    {
     "data": {
      "text/html": [
       "<h2>Step:- 2</h2>"
      ],
      "text/plain": [
       "<IPython.core.display.HTML object>"
      ]
     },
     "metadata": {},
     "output_type": "display_data"
    },
    {
     "name": "stdout",
     "output_type": "stream",
     "text": [
      "\n",
      "Splitting (1, 3)\n",
      "Cost of split (1, 1) - (2, 3) = 32000\n",
      "Cost of split (1, 2) - (3, 3) = 18000\n",
      "Min. cost of (1, 3) = 18000\n",
      "\n",
      "Splitting (2, 4)\n",
      "Cost of split (2, 2) - (3, 4) = 90000\n",
      "Cost of split (2, 3) - (4, 4) = 64000\n",
      "Min. cost of (2, 4) = 64000\n"
     ]
    },
    {
     "data": {
      "text/html": [
       "<table><thead><tr><td>&nbsp;</td><td>4</td><td>3</td><td>2</td><td>1</td></tr></thead><tbody><tr><td>1</td><td>0</td><td>18000</td><td>6000</td><td>0</td></tr><tr><td>2</td><td>64000</td><td>24000</td><td>0</td></tr><tr><td>3</td><td>60000</td><td>0</td></tr><tr><td>4</td><td>0</td></tr></tbody></table><hr/>"
      ],
      "text/plain": [
       "<IPython.core.display.HTML object>"
      ]
     },
     "metadata": {},
     "output_type": "display_data"
    },
    {
     "data": {
      "text/html": [
       "<h2>Step:- 3</h2>"
      ],
      "text/plain": [
       "<IPython.core.display.HTML object>"
      ]
     },
     "metadata": {},
     "output_type": "display_data"
    },
    {
     "name": "stdout",
     "output_type": "stream",
     "text": [
      "\n",
      "Splitting (1, 4)\n",
      "Cost of split (1, 1) - (2, 4) = 74000\n",
      "Cost of split (1, 2) - (3, 4) = 81000\n",
      "Cost of split (1, 3) - (4, 4) = 38000\n",
      "Min. cost of (1, 4) = 38000\n"
     ]
    },
    {
     "data": {
      "text/html": [
       "<table><thead><tr><td>&nbsp;</td><td>4</td><td>3</td><td>2</td><td>1</td></tr></thead><tbody><tr><td>1</td><td>38000</td><td>18000</td><td>6000</td><td>0</td></tr><tr><td>2</td><td>64000</td><td>24000</td><td>0</td></tr><tr><td>3</td><td>60000</td><td>0</td></tr><tr><td>4</td><td>0</td></tr></tbody></table><hr/>"
      ],
      "text/plain": [
       "<IPython.core.display.HTML object>"
      ]
     },
     "metadata": {},
     "output_type": "display_data"
    },
    {
     "name": "stdout",
     "output_type": "stream",
     "text": [
      "Answer = 38000\n"
     ]
    }
   ],
   "source": [
    "matrices = [(10, 20), (20, 30), (30, 40), (40, 50)]\n",
    "\n",
    "solver = PartitionTable(matrices)\n",
    "print(f\"Answer = {solver(verbose = True)}\")"
   ]
  },
  {
   "cell_type": "markdown",
   "id": "5aeaeaf1-c708-44dd-8b57-749f446439a3",
   "metadata": {},
   "source": [
    "***\n",
    "## Driver code 2"
   ]
  },
  {
   "cell_type": "code",
   "execution_count": 6,
   "id": "a85e40ee-7a9d-46e4-bab1-83f983d7aabb",
   "metadata": {},
   "outputs": [
    {
     "data": {
      "text/html": [
       "<h2>Step:- 1</h2>"
      ],
      "text/plain": [
       "<IPython.core.display.HTML object>"
      ]
     },
     "metadata": {},
     "output_type": "display_data"
    },
    {
     "name": "stdout",
     "output_type": "stream",
     "text": [
      "\n",
      "Splitting (1, 2)\n",
      "Cost of split (1, 1) - (2, 2) = 150\n",
      "Min. cost of (1, 2) = 150\n",
      "\n",
      "Splitting (2, 3)\n",
      "Cost of split (2, 2) - (3, 3) = 360\n",
      "Min. cost of (2, 3) = 360\n",
      "\n",
      "Splitting (3, 4)\n",
      "Cost of split (3, 3) - (4, 4) = 180\n",
      "Min. cost of (3, 4) = 180\n"
     ]
    },
    {
     "data": {
      "text/html": [
       "<table><thead><tr><td>&nbsp;</td><td>4</td><td>3</td><td>2</td><td>1</td></tr></thead><tbody><tr><td>1</td><td>0</td><td>0</td><td>150</td><td>0</td></tr><tr><td>2</td><td>0</td><td>360</td><td>0</td></tr><tr><td>3</td><td>180</td><td>0</td></tr><tr><td>4</td><td>0</td></tr></tbody></table><hr/>"
      ],
      "text/plain": [
       "<IPython.core.display.HTML object>"
      ]
     },
     "metadata": {},
     "output_type": "display_data"
    },
    {
     "data": {
      "text/html": [
       "<h2>Step:- 2</h2>"
      ],
      "text/plain": [
       "<IPython.core.display.HTML object>"
      ]
     },
     "metadata": {},
     "output_type": "display_data"
    },
    {
     "name": "stdout",
     "output_type": "stream",
     "text": [
      "\n",
      "Splitting (1, 3)\n",
      "Cost of split (1, 1) - (2, 3) = 960\n",
      "Cost of split (1, 2) - (3, 3) = 330\n",
      "Min. cost of (1, 3) = 330\n",
      "\n",
      "Splitting (2, 4)\n",
      "Cost of split (2, 2) - (3, 4) = 330\n",
      "Cost of split (2, 3) - (4, 4) = 960\n",
      "Min. cost of (2, 4) = 330\n"
     ]
    },
    {
     "data": {
      "text/html": [
       "<table><thead><tr><td>&nbsp;</td><td>4</td><td>3</td><td>2</td><td>1</td></tr></thead><tbody><tr><td>1</td><td>0</td><td>330</td><td>150</td><td>0</td></tr><tr><td>2</td><td>330</td><td>360</td><td>0</td></tr><tr><td>3</td><td>180</td><td>0</td></tr><tr><td>4</td><td>0</td></tr></tbody></table><hr/>"
      ],
      "text/plain": [
       "<IPython.core.display.HTML object>"
      ]
     },
     "metadata": {},
     "output_type": "display_data"
    },
    {
     "data": {
      "text/html": [
       "<h2>Step:- 3</h2>"
      ],
      "text/plain": [
       "<IPython.core.display.HTML object>"
      ]
     },
     "metadata": {},
     "output_type": "display_data"
    },
    {
     "name": "stdout",
     "output_type": "stream",
     "text": [
      "\n",
      "Splitting (1, 4)\n",
      "Cost of split (1, 1) - (2, 4) = 580\n",
      "Cost of split (1, 2) - (3, 4) = 405\n",
      "Cost of split (1, 3) - (4, 4) = 630\n",
      "Min. cost of (1, 4) = 405\n"
     ]
    },
    {
     "data": {
      "text/html": [
       "<table><thead><tr><td>&nbsp;</td><td>4</td><td>3</td><td>2</td><td>1</td></tr></thead><tbody><tr><td>1</td><td>405</td><td>330</td><td>150</td><td>0</td></tr><tr><td>2</td><td>330</td><td>360</td><td>0</td></tr><tr><td>3</td><td>180</td><td>0</td></tr><tr><td>4</td><td>0</td></tr></tbody></table><hr/>"
      ],
      "text/plain": [
       "<IPython.core.display.HTML object>"
      ]
     },
     "metadata": {},
     "output_type": "display_data"
    },
    {
     "name": "stdout",
     "output_type": "stream",
     "text": [
      "Answer = 405\n"
     ]
    }
   ],
   "source": [
    "matrices = [(5, 10), (10, 3), (3, 12), (12, 5)]\n",
    "\n",
    "solver = PartitionTable(matrices)\n",
    "print(f\"Answer = {solver(verbose = True)}\")"
   ]
  },
  {
   "cell_type": "markdown",
   "id": "65a3c131-d515-44ad-8510-77f5006f4309",
   "metadata": {},
   "source": [
    "***\n",
    "## Driver code 3"
   ]
  },
  {
   "cell_type": "code",
   "execution_count": 7,
   "id": "0e8634bd-6379-4b26-9621-bf584bbdffe7",
   "metadata": {},
   "outputs": [
    {
     "data": {
      "text/html": [
       "<h2>Step:- 1</h2>"
      ],
      "text/plain": [
       "<IPython.core.display.HTML object>"
      ]
     },
     "metadata": {},
     "output_type": "display_data"
    },
    {
     "name": "stdout",
     "output_type": "stream",
     "text": [
      "\n",
      "Splitting (1, 2)\n",
      "Cost of split (1, 1) - (2, 2) = 120\n",
      "Min. cost of (1, 2) = 120\n",
      "\n",
      "Splitting (2, 3)\n",
      "Cost of split (2, 2) - (3, 3) = 48\n",
      "Min. cost of (2, 3) = 48\n",
      "\n",
      "Splitting (3, 4)\n",
      "Cost of split (3, 3) - (4, 4) = 84\n",
      "Min. cost of (3, 4) = 84\n",
      "\n",
      "Splitting (4, 5)\n",
      "Cost of split (4, 4) - (5, 5) = 42\n",
      "Min. cost of (4, 5) = 42\n"
     ]
    },
    {
     "data": {
      "text/html": [
       "<table><thead><tr><td>&nbsp;</td><td>5</td><td>4</td><td>3</td><td>2</td><td>1</td></tr></thead><tbody><tr><td>1</td><td>0</td><td>0</td><td>0</td><td>120</td><td>0</td></tr><tr><td>2</td><td>0</td><td>0</td><td>48</td><td>0</td></tr><tr><td>3</td><td>0</td><td>84</td><td>0</td></tr><tr><td>4</td><td>42</td><td>0</td></tr><tr><td>5</td><td>0</td></tr></tbody></table><hr/>"
      ],
      "text/plain": [
       "<IPython.core.display.HTML object>"
      ]
     },
     "metadata": {},
     "output_type": "display_data"
    },
    {
     "data": {
      "text/html": [
       "<h2>Step:- 2</h2>"
      ],
      "text/plain": [
       "<IPython.core.display.HTML object>"
      ]
     },
     "metadata": {},
     "output_type": "display_data"
    },
    {
     "name": "stdout",
     "output_type": "stream",
     "text": [
      "\n",
      "Splitting (1, 3)\n",
      "Cost of split (1, 1) - (2, 3) = 88\n",
      "Cost of split (1, 2) - (3, 3) = 180\n",
      "Min. cost of (1, 3) = 88\n",
      "\n",
      "Splitting (2, 4)\n",
      "Cost of split (2, 2) - (3, 4) = 252\n",
      "Cost of split (2, 3) - (4, 4) = 104\n",
      "Min. cost of (2, 4) = 104\n",
      "\n",
      "Splitting (3, 5)\n",
      "Cost of split (3, 3) - (4, 5) = 78\n",
      "Cost of split (3, 4) - (5, 5) = 210\n",
      "Min. cost of (3, 5) = 78\n"
     ]
    },
    {
     "data": {
      "text/html": [
       "<table><thead><tr><td>&nbsp;</td><td>5</td><td>4</td><td>3</td><td>2</td><td>1</td></tr></thead><tbody><tr><td>1</td><td>0</td><td>0</td><td>88</td><td>120</td><td>0</td></tr><tr><td>2</td><td>0</td><td>104</td><td>48</td><td>0</td></tr><tr><td>3</td><td>78</td><td>84</td><td>0</td></tr><tr><td>4</td><td>42</td><td>0</td></tr><tr><td>5</td><td>0</td></tr></tbody></table><hr/>"
      ],
      "text/plain": [
       "<IPython.core.display.HTML object>"
      ]
     },
     "metadata": {},
     "output_type": "display_data"
    },
    {
     "data": {
      "text/html": [
       "<h2>Step:- 3</h2>"
      ],
      "text/plain": [
       "<IPython.core.display.HTML object>"
      ]
     },
     "metadata": {},
     "output_type": "display_data"
    },
    {
     "name": "stdout",
     "output_type": "stream",
     "text": [
      "\n",
      "Splitting (1, 4)\n",
      "Cost of split (1, 1) - (2, 4) = 244\n",
      "Cost of split (1, 2) - (3, 4) = 414\n",
      "Cost of split (1, 3) - (4, 4) = 158\n",
      "Min. cost of (1, 4) = 158\n",
      "\n",
      "Splitting (2, 5)\n",
      "Cost of split (2, 2) - (3, 5) = 150\n",
      "Cost of split (2, 3) - (4, 5) = 114\n",
      "Cost of split (2, 4) - (5, 5) = 188\n",
      "Min. cost of (2, 5) = 114\n"
     ]
    },
    {
     "data": {
      "text/html": [
       "<table><thead><tr><td>&nbsp;</td><td>5</td><td>4</td><td>3</td><td>2</td><td>1</td></tr></thead><tbody><tr><td>1</td><td>0</td><td>158</td><td>88</td><td>120</td><td>0</td></tr><tr><td>2</td><td>114</td><td>104</td><td>48</td><td>0</td></tr><tr><td>3</td><td>78</td><td>84</td><td>0</td></tr><tr><td>4</td><td>42</td><td>0</td></tr><tr><td>5</td><td>0</td></tr></tbody></table><hr/>"
      ],
      "text/plain": [
       "<IPython.core.display.HTML object>"
      ]
     },
     "metadata": {},
     "output_type": "display_data"
    },
    {
     "data": {
      "text/html": [
       "<h2>Step:- 4</h2>"
      ],
      "text/plain": [
       "<IPython.core.display.HTML object>"
      ]
     },
     "metadata": {},
     "output_type": "display_data"
    },
    {
     "name": "stdout",
     "output_type": "stream",
     "text": [
      "\n",
      "Splitting (1, 5)\n",
      "Cost of split (1, 1) - (2, 5) = 174\n",
      "Cost of split (1, 2) - (3, 5) = 288\n",
      "Cost of split (1, 3) - (4, 5) = 160\n",
      "Cost of split (1, 4) - (5, 5) = 263\n",
      "Min. cost of (1, 5) = 160\n"
     ]
    },
    {
     "data": {
      "text/html": [
       "<table><thead><tr><td>&nbsp;</td><td>5</td><td>4</td><td>3</td><td>2</td><td>1</td></tr></thead><tbody><tr><td>1</td><td>160</td><td>158</td><td>88</td><td>120</td><td>0</td></tr><tr><td>2</td><td>114</td><td>104</td><td>48</td><td>0</td></tr><tr><td>3</td><td>78</td><td>84</td><td>0</td></tr><tr><td>4</td><td>42</td><td>0</td></tr><tr><td>5</td><td>0</td></tr></tbody></table><hr/>"
      ],
      "text/plain": [
       "<IPython.core.display.HTML object>"
      ]
     },
     "metadata": {},
     "output_type": "display_data"
    },
    {
     "name": "stdout",
     "output_type": "stream",
     "text": [
      "Answer = 160\n"
     ]
    }
   ],
   "source": [
    "matrices = [(5,4),(4,6),(6,2),(2,7),(7,3)]\n",
    "\n",
    "solver = PartitionTable(matrices)\n",
    "print(f\"Answer = {solver(verbose = True)}\")"
   ]
  },
  {
   "cell_type": "markdown",
   "id": "387cfac9-182b-4a0c-906f-701a5006f02f",
   "metadata": {},
   "source": [
    "***"
   ]
  }
 ],
 "metadata": {
  "kernelspec": {
   "display_name": "Python kernel developed by Saptarshi Dey",
   "language": "python",
   "name": "python3"
  },
  "language_info": {
   "codemirror_mode": {
    "name": "ipython",
    "version": 3
   },
   "file_extension": ".py",
   "mimetype": "text/x-python",
   "name": "python",
   "nbconvert_exporter": "python",
   "pygments_lexer": "ipython3",
   "version": "3.8.10"
  },
  "widgets": {
   "application/vnd.jupyter.widget-state+json": {
    "state": {},
    "version_major": 2,
    "version_minor": 0
   }
  }
 },
 "nbformat": 4,
 "nbformat_minor": 5
}
