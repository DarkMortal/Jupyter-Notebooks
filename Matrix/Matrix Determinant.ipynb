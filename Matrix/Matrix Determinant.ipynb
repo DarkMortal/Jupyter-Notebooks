{
 "cells": [
  {
   "cell_type": "markdown",
   "id": "df22eacb",
   "metadata": {},
   "source": [
    "# Algorithm to find Determinant of a Matrix\n",
    "\n",
    "## The idea is to first convert the given matrix to echelon form and then take the product of the diagonal elements"
   ]
  },
  {
   "cell_type": "code",
   "execution_count": 1,
   "id": "48adf436",
   "metadata": {},
   "outputs": [],
   "source": [
    "def det(mat):\n",
    "    if len(mat) != len(mat[0]):\n",
    "        raise ArithmeticError(\"Parameter must be a square matrix\")\n",
    "    if len(mat) == 1:\n",
    "        return mat[0]\n",
    "    if len(mat) == 2:\n",
    "        return mat[0][0]*mat[1][1]-mat[0][1]*mat[1][0]\n",
    "    \n",
    "    factor = 1.0\n",
    "    \n",
    "    # copying the contents of matrix in a seperate array\n",
    "    x = [row[:] for row in mat]\n",
    "    \n",
    "    while len(x)>2:\n",
    "        # in case the first element of the matrix is 0\n",
    "        # we swap the row with another row whose first element is not 0\n",
    "        if x[0][0] == 0.0:\n",
    "            for i in range(len(x)):\n",
    "\n",
    "                # if we find such a row, we swap it with the first row and the factor becomes -1\n",
    "                if x[i][0] != 0:\n",
    "                    for j in range(len(x)):\n",
    "                        temp = x[i][j]\n",
    "                        x[i][j] = x[0][j]\n",
    "                        x[0][j] = temp\n",
    "                    factor *= -1.0\n",
    "                    break\n",
    "\n",
    "                # if we reach the end of the matrix and still don't find a suitable row, we return 0\n",
    "                if x[i][0] == 0 and i==len(x)-1:\n",
    "                    return 0\n",
    "        \n",
    "        factor *= x[0][0]\n",
    "        arr = []\n",
    "        for i in range(1,len(x)):\n",
    "            tempArr = []\n",
    "            for j in range(1,len(x)):\n",
    "                tempArr.append(x[i][j]-x[0][j]*x[i][0]/x[0][0])\n",
    "            arr.append(tempArr[:])\n",
    "        x = [row[:] for row in arr]\n",
    "        \n",
    "    # at the end of the loop the size of x is always 2, so we can directly compute the result\n",
    "    return factor*(x[0][0]*x[1][1]-x[0][1]*x[1][0])"
   ]
  },
  {
   "cell_type": "markdown",
   "id": "622e1785",
   "metadata": {},
   "source": [
    "## These are the matrices on which we will test the algorithm"
   ]
  },
  {
   "cell_type": "code",
   "execution_count": 2,
   "id": "4c01e960",
   "metadata": {},
   "outputs": [],
   "source": [
    "mat1 = [\n",
    "    [2.0,5.0,1.0],\n",
    "    [0.0,3.0,2.0],\n",
    "    [0.0,0.0,4.0]\n",
    "]\n",
    "\n",
    "mat2 = [\n",
    "    [5.0,2.0,3.0,1.0],\n",
    "    [7.0,6.0,4.0,2.0],\n",
    "    [5.0,6.0,7.0,5.0],\n",
    "    [5.0,7.0,9.0,7.0]\n",
    "]"
   ]
  },
  {
   "cell_type": "markdown",
   "id": "63b7a4a9",
   "metadata": {},
   "source": [
    "## Driver Code"
   ]
  },
  {
   "cell_type": "code",
   "execution_count": 3,
   "id": "2988664b",
   "metadata": {},
   "outputs": [
    {
     "name": "stdout",
     "output_type": "stream",
     "text": [
      "24.0\n",
      "16.0\n"
     ]
    }
   ],
   "source": [
    "if __name__ == \"__main__\":    \n",
    "    print(det(mat1))\n",
    "    print(det(mat2))"
   ]
  },
  {
   "cell_type": "markdown",
   "id": "1014672c",
   "metadata": {},
   "source": [
    "## Now we'll check if our calculations are correct, using numpy"
   ]
  },
  {
   "cell_type": "code",
   "execution_count": 4,
   "id": "cd8c6478",
   "metadata": {},
   "outputs": [
    {
     "name": "stdout",
     "output_type": "stream",
     "text": [
      "23.999999999999993 15.999999999999913\n"
     ]
    }
   ],
   "source": [
    "import numpy as np\n",
    "\n",
    "# converting into numpy array\n",
    "nmat1 = np.array(mat1)\n",
    "nmat2 = np.array(mat2)\n",
    "\n",
    "# computing determinant\n",
    "det1 = np.linalg.det(nmat1)\n",
    "det2 = np.linalg.det(nmat2)\n",
    "print(det1,det2)"
   ]
  },
  {
   "cell_type": "markdown",
   "id": "c0522bb8-d3c3-4447-bb7d-3b46a4cae14c",
   "metadata": {},
   "source": [
    "***"
   ]
  }
 ],
 "metadata": {
  "kernelspec": {
   "display_name": "Python 3 (ipykernel)",
   "language": "python",
   "name": "python3"
  },
  "language_info": {
   "codemirror_mode": {
    "name": "ipython",
    "version": 3
   },
   "file_extension": ".py",
   "mimetype": "text/x-python",
   "name": "python",
   "nbconvert_exporter": "python",
   "pygments_lexer": "ipython3",
   "version": "3.8.10"
  }
 },
 "nbformat": 4,
 "nbformat_minor": 5
}
