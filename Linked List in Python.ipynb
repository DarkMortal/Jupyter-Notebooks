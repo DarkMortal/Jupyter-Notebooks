{
 "cells": [
  {
   "cell_type": "markdown",
   "id": "27572f79",
   "metadata": {},
   "source": [
    "- ## You are given two non-empty linked lists representing two non-negative integers.\n",
    "- ## The digits are stored in reverse order, and each of their nodes contains a single digit. \n",
    "- ## Add the two numbers and return the sum as a linked list.\n",
    "- ## You may assume the two numbers do not contain any leading zero, except the number 0 itself."
   ]
  },
  {
   "cell_type": "markdown",
   "id": "333a2e04",
   "metadata": {},
   "source": [
    "### Definition for singly-linked list."
   ]
  },
  {
   "cell_type": "code",
   "execution_count": 12,
   "id": "13395388",
   "metadata": {},
   "outputs": [],
   "source": [
    "class ListNode(object):\n",
    "    def __init__(self, val=0, next=None):\n",
    "        self.val = val\n",
    "        self.next = next"
   ]
  },
  {
   "cell_type": "markdown",
   "id": "f23de5b8",
   "metadata": {},
   "source": [
    "### For displaying the contents of the linked list as string"
   ]
  },
  {
   "cell_type": "code",
   "execution_count": 13,
   "id": "c3496e3f",
   "metadata": {},
   "outputs": [],
   "source": [
    "def disp(l):\n",
    "    s = ''\n",
    "    c = l\n",
    "    while c.next != None:\n",
    "        s = str(c.val)+s\n",
    "        c = c.next\n",
    "    s = str(c.val)+s\n",
    "    return s"
   ]
  },
  {
   "cell_type": "markdown",
   "id": "00bdfcc7",
   "metadata": {},
   "source": [
    "### Definition of Solution class"
   ]
  },
  {
   "cell_type": "code",
   "execution_count": 14,
   "id": "5d9f5a3f",
   "metadata": {},
   "outputs": [],
   "source": [
    "class Solution(object):\n",
    "    def addTwoNumbers(self, l1, l2):\n",
    "        r = l1.val + l2.val\n",
    "        carry = int(r/10)\n",
    "        resL = ListNode(r%10,ListNode(0))\n",
    "        currentL = resL.next\n",
    "        next1 = l1.next\n",
    "        next2 = l2.next\n",
    "        while next1.next!=None and next2.next!=None:\n",
    "            r = next1.val + next2.val + carry\n",
    "            carry = int(r/10)\n",
    "            currentL.value = r%10\n",
    "            currentL.next = ListNode(0)\n",
    "            currentL = currentL.next\n",
    "            next1 = next1.next\n",
    "            next2 = next2.next\n",
    "        if next1.next!=None:\n",
    "            while next1.next!=None:\n",
    "                r = next1.val + carry\n",
    "                carry = int(r/10)\n",
    "                currentL.value = r%10\n",
    "                currentL.next = ListNode(0)\n",
    "                currentL = currentL.next\n",
    "                next1 = next1.next\n",
    "        if next2.next!=None:\n",
    "            while next2.next!=None:\n",
    "                r = next2.val + carry\n",
    "                carry = int(r/10)\n",
    "                currentL.value = r%10\n",
    "                currentL.next = ListNode(0)\n",
    "                currentL = currentL.next\n",
    "                next2 = next2.next\n",
    "        r = next1.val + next2.val + carry\n",
    "        if r>=10:\n",
    "            currentL.val = r%10\n",
    "            currentL.next = ListNode(int(r/10))\n",
    "        else:\n",
    "            currentL.val = r\n",
    "        return resL"
   ]
  },
  {
   "cell_type": "markdown",
   "id": "f894f2ce",
   "metadata": {},
   "source": [
    "### Driver Code"
   ]
  },
  {
   "cell_type": "code",
   "execution_count": 15,
   "id": "e338365b",
   "metadata": {},
   "outputs": [
    {
     "name": "stdout",
     "output_type": "stream",
     "text": [
      "742\n",
      "465\n",
      "1207\n"
     ]
    }
   ],
   "source": [
    "if __name__==\"__main__\":\n",
    "    l1 = ListNode(val= 2, next= ListNode(val= 4, next= ListNode(val= 7, next= None)))\n",
    "    l2 = ListNode(val= 5, next= ListNode(val= 6, next= ListNode(val= 4, next= None)))\n",
    "    l3 = Solution().addTwoNumbers(l1,l2)\n",
    "    \n",
    "    print(disp(l1))\n",
    "    print(disp(l2))\n",
    "    print(disp(l3))"
   ]
  },
  {
   "cell_type": "code",
   "execution_count": null,
   "id": "d0c5906e",
   "metadata": {},
   "outputs": [],
   "source": []
  }
 ],
 "metadata": {
  "kernelspec": {
   "display_name": "Python 3 (ipykernel)",
   "language": "python",
   "name": "python3"
  },
  "language_info": {
   "codemirror_mode": {
    "name": "ipython",
    "version": 3
   },
   "file_extension": ".py",
   "mimetype": "text/x-python",
   "name": "python",
   "nbconvert_exporter": "python",
   "pygments_lexer": "ipython3",
   "version": "3.8.10"
  }
 },
 "nbformat": 4,
 "nbformat_minor": 5
}
